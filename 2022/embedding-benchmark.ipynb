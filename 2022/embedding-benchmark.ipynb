{
 "cells": [
  {
   "cell_type": "code",
   "execution_count": 1,
   "id": "7ad95a9d",
   "metadata": {},
   "outputs": [],
   "source": [
    "import torch\n",
    "\n",
    "embedding1 = torch.nn.Embedding(28996, 768, padding_idx=0, device='cuda')\n",
    "embedding2 = torch.nn.Embedding(512, 768, device='cuda')\n",
    "embedding3 = torch.nn.Embedding(2, 768, device='cuda')\n",
    "\n",
    "input1 = torch.randint(embedding1.num_embeddings, (32, 128), dtype=torch.long, device='cuda')\n",
    "input2 = torch.randint(embedding2.num_embeddings, (32, 128), dtype=torch.long, device='cuda')\n",
    "input3 = torch.randint(embedding3.num_embeddings, (32, 128), dtype=torch.long, device='cuda')\n",
    "\n",
    "for _ in range(100):\n",
    "    torch.arange(1000000, device='cuda')\n",
    "    \n",
    "def run50sync(f):\n",
    "    for _ in range(50):\n",
    "        f()\n",
    "    torch.cuda.synchronize()\n",
    "\n",
    "def benchmark():\n",
    "    torch.cuda.synchronize()\n",
    "    %timeit run50sync(lambda: embedding1(input1).sum().backward())\n",
    "    torch.cuda.synchronize()\n",
    "    %timeit run50sync(lambda: embedding2(input2).sum().backward())\n",
    "    torch.cuda.synchronize()\n",
    "    %timeit run50sync(lambda: embedding3(input3).sum().backward())"
   ]
  },
  {
   "cell_type": "markdown",
   "id": "c60245cb",
   "metadata": {},
   "source": [
    "# This PR"
   ]
  },
  {
   "cell_type": "code",
   "execution_count": 2,
   "id": "b9eb9d16",
   "metadata": {},
   "outputs": [
    {
     "name": "stdout",
     "output_type": "stream",
     "text": [
      "4214bd808e136baec1e6aad7c16f975772370aca\n",
      "33.9 ms ± 19.4 µs per loop (mean ± std. dev. of 7 runs, 10 loops each)\n",
      "13.4 ms ± 1.95 ms per loop (mean ± std. dev. of 7 runs, 100 loops each)\n",
      "11.1 ms ± 31.9 µs per loop (mean ± std. dev. of 7 runs, 100 loops each)\n"
     ]
    }
   ],
   "source": [
    "print(torch.version.git_version)\n",
    "benchmark()"
   ]
  },
  {
   "cell_type": "markdown",
   "id": "a04aeff9",
   "metadata": {},
   "source": [
    "# Master"
   ]
  },
  {
   "cell_type": "code",
   "execution_count": 2,
   "id": "2d35564e",
   "metadata": {},
   "outputs": [
    {
     "name": "stdout",
     "output_type": "stream",
     "text": [
      "fcb7e528d986fb4df148a43959cd25fe3cfa5842\n",
      "36.5 ms ± 38.3 µs per loop (mean ± std. dev. of 7 runs, 10 loops each)\n",
      "19 ms ± 225 µs per loop (mean ± std. dev. of 7 runs, 100 loops each)\n",
      "18 ms ± 538 µs per loop (mean ± std. dev. of 7 runs, 100 loops each)\n"
     ]
    }
   ],
   "source": [
    "print(torch.version.git_version)\n",
    "benchmark()"
   ]
  },
  {
   "cell_type": "code",
   "execution_count": null,
   "id": "c07b57d1",
   "metadata": {},
   "outputs": [],
   "source": []
  }
 ],
 "metadata": {
  "kernelspec": {
   "display_name": "Python 3",
   "language": "python",
   "name": "python3"
  },
  "language_info": {
   "codemirror_mode": {
    "name": "ipython",
    "version": 3
   },
   "file_extension": ".py",
   "mimetype": "text/x-python",
   "name": "python",
   "nbconvert_exporter": "python",
   "pygments_lexer": "ipython3",
   "version": "3.10.2"
  }
 },
 "nbformat": 4,
 "nbformat_minor": 5
}
