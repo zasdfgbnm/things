{
 "cells": [
  {
   "cell_type": "code",
   "execution_count": 6,
   "id": "93c2971e",
   "metadata": {},
   "outputs": [
    {
     "name": "stdout",
     "output_type": "stream",
     "text": [
      "0j\n",
      "torch.isinf tensor(False)\n",
      "numpy.isinf False\n",
      "torch.isnan tensor(False)\n",
      "numpy.isnan False\n",
      "--------------------\n",
      "infj\n",
      "torch.isinf tensor(True)\n",
      "numpy.isinf True\n",
      "torch.isnan tensor(False)\n",
      "numpy.isnan False\n",
      "--------------------\n",
      "-infj\n",
      "torch.isinf tensor(True)\n",
      "numpy.isinf True\n",
      "torch.isnan tensor(False)\n",
      "numpy.isnan False\n",
      "--------------------\n",
      "nanj\n",
      "torch.isinf tensor(False)\n",
      "numpy.isinf False\n",
      "torch.isnan tensor(True)\n",
      "numpy.isnan True\n",
      "--------------------\n",
      "(inf+0j)\n",
      "torch.isinf tensor(True)\n",
      "numpy.isinf True\n",
      "torch.isnan tensor(False)\n",
      "numpy.isnan False\n",
      "--------------------\n",
      "(inf+infj)\n",
      "torch.isinf tensor(True)\n",
      "numpy.isinf True\n",
      "torch.isnan tensor(False)\n",
      "numpy.isnan False\n",
      "--------------------\n",
      "(inf-infj)\n",
      "torch.isinf tensor(True)\n",
      "numpy.isinf True\n",
      "torch.isnan tensor(False)\n",
      "numpy.isnan False\n",
      "--------------------\n",
      "(inf+nanj)\n",
      "torch.isinf tensor(True)\n",
      "numpy.isinf True\n",
      "torch.isnan tensor(True)\n",
      "numpy.isnan True\n",
      "--------------------\n",
      "(-inf+0j)\n",
      "torch.isinf tensor(True)\n",
      "numpy.isinf True\n",
      "torch.isnan tensor(False)\n",
      "numpy.isnan False\n",
      "--------------------\n",
      "(-inf+infj)\n",
      "torch.isinf tensor(True)\n",
      "numpy.isinf True\n",
      "torch.isnan tensor(False)\n",
      "numpy.isnan False\n",
      "--------------------\n",
      "(-inf-infj)\n",
      "torch.isinf tensor(True)\n",
      "numpy.isinf True\n",
      "torch.isnan tensor(False)\n",
      "numpy.isnan False\n",
      "--------------------\n",
      "(-inf+nanj)\n",
      "torch.isinf tensor(True)\n",
      "numpy.isinf True\n",
      "torch.isnan tensor(True)\n",
      "numpy.isnan True\n",
      "--------------------\n",
      "(nan+0j)\n",
      "torch.isinf tensor(False)\n",
      "numpy.isinf False\n",
      "torch.isnan tensor(True)\n",
      "numpy.isnan True\n",
      "--------------------\n",
      "(nan+infj)\n",
      "torch.isinf tensor(True)\n",
      "numpy.isinf True\n",
      "torch.isnan tensor(True)\n",
      "numpy.isnan True\n",
      "--------------------\n",
      "(nan-infj)\n",
      "torch.isinf tensor(True)\n",
      "numpy.isinf True\n",
      "torch.isnan tensor(True)\n",
      "numpy.isnan True\n",
      "--------------------\n",
      "(nan+nanj)\n",
      "torch.isinf tensor(False)\n",
      "numpy.isinf False\n",
      "torch.isnan tensor(True)\n",
      "numpy.isnan True\n",
      "--------------------\n"
     ]
    }
   ],
   "source": [
    "import torch\n",
    "import numpy\n",
    "import math\n",
    "vals = [0, math.inf, -math.inf, math.nan]\n",
    "for x in vals:\n",
    "    for y in vals:\n",
    "        v = complex(x, y)\n",
    "        t = torch.tensor(v)\n",
    "        a = numpy.array(v)\n",
    "        print(v)\n",
    "        print(\"torch.isinf\", torch.isinf(t))\n",
    "        print(\"numpy.isinf\", numpy.isinf(a))\n",
    "        print(\"torch.isnan\", torch.isnan(t))\n",
    "        print(\"numpy.isnan\", numpy.isnan(a))\n",
    "#         print(\"torch.isposinf\", torch.isposinf(t))\n",
    "#         print(\"numpy.isposinf\", numpy.isposinf(a))\n",
    "#         print(\"torch.isposinf\", torch.isneginf(t))\n",
    "#         print(\"numpy.isposinf\", numpy.isneginf(a))\n",
    "        print('-' * 20)"
   ]
  },
  {
   "cell_type": "code",
   "execution_count": 7,
   "id": "95785a39",
   "metadata": {},
   "outputs": [
    {
     "data": {
      "text/plain": [
       "tensor(1.)"
      ]
     },
     "execution_count": 7,
     "metadata": {},
     "output_type": "execute_result"
    }
   ],
   "source": [
    "torch.real(torch.tensor(1+1j))"
   ]
  },
  {
   "cell_type": "code",
   "execution_count": 10,
   "id": "fde09adc",
   "metadata": {},
   "outputs": [
    {
     "data": {
      "text/plain": [
       "array(True)"
      ]
     },
     "execution_count": 10,
     "metadata": {},
     "output_type": "execute_result"
    }
   ],
   "source": [
    "a = numpy.array(True)\n",
    "a"
   ]
  },
  {
   "cell_type": "code",
   "execution_count": 12,
   "id": "4dcfb85f",
   "metadata": {},
   "outputs": [
    {
     "data": {
      "text/plain": [
       "dtype('int8')"
      ]
     },
     "execution_count": 12,
     "metadata": {},
     "output_type": "execute_result"
    }
   ],
   "source": [
    "(numpy.square(a)).dtype"
   ]
  },
  {
   "cell_type": "code",
   "execution_count": 3,
   "id": "27936c3f",
   "metadata": {},
   "outputs": [
    {
     "name": "stdout",
     "output_type": "stream",
     "text": [
      "tensor(nan)\n"
     ]
    }
   ],
   "source": [
    "import torch\n",
    "\n",
    "t1 = torch.tensor(2**32-1, dtype=torch.int).view(torch.float)\n",
    "print(t1)"
   ]
  },
  {
   "cell_type": "code",
   "execution_count": 5,
   "id": "148d2773",
   "metadata": {},
   "outputs": [
    {
     "ename": "RuntimeError",
     "evalue": "value cannot be converted to type int without overflow",
     "output_type": "error",
     "traceback": [
      "\u001b[0;31m---------------------------------------------------------------------------\u001b[0m",
      "\u001b[0;31mRuntimeError\u001b[0m                              Traceback (most recent call last)",
      "Input \u001b[0;32mIn [5]\u001b[0m, in \u001b[0;36m<cell line: 2>\u001b[0;34m()\u001b[0m\n\u001b[1;32m      1\u001b[0m t \u001b[38;5;241m=\u001b[39m torch\u001b[38;5;241m.\u001b[39mzeros(\u001b[38;5;241m5\u001b[39m, dtype\u001b[38;5;241m=\u001b[39mtorch\u001b[38;5;241m.\u001b[39mint)\n\u001b[0;32m----> 2\u001b[0m \u001b[43mtorch\u001b[49m\u001b[38;5;241;43m.\u001b[39;49m\u001b[43meq\u001b[49m\u001b[43m(\u001b[49m\u001b[43mt\u001b[49m\u001b[43m,\u001b[49m\u001b[43m \u001b[49m\u001b[38;5;28;43mfloat\u001b[39;49m\u001b[43m(\u001b[49m\u001b[38;5;124;43m'\u001b[39;49m\u001b[38;5;124;43minf\u001b[39;49m\u001b[38;5;124;43m'\u001b[39;49m\u001b[43m)\u001b[49m\u001b[43m)\u001b[49m\n",
      "\u001b[0;31mRuntimeError\u001b[0m: value cannot be converted to type int without overflow"
     ]
    }
   ],
   "source": [
    "t = torch.zeros(5, dtype=torch.int)\n",
    "torch.eq(t, float('inf'))"
   ]
  },
  {
   "cell_type": "code",
   "execution_count": null,
   "id": "cd5f6a35",
   "metadata": {},
   "outputs": [],
   "source": []
  }
 ],
 "metadata": {
  "kernelspec": {
   "display_name": "Python 3",
   "language": "python",
   "name": "python3"
  },
  "language_info": {
   "codemirror_mode": {
    "name": "ipython",
    "version": 3
   },
   "file_extension": ".py",
   "mimetype": "text/x-python",
   "name": "python",
   "nbconvert_exporter": "python",
   "pygments_lexer": "ipython3",
   "version": "3.10.4"
  }
 },
 "nbformat": 4,
 "nbformat_minor": 5
}
