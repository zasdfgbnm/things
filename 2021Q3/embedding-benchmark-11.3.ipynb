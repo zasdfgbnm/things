{
 "cells": [
  {
   "cell_type": "markdown",
   "metadata": {},
   "source": [
    "# Before"
   ]
  },
  {
   "cell_type": "code",
   "execution_count": null,
   "metadata": {},
   "outputs": [
    {
     "name": "stdout",
     "output_type": "stream",
     "text": [
      "Embedding size: 119547, Tokens: 4096, Hidden size: 512\n",
      "1.43 ms ± 11.3 µs per loop (mean ± std. dev. of 7 runs, 1000 loops each)\n",
      "Embedding size: 119547, Tokens: 4096, Hidden size: 768\n",
      "2.07 ms ± 56.7 µs per loop (mean ± std. dev. of 7 runs, 100 loops each)\n",
      "Embedding size: 119547, Tokens: 16384, Hidden size: 512\n"
     ]
    }
   ],
   "source": [
    "import torch\n",
    "import itertools\n",
    "\n",
    "num_embeddings = (119547, 50265, 32000, 8000, 3052)\n",
    "num_tokens = (4096, 16384)\n",
    "hidden_sizes = (512, 768)\n",
    "\n",
    "for ne, nt, nh in itertools.product(num_embeddings, num_tokens, hidden_sizes):\n",
    "    print(f\"Embedding size: {ne}, Tokens: {nt}, Hidden size: {nh}\")\n",
    "    embedding = torch.nn.Embedding(ne, nh).cuda()\n",
    "    input_ = torch.randint(ne, (nt,), device='cuda')\n",
    "    out = embedding(input_)\n",
    "    torch.cuda.synchronize()\n",
    "    %timeit out.backward(out, retain_graph=True); torch.cuda.synchronize()"
   ]
  },
  {
   "cell_type": "markdown",
   "metadata": {},
   "source": [
    "# After"
   ]
  },
  {
   "cell_type": "code",
   "execution_count": 11,
   "metadata": {
    "scrolled": false
   },
   "outputs": [
    {
     "name": "stdout",
     "output_type": "stream",
     "text": [
      "Embedding size: 119547, Tokens: 4096, Hidden size: 512\n",
      "1.42 ms ± 1.8 µs per loop (mean ± std. dev. of 7 runs, 1000 loops each)\n",
      "Embedding size: 119547, Tokens: 4096, Hidden size: 768\n",
      "2.05 ms ± 9.93 µs per loop (mean ± std. dev. of 7 runs, 100 loops each)\n",
      "Embedding size: 119547, Tokens: 16384, Hidden size: 512\n",
      "1.6 ms ± 3.19 µs per loop (mean ± std. dev. of 7 runs, 1000 loops each)\n",
      "Embedding size: 119547, Tokens: 16384, Hidden size: 768\n",
      "2.3 ms ± 3.67 µs per loop (mean ± std. dev. of 7 runs, 100 loops each)\n",
      "Embedding size: 50265, Tokens: 4096, Hidden size: 512\n",
      "730 µs ± 811 ns per loop (mean ± std. dev. of 7 runs, 1000 loops each)\n",
      "Embedding size: 50265, Tokens: 4096, Hidden size: 768\n",
      "1.01 ms ± 2.71 µs per loop (mean ± std. dev. of 7 runs, 1000 loops each)\n",
      "Embedding size: 50265, Tokens: 16384, Hidden size: 512\n",
      "887 µs ± 1.08 µs per loop (mean ± std. dev. of 7 runs, 1000 loops each)\n",
      "Embedding size: 50265, Tokens: 16384, Hidden size: 768\n",
      "1.25 ms ± 2.74 µs per loop (mean ± std. dev. of 7 runs, 1000 loops each)\n",
      "Embedding size: 32000, Tokens: 4096, Hidden size: 512\n",
      "556 µs ± 1.86 µs per loop (mean ± std. dev. of 7 runs, 1000 loops each)\n",
      "Embedding size: 32000, Tokens: 4096, Hidden size: 768\n",
      "744 µs ± 4.44 µs per loop (mean ± std. dev. of 7 runs, 1000 loops each)\n",
      "Embedding size: 32000, Tokens: 16384, Hidden size: 512\n",
      "691 µs ± 570 ns per loop (mean ± std. dev. of 7 runs, 1000 loops each)\n",
      "Embedding size: 32000, Tokens: 16384, Hidden size: 768\n",
      "957 µs ± 2.02 µs per loop (mean ± std. dev. of 7 runs, 1000 loops each)\n",
      "Embedding size: 8000, Tokens: 4096, Hidden size: 512\n",
      "309 µs ± 2.84 µs per loop (mean ± std. dev. of 7 runs, 1000 loops each)\n",
      "Embedding size: 8000, Tokens: 4096, Hidden size: 768\n",
      "376 µs ± 2.18 µs per loop (mean ± std. dev. of 7 runs, 1000 loops each)\n",
      "Embedding size: 8000, Tokens: 16384, Hidden size: 512\n",
      "381 µs ± 1.49 µs per loop (mean ± std. dev. of 7 runs, 1000 loops each)\n",
      "Embedding size: 8000, Tokens: 16384, Hidden size: 768\n",
      "487 µs ± 2.42 µs per loop (mean ± std. dev. of 7 runs, 1000 loops each)\n",
      "Embedding size: 3052, Tokens: 4096, Hidden size: 512\n",
      "202 µs ± 383 ns per loop (mean ± std. dev. of 7 runs, 1000 loops each)\n",
      "Embedding size: 3052, Tokens: 4096, Hidden size: 768\n",
      "239 µs ± 1.05 µs per loop (mean ± std. dev. of 7 runs, 1000 loops each)\n",
      "Embedding size: 3052, Tokens: 16384, Hidden size: 512\n",
      "243 µs ± 1 µs per loop (mean ± std. dev. of 7 runs, 1000 loops each)\n",
      "Embedding size: 3052, Tokens: 16384, Hidden size: 768\n",
      "340 µs ± 2.28 µs per loop (mean ± std. dev. of 7 runs, 1000 loops each)\n"
     ]
    }
   ],
   "source": [
    "import torch\n",
    "import itertools\n",
    "\n",
    "num_embeddings = (119547, 50265, 32000, 8000, 3052)\n",
    "num_tokens = (4096, 16384)\n",
    "hidden_sizes = (512, 768)\n",
    "\n",
    "for ne, nt, nh in itertools.product(num_embeddings, num_tokens, hidden_sizes):\n",
    "    print(f\"Embedding size: {ne}, Tokens: {nt}, Hidden size: {nh}\")\n",
    "    embedding = torch.nn.Embedding(ne, nh).cuda()\n",
    "    input_ = torch.randint(ne, (nt,), device='cuda')\n",
    "    out = embedding(input_)\n",
    "    torch.cuda.synchronize()\n",
    "    %timeit out.backward(out, retain_graph=True); torch.cuda.synchronize()"
   ]
  },
  {
   "cell_type": "code",
   "execution_count": null,
   "metadata": {},
   "outputs": [],
   "source": []
  }
 ],
 "metadata": {
  "kernelspec": {
   "display_name": "Python 3",
   "language": "python",
   "name": "python3"
  },
  "language_info": {
   "codemirror_mode": {
    "name": "ipython",
    "version": 3
   },
   "file_extension": ".py",
   "mimetype": "text/x-python",
   "name": "python",
   "nbconvert_exporter": "python",
   "pygments_lexer": "ipython3",
   "version": "3.9.6"
  }
 },
 "nbformat": 4,
 "nbformat_minor": 4
}
