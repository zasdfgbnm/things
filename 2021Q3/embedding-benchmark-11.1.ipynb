{
 "cells": [
  {
   "cell_type": "markdown",
   "metadata": {},
   "source": [
    "# Before"
   ]
  },
  {
   "cell_type": "code",
   "execution_count": 1,
   "metadata": {},
   "outputs": [
    {
     "name": "stdout",
     "output_type": "stream",
     "text": [
      "Embedding size: 119547, Tokens: 4096, Hidden size: 512\n",
      "1.41 ms ± 14.8 µs per loop (mean ± std. dev. of 7 runs, 1000 loops each)\n",
      "Embedding size: 119547, Tokens: 4096, Hidden size: 768\n",
      "2.05 ms ± 7.61 µs per loop (mean ± std. dev. of 7 runs, 100 loops each)\n",
      "Embedding size: 119547, Tokens: 16384, Hidden size: 512\n",
      "1.61 ms ± 1.95 µs per loop (mean ± std. dev. of 7 runs, 1000 loops each)\n",
      "Embedding size: 119547, Tokens: 16384, Hidden size: 768\n",
      "2.32 ms ± 2.5 µs per loop (mean ± std. dev. of 7 runs, 100 loops each)\n",
      "Embedding size: 50265, Tokens: 4096, Hidden size: 512\n",
      "743 µs ± 1.03 µs per loop (mean ± std. dev. of 7 runs, 1000 loops each)\n",
      "Embedding size: 50265, Tokens: 4096, Hidden size: 768\n",
      "1.02 ms ± 2.16 µs per loop (mean ± std. dev. of 7 runs, 1000 loops each)\n",
      "Embedding size: 50265, Tokens: 16384, Hidden size: 512\n",
      "912 µs ± 5.91 µs per loop (mean ± std. dev. of 7 runs, 1000 loops each)\n",
      "Embedding size: 50265, Tokens: 16384, Hidden size: 768\n",
      "1.28 ms ± 6.17 µs per loop (mean ± std. dev. of 7 runs, 1000 loops each)\n",
      "Embedding size: 32000, Tokens: 4096, Hidden size: 512\n",
      "555 µs ± 2.61 µs per loop (mean ± std. dev. of 7 runs, 1000 loops each)\n",
      "Embedding size: 32000, Tokens: 4096, Hidden size: 768\n",
      "743 µs ± 655 ns per loop (mean ± std. dev. of 7 runs, 1000 loops each)\n",
      "Embedding size: 32000, Tokens: 16384, Hidden size: 512\n",
      "714 µs ± 1.89 µs per loop (mean ± std. dev. of 7 runs, 1000 loops each)\n",
      "Embedding size: 32000, Tokens: 16384, Hidden size: 768\n",
      "980 µs ± 1.52 µs per loop (mean ± std. dev. of 7 runs, 1000 loops each)\n",
      "Embedding size: 8000, Tokens: 4096, Hidden size: 512\n",
      "312 µs ± 396 ns per loop (mean ± std. dev. of 7 runs, 1000 loops each)\n",
      "Embedding size: 8000, Tokens: 4096, Hidden size: 768\n",
      "386 µs ± 2.32 µs per loop (mean ± std. dev. of 7 runs, 1000 loops each)\n",
      "Embedding size: 8000, Tokens: 16384, Hidden size: 512\n",
      "413 µs ± 3.19 µs per loop (mean ± std. dev. of 7 runs, 1000 loops each)\n",
      "Embedding size: 8000, Tokens: 16384, Hidden size: 768\n",
      "512 µs ± 1.03 µs per loop (mean ± std. dev. of 7 runs, 1000 loops each)\n",
      "Embedding size: 3052, Tokens: 4096, Hidden size: 512\n",
      "209 µs ± 585 ns per loop (mean ± std. dev. of 7 runs, 1000 loops each)\n",
      "Embedding size: 3052, Tokens: 4096, Hidden size: 768\n",
      "271 µs ± 776 ns per loop (mean ± std. dev. of 7 runs, 1000 loops each)\n",
      "Embedding size: 3052, Tokens: 16384, Hidden size: 512\n",
      "297 µs ± 1.11 µs per loop (mean ± std. dev. of 7 runs, 1000 loops each)\n",
      "Embedding size: 3052, Tokens: 16384, Hidden size: 768\n",
      "377 µs ± 3.87 µs per loop (mean ± std. dev. of 7 runs, 1000 loops each)\n"
     ]
    }
   ],
   "source": [
    "import torch\n",
    "import itertools\n",
    "\n",
    "num_embeddings = (119547, 50265, 32000, 8000, 3052)\n",
    "num_tokens = (4096, 16384)\n",
    "hidden_sizes = (512, 768)\n",
    "\n",
    "for ne, nt, nh in itertools.product(num_embeddings, num_tokens, hidden_sizes):\n",
    "    print(f\"Embedding size: {ne}, Tokens: {nt}, Hidden size: {nh}\")\n",
    "    embedding = torch.nn.Embedding(ne, nh).cuda()\n",
    "    input_ = torch.randint(ne, (nt,), device='cuda')\n",
    "    out = embedding(input_)\n",
    "    torch.cuda.synchronize()\n",
    "    %timeit out.backward(out, retain_graph=True); torch.cuda.synchronize()"
   ]
  },
  {
   "cell_type": "markdown",
   "metadata": {},
   "source": [
    "# After"
   ]
  },
  {
   "cell_type": "code",
   "execution_count": 1,
   "metadata": {
    "scrolled": false
   },
   "outputs": [
    {
     "name": "stdout",
     "output_type": "stream",
     "text": [
      "Embedding size: 119547, Tokens: 4096, Hidden size: 512\n",
      "1.46 ms ± 12 µs per loop (mean ± std. dev. of 7 runs, 1000 loops each)\n",
      "Embedding size: 119547, Tokens: 4096, Hidden size: 768\n",
      "2.09 ms ± 4.31 µs per loop (mean ± std. dev. of 7 runs, 100 loops each)\n",
      "Embedding size: 119547, Tokens: 16384, Hidden size: 512\n",
      "1.64 ms ± 4.48 µs per loop (mean ± std. dev. of 7 runs, 1000 loops each)\n",
      "Embedding size: 119547, Tokens: 16384, Hidden size: 768\n",
      "2.35 ms ± 2.54 µs per loop (mean ± std. dev. of 7 runs, 100 loops each)\n",
      "Embedding size: 50265, Tokens: 4096, Hidden size: 512\n",
      "782 µs ± 2.12 µs per loop (mean ± std. dev. of 7 runs, 1000 loops each)\n",
      "Embedding size: 50265, Tokens: 4096, Hidden size: 768\n",
      "1.06 ms ± 596 ns per loop (mean ± std. dev. of 7 runs, 1000 loops each)\n",
      "Embedding size: 50265, Tokens: 16384, Hidden size: 512\n",
      "945 µs ± 2.19 µs per loop (mean ± std. dev. of 7 runs, 1000 loops each)\n",
      "Embedding size: 50265, Tokens: 16384, Hidden size: 768\n",
      "1.31 ms ± 553 ns per loop (mean ± std. dev. of 7 runs, 1000 loops each)\n",
      "Embedding size: 32000, Tokens: 4096, Hidden size: 512\n",
      "603 µs ± 856 ns per loop (mean ± std. dev. of 7 runs, 1000 loops each)\n",
      "Embedding size: 32000, Tokens: 4096, Hidden size: 768\n",
      "789 µs ± 500 ns per loop (mean ± std. dev. of 7 runs, 1000 loops each)\n",
      "Embedding size: 32000, Tokens: 16384, Hidden size: 512\n",
      "752 µs ± 7.56 µs per loop (mean ± std. dev. of 7 runs, 1000 loops each)\n",
      "Embedding size: 32000, Tokens: 16384, Hidden size: 768\n",
      "1.01 ms ± 4.2 µs per loop (mean ± std. dev. of 7 runs, 1000 loops each)\n",
      "Embedding size: 8000, Tokens: 4096, Hidden size: 512\n",
      "323 µs ± 7.23 µs per loop (mean ± std. dev. of 7 runs, 1000 loops each)\n",
      "Embedding size: 8000, Tokens: 4096, Hidden size: 768\n",
      "398 µs ± 765 ns per loop (mean ± std. dev. of 7 runs, 1000 loops each)\n",
      "Embedding size: 8000, Tokens: 16384, Hidden size: 512\n",
      "412 µs ± 544 ns per loop (mean ± std. dev. of 7 runs, 1000 loops each)\n",
      "Embedding size: 8000, Tokens: 16384, Hidden size: 768\n",
      "519 µs ± 614 ns per loop (mean ± std. dev. of 7 runs, 1000 loops each)\n",
      "Embedding size: 3052, Tokens: 4096, Hidden size: 512\n",
      "229 µs ± 1.17 µs per loop (mean ± std. dev. of 7 runs, 1000 loops each)\n",
      "Embedding size: 3052, Tokens: 4096, Hidden size: 768\n",
      "263 µs ± 417 ns per loop (mean ± std. dev. of 7 runs, 1000 loops each)\n",
      "Embedding size: 3052, Tokens: 16384, Hidden size: 512\n",
      "274 µs ± 576 ns per loop (mean ± std. dev. of 7 runs, 1000 loops each)\n",
      "Embedding size: 3052, Tokens: 16384, Hidden size: 768\n",
      "354 µs ± 1.3 µs per loop (mean ± std. dev. of 7 runs, 1000 loops each)\n"
     ]
    }
   ],
   "source": [
    "import torch\n",
    "import itertools\n",
    "\n",
    "num_embeddings = (119547, 50265, 32000, 8000, 3052)\n",
    "num_tokens = (4096, 16384)\n",
    "hidden_sizes = (512, 768)\n",
    "\n",
    "for ne, nt, nh in itertools.product(num_embeddings, num_tokens, hidden_sizes):\n",
    "    print(f\"Embedding size: {ne}, Tokens: {nt}, Hidden size: {nh}\")\n",
    "    embedding = torch.nn.Embedding(ne, nh).cuda()\n",
    "    input_ = torch.randint(ne, (nt,), device='cuda')\n",
    "    out = embedding(input_)\n",
    "    torch.cuda.synchronize()\n",
    "    %timeit out.backward(out, retain_graph=True); torch.cuda.synchronize()"
   ]
  },
  {
   "cell_type": "code",
   "execution_count": null,
   "metadata": {},
   "outputs": [],
   "source": []
  }
 ],
 "metadata": {
  "kernelspec": {
   "display_name": "Python 3",
   "language": "python",
   "name": "python3"
  },
  "language_info": {
   "codemirror_mode": {
    "name": "ipython",
    "version": 3
   },
   "file_extension": ".py",
   "mimetype": "text/x-python",
   "name": "python",
   "nbconvert_exporter": "python",
   "pygments_lexer": "ipython3",
   "version": "3.9.6"
  }
 },
 "nbformat": 4,
 "nbformat_minor": 4
}
