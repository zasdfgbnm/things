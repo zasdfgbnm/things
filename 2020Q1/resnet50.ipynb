{
 "cells": [
  {
   "cell_type": "code",
   "execution_count": 3,
   "metadata": {},
   "outputs": [
    {
     "name": "stdout",
     "output_type": "stream",
     "text": [
      "1.5.0a0+bf0951d\n",
      "23.7 ms ± 170 µs per loop (mean ± std. dev. of 7 runs, 10 loops each)\n"
     ]
    }
   ],
   "source": [
    "import torch\n",
    "import torchvision\n",
    "print(torch.__version__)\n",
    "\n",
    "m = torchvision.models.resnet.resnet50().cuda()\n",
    "\n",
    "i = torch.randn(16, 3, 224, 224, device='cuda')\n",
    "o = torch.optim.Adam(m.parameters())\n",
    "m(i).sum().backward()\n",
    "o.step()\n",
    "torch.cuda.synchronize()\n",
    "%timeit o.step(); torch.cuda.synchronize()"
   ]
  },
  {
   "cell_type": "code",
   "execution_count": 1,
   "metadata": {},
   "outputs": [
    {
     "name": "stdout",
     "output_type": "stream",
     "text": [
      "1.4.0\n",
      "23.4 ms ± 27.6 µs per loop (mean ± std. dev. of 7 runs, 10 loops each)\n"
     ]
    }
   ],
   "source": [
    "import torch\n",
    "import torchvision\n",
    "print(torch.__version__)\n",
    "\n",
    "m = torchvision.models.resnet.resnet50().cuda()\n",
    "\n",
    "i = torch.randn(16, 3, 224, 224, device='cuda')\n",
    "o = torch.optim.Adam(m.parameters())\n",
    "m(i).sum().backward()\n",
    "o.step()\n",
    "torch.cuda.synchronize()\n",
    "%timeit o.step(); torch.cuda.synchronize()"
   ]
  },
  {
   "cell_type": "code",
   "execution_count": null,
   "metadata": {},
   "outputs": [],
   "source": []
  }
 ],
 "metadata": {
  "kernelspec": {
   "display_name": "Python 3",
   "language": "python",
   "name": "python3"
  },
  "language_info": {
   "codemirror_mode": {
    "name": "ipython",
    "version": 3
   },
   "file_extension": ".py",
   "mimetype": "text/x-python",
   "name": "python",
   "nbconvert_exporter": "python",
   "pygments_lexer": "ipython3",
   "version": "3.8.1"
  }
 },
 "nbformat": 4,
 "nbformat_minor": 4
}
