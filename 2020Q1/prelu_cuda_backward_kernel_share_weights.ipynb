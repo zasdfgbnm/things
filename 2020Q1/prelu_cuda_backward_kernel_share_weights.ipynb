{
 "cells": [
  {
   "cell_type": "code",
   "execution_count": 1,
   "metadata": {},
   "outputs": [
    {
     "name": "stdout",
     "output_type": "stream",
     "text": [
      "1.5.0a0+22d1de1\n",
      "113 µs ± 943 ns per loop (mean ± std. dev. of 7 runs, 10000 loops each)\n",
      "121 µs ± 420 ns per loop (mean ± std. dev. of 7 runs, 10000 loops each)\n",
      "129 µs ± 686 ns per loop (mean ± std. dev. of 7 runs, 10000 loops each)\n",
      "142 µs ± 415 ns per loop (mean ± std. dev. of 7 runs, 10000 loops each)\n",
      "211 µs ± 433 ns per loop (mean ± std. dev. of 7 runs, 1000 loops each)\n",
      "345 µs ± 1.7 µs per loop (mean ± std. dev. of 7 runs, 1000 loops each)\n",
      "608 µs ± 548 ns per loop (mean ± std. dev. of 7 runs, 1000 loops each)\n",
      "1.13 ms ± 449 ns per loop (mean ± std. dev. of 7 runs, 1000 loops each)\n",
      "2.18 ms ± 3.86 µs per loop (mean ± std. dev. of 7 runs, 100 loops each)\n",
      "4.37 ms ± 8.31 µs per loop (mean ± std. dev. of 7 runs, 100 loops each)\n",
      "8.57 ms ± 4.22 µs per loop (mean ± std. dev. of 7 runs, 100 loops each)\n",
      "17 ms ± 5.72 µs per loop (mean ± std. dev. of 7 runs, 100 loops each)\n",
      "33.8 ms ± 50.4 µs per loop (mean ± std. dev. of 7 runs, 10 loops each)\n"
     ]
    }
   ],
   "source": [
    "import torch\n",
    "print(torch.__version__)\n",
    "\n",
    "# warm up\n",
    "for i in range(1000):\n",
    "    torch.arange(100000, device='cuda')\n",
    "    \n",
    "m = torch.nn.PReLU().cuda()\n",
    "def benchmark(size):\n",
    "    a = torch.randn(2 ** size, device='cuda')\n",
    "    b = torch.randn_like(a)\n",
    "    loss = m(a)\n",
    "    torch.cuda.synchronize()\n",
    "    %timeit loss.backward(b, retain_graph=True); torch.cuda.synchronize()\n",
    "    \n",
    "for i in range(15, 28):\n",
    "    benchmark(i)"
   ]
  },
  {
   "cell_type": "code",
   "execution_count": 1,
   "metadata": {},
   "outputs": [
    {
     "name": "stdout",
     "output_type": "stream",
     "text": [
      "1.5.0a0+9956a23\n",
      "111 µs ± 1.2 µs per loop (mean ± std. dev. of 7 runs, 10000 loops each)\n",
      "123 µs ± 349 ns per loop (mean ± std. dev. of 7 runs, 10000 loops each)\n",
      "131 µs ± 1.29 µs per loop (mean ± std. dev. of 7 runs, 10000 loops each)\n",
      "134 µs ± 14.5 µs per loop (mean ± std. dev. of 7 runs, 10000 loops each)\n",
      "160 µs ± 246 ns per loop (mean ± std. dev. of 7 runs, 10000 loops each)\n",
      "256 µs ± 503 ns per loop (mean ± std. dev. of 7 runs, 1000 loops each)\n",
      "459 µs ± 603 ns per loop (mean ± std. dev. of 7 runs, 1000 loops each)\n",
      "839 µs ± 418 ns per loop (mean ± std. dev. of 7 runs, 1000 loops each)\n",
      "1.6 ms ± 5.46 µs per loop (mean ± std. dev. of 7 runs, 1000 loops each)\n",
      "3.13 ms ± 5.23 µs per loop (mean ± std. dev. of 7 runs, 100 loops each)\n",
      "6.22 ms ± 5.46 µs per loop (mean ± std. dev. of 7 runs, 100 loops each)\n",
      "12.2 ms ± 5.26 µs per loop (mean ± std. dev. of 7 runs, 100 loops each)\n",
      "24.3 ms ± 52.6 µs per loop (mean ± std. dev. of 7 runs, 10 loops each)\n"
     ]
    }
   ],
   "source": [
    "import torch\n",
    "print(torch.__version__)\n",
    "\n",
    "# warm up\n",
    "for i in range(1000):\n",
    "    torch.arange(100000, device='cuda')\n",
    "    \n",
    "m = torch.nn.PReLU().cuda()\n",
    "def benchmark(size):\n",
    "    a = torch.randn(2 ** size, device='cuda')\n",
    "    b = torch.randn_like(a)\n",
    "    loss = m(a)\n",
    "    torch.cuda.synchronize()\n",
    "    %timeit loss.backward(b, retain_graph=True); torch.cuda.synchronize()\n",
    "    \n",
    "for i in range(15, 28):\n",
    "    benchmark(i)"
   ]
  },
  {
   "cell_type": "code",
   "execution_count": null,
   "metadata": {},
   "outputs": [],
   "source": []
  }
 ],
 "metadata": {
  "kernelspec": {
   "display_name": "Python 3",
   "language": "python",
   "name": "python3"
  },
  "language_info": {
   "codemirror_mode": {
    "name": "ipython",
    "version": 3
   },
   "file_extension": ".py",
   "mimetype": "text/x-python",
   "name": "python",
   "nbconvert_exporter": "python",
   "pygments_lexer": "ipython3",
   "version": "3.8.1"
  }
 },
 "nbformat": 4,
 "nbformat_minor": 4
}
