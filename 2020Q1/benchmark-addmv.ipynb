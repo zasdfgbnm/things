{
 "cells": [
  {
   "cell_type": "markdown",
   "metadata": {},
   "source": [
    "# Before:"
   ]
  },
  {
   "cell_type": "code",
   "execution_count": 2,
   "metadata": {},
   "outputs": [
    {
     "name": "stdout",
     "output_type": "stream",
     "text": [
      "1.5.0a0+2b45368\n",
      "cpu\n",
      "2.74 µs ± 30.8 ns per loop (mean ± std. dev. of 7 runs, 100000 loops each)\n",
      "8.5 µs ± 85.5 ns per loop (mean ± std. dev. of 7 runs, 100000 loops each)\n",
      "686 µs ± 2.95 µs per loop (mean ± std. dev. of 7 runs, 1000 loops each)\n",
      "74 ms ± 410 µs per loop (mean ± std. dev. of 7 runs, 10 loops each)\n",
      "cuda\n",
      "The slowest run took 4.81 times longer than the fastest. This could mean that an intermediate result is being cached.\n",
      "27.6 µs ± 23 µs per loop (mean ± std. dev. of 7 runs, 1 loop each)\n",
      "17.3 µs ± 151 ns per loop (mean ± std. dev. of 7 runs, 100000 loops each)\n",
      "20.5 µs ± 369 ns per loop (mean ± std. dev. of 7 runs, 100000 loops each)\n",
      "756 µs ± 6.81 µs per loop (mean ± std. dev. of 7 runs, 1000 loops each)\n"
     ]
    }
   ],
   "source": [
    "import torch\n",
    "print(torch.__version__)\n",
    "\n",
    "for i in range(1000):\n",
    "    torch.arange(i, device='cuda')\n",
    "\n",
    "print('cpu')\n",
    "for i in 10, 100, 1000, 10000:\n",
    "    a = torch.randn((i,))\n",
    "    b = torch.randn((i, i))\n",
    "    c = torch.randn((i,))\n",
    "    %timeit a.addmv(b, c, alpha=1, beta=2)\n",
    "    \n",
    "print('cuda')\n",
    "for i in 10, 100, 1000, 10000:\n",
    "    a = torch.randn((i,)).cuda()\n",
    "    b = torch.randn((i, i)).cuda()\n",
    "    c = torch.randn((i,)).cuda()\n",
    "    torch.cuda.synchronize()\n",
    "    %timeit a.addmv(b, c, alpha=1, beta=2); torch.cuda.synchronize()"
   ]
  },
  {
   "cell_type": "markdown",
   "metadata": {},
   "source": [
    "# After:"
   ]
  },
  {
   "cell_type": "code",
   "execution_count": 1,
   "metadata": {},
   "outputs": [
    {
     "name": "stdout",
     "output_type": "stream",
     "text": [
      "1.5.0a0+66b4034\n",
      "cpu\n",
      "3.29 µs ± 20 ns per loop (mean ± std. dev. of 7 runs, 100000 loops each)\n",
      "9.09 µs ± 7.41 ns per loop (mean ± std. dev. of 7 runs, 100000 loops each)\n",
      "687 µs ± 7.01 µs per loop (mean ± std. dev. of 7 runs, 1000 loops each)\n",
      "73.8 ms ± 453 µs per loop (mean ± std. dev. of 7 runs, 10 loops each)\n",
      "cuda\n",
      "18.2 µs ± 478 ns per loop (mean ± std. dev. of 7 runs, 100000 loops each)\n",
      "17.7 µs ± 299 ns per loop (mean ± std. dev. of 7 runs, 100000 loops each)\n",
      "21.5 µs ± 2.38 µs per loop (mean ± std. dev. of 7 runs, 10000 loops each)\n",
      "751 µs ± 35.3 µs per loop (mean ± std. dev. of 7 runs, 1000 loops each)\n"
     ]
    }
   ],
   "source": [
    "import torch\n",
    "print(torch.__version__)\n",
    "\n",
    "for i in range(1000):\n",
    "    torch.arange(i, device='cuda')\n",
    "\n",
    "print('cpu')\n",
    "for i in 10, 100, 1000, 10000:\n",
    "    a = torch.randn((i,))\n",
    "    b = torch.randn((i, i))\n",
    "    c = torch.randn((i,))\n",
    "    %timeit a.addmv(b, c, alpha=1, beta=2)\n",
    "    \n",
    "print('cuda')\n",
    "for i in 10, 100, 1000, 10000:\n",
    "    a = torch.randn((i,)).cuda()\n",
    "    b = torch.randn((i, i)).cuda()\n",
    "    c = torch.randn((i,)).cuda()\n",
    "    torch.cuda.synchronize()\n",
    "    %timeit a.addmv(b, c, alpha=1, beta=2); torch.cuda.synchronize()"
   ]
  },
  {
   "cell_type": "code",
   "execution_count": null,
   "metadata": {},
   "outputs": [],
   "source": []
  }
 ],
 "metadata": {
  "kernelspec": {
   "display_name": "Python 3",
   "language": "python",
   "name": "python3"
  },
  "language_info": {
   "codemirror_mode": {
    "name": "ipython",
    "version": 3
   },
   "file_extension": ".py",
   "mimetype": "text/x-python",
   "name": "python",
   "nbconvert_exporter": "python",
   "pygments_lexer": "ipython3",
   "version": "3.8.1"
  }
 },
 "nbformat": 4,
 "nbformat_minor": 4
}
