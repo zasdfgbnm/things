{
 "cells": [
  {
   "cell_type": "code",
   "execution_count": 1,
   "metadata": {},
   "outputs": [
    {
     "name": "stdout",
     "output_type": "stream",
     "text": [
      "1.5.0a0+fdac34c\n",
      "reduction = mean:\n"
     ]
    },
    {
     "name": "stderr",
     "output_type": "stream",
     "text": [
      "/home/gaoxiang/.local/lib/python3.8/site-packages/torch/nn/functional.py:2228: UserWarning: reduction: 'mean' divides the total loss by both the batch size and the support size.'batchmean' divides only by the batch size, and aligns with the KL div math definition.'mean' will be changed to behave the same as 'batchmean' in the next major release.\n",
      "  warnings.warn(\"reduction: 'mean' divides the total loss by both the batch size and the support size.\"\n"
     ]
    },
    {
     "name": "stdout",
     "output_type": "stream",
     "text": [
      "113 µs ± 32.1 µs per loop (mean ± std. dev. of 7 runs, 10000 loops each)\n",
      "159 µs ± 2.79 µs per loop (mean ± std. dev. of 7 runs, 10000 loops each)\n",
      "162 µs ± 34.2 ns per loop (mean ± std. dev. of 7 runs, 10000 loops each)\n",
      "215 µs ± 619 ns per loop (mean ± std. dev. of 7 runs, 1000 loops each)\n",
      "372 µs ± 1.04 µs per loop (mean ± std. dev. of 7 runs, 1000 loops each)\n",
      "664 µs ± 438 ns per loop (mean ± std. dev. of 7 runs, 1000 loops each)\n",
      "1.28 ms ± 599 ns per loop (mean ± std. dev. of 7 runs, 1000 loops each)\n",
      "2.51 ms ± 4.95 µs per loop (mean ± std. dev. of 7 runs, 100 loops each)\n",
      "4.99 ms ± 5.42 µs per loop (mean ± std. dev. of 7 runs, 100 loops each)\n",
      "9.95 ms ± 554 ns per loop (mean ± std. dev. of 7 runs, 100 loops each)\n",
      "19.8 ms ± 866 ns per loop (mean ± std. dev. of 7 runs, 100 loops each)\n",
      "39.4 ms ± 56.1 µs per loop (mean ± std. dev. of 7 runs, 10 loops each)\n",
      "78.7 ms ± 46.4 µs per loop (mean ± std. dev. of 7 runs, 10 loops each)\n",
      "\n",
      "reduction = sum:\n",
      "142 µs ± 336 ns per loop (mean ± std. dev. of 7 runs, 10000 loops each)\n",
      "142 µs ± 222 ns per loop (mean ± std. dev. of 7 runs, 10000 loops each)\n",
      "143 µs ± 1.74 µs per loop (mean ± std. dev. of 7 runs, 10000 loops each)\n",
      "191 µs ± 1.31 µs per loop (mean ± std. dev. of 7 runs, 10000 loops each)\n",
      "328 µs ± 575 ns per loop (mean ± std. dev. of 7 runs, 1000 loops each)\n",
      "585 µs ± 523 ns per loop (mean ± std. dev. of 7 runs, 1000 loops each)\n",
      "1.12 ms ± 384 ns per loop (mean ± std. dev. of 7 runs, 1000 loops each)\n",
      "2.2 ms ± 5.02 µs per loop (mean ± std. dev. of 7 runs, 100 loops each)\n",
      "4.38 ms ± 5.69 µs per loop (mean ± std. dev. of 7 runs, 100 loops each)\n",
      "8.72 ms ± 808 ns per loop (mean ± std. dev. of 7 runs, 100 loops each)\n",
      "17.3 ms ± 4.93 µs per loop (mean ± std. dev. of 7 runs, 100 loops each)\n",
      "34.5 ms ± 49.3 µs per loop (mean ± std. dev. of 7 runs, 10 loops each)\n",
      "68.9 ms ± 51.8 µs per loop (mean ± std. dev. of 7 runs, 10 loops each)\n"
     ]
    }
   ],
   "source": [
    "import torch\n",
    "print(torch.__version__)\n",
    "\n",
    "# warm up\n",
    "for i in range(1000):\n",
    "    torch.arange(100000, device='cuda')\n",
    "    \n",
    "def benchmark(m, size):\n",
    "    s1 = 2 ** (size // 2)\n",
    "    s2 = 2 ** (size - size // 2)\n",
    "    a = torch.zeros((s1, s2), device='cuda')\n",
    "    b = torch.ones_like(a, requires_grad=True)\n",
    "    loss = m(a, b)\n",
    "    torch.cuda.synchronize()\n",
    "    %timeit loss.backward(retain_graph=True); torch.cuda.synchronize()\n",
    "\n",
    "print(\"reduction = mean:\")\n",
    "m = torch.nn.KLDivLoss().cuda()\n",
    "for i in range(15, 28):\n",
    "    benchmark(m, i)\n",
    "\n",
    "print()\n",
    "print(\"reduction = sum:\")\n",
    "m2 = torch.nn.KLDivLoss(reduction=\"sum\").cuda()\n",
    "for i in range(15, 28):\n",
    "    benchmark(m2, i)"
   ]
  },
  {
   "cell_type": "code",
   "execution_count": 1,
   "metadata": {},
   "outputs": [
    {
     "name": "stdout",
     "output_type": "stream",
     "text": [
      "1.5.0a0+9956a23\n",
      "reduction = mean:\n"
     ]
    },
    {
     "name": "stderr",
     "output_type": "stream",
     "text": [
      "/home/gaoxiang/.local/lib/python3.8/site-packages/torch/nn/functional.py:2228: UserWarning: reduction: 'mean' divides the total loss by both the batch size and the support size.'batchmean' divides only by the batch size, and aligns with the KL div math definition.'mean' will be changed to behave the same as 'batchmean' in the next major release.\n",
      "  warnings.warn(\"reduction: 'mean' divides the total loss by both the batch size and the support size.\"\n"
     ]
    },
    {
     "name": "stdout",
     "output_type": "stream",
     "text": [
      "179 µs ± 2.05 µs per loop (mean ± std. dev. of 7 runs, 10000 loops each)\n",
      "177 µs ± 2.99 µs per loop (mean ± std. dev. of 7 runs, 10000 loops each)\n",
      "173 µs ± 568 ns per loop (mean ± std. dev. of 7 runs, 10000 loops each)\n",
      "215 µs ± 4.64 µs per loop (mean ± std. dev. of 7 runs, 1000 loops each)\n",
      "376 µs ± 3.43 µs per loop (mean ± std. dev. of 7 runs, 1000 loops each)\n",
      "678 µs ± 478 ns per loop (mean ± std. dev. of 7 runs, 1000 loops each)\n",
      "1.29 ms ± 650 ns per loop (mean ± std. dev. of 7 runs, 1000 loops each)\n",
      "2.55 ms ± 15.1 µs per loop (mean ± std. dev. of 7 runs, 100 loops each)\n",
      "5.01 ms ± 16.6 µs per loop (mean ± std. dev. of 7 runs, 100 loops each)\n",
      "9.96 ms ± 733 ns per loop (mean ± std. dev. of 7 runs, 100 loops each)\n",
      "19.8 ms ± 990 ns per loop (mean ± std. dev. of 7 runs, 100 loops each)\n",
      "39.4 ms ± 56.9 µs per loop (mean ± std. dev. of 7 runs, 10 loops each)\n",
      "78.7 ms ± 43.1 µs per loop (mean ± std. dev. of 7 runs, 10 loops each)\n",
      "\n",
      "reduction = sum:\n",
      "164 µs ± 1.01 µs per loop (mean ± std. dev. of 7 runs, 10000 loops each)\n",
      "159 µs ± 5.19 µs per loop (mean ± std. dev. of 7 runs, 10000 loops each)\n",
      "154 µs ± 150 ns per loop (mean ± std. dev. of 7 runs, 10000 loops each)\n",
      "209 µs ± 11.2 µs per loop (mean ± std. dev. of 7 runs, 10000 loops each)\n",
      "332 µs ± 2.29 µs per loop (mean ± std. dev. of 7 runs, 1000 loops each)\n",
      "592 µs ± 1.25 µs per loop (mean ± std. dev. of 7 runs, 1000 loops each)\n",
      "1.13 ms ± 337 ns per loop (mean ± std. dev. of 7 runs, 1000 loops each)\n",
      "2.21 ms ± 5.12 µs per loop (mean ± std. dev. of 7 runs, 100 loops each)\n",
      "4.37 ms ± 13.4 µs per loop (mean ± std. dev. of 7 runs, 100 loops each)\n",
      "8.72 ms ± 3.71 µs per loop (mean ± std. dev. of 7 runs, 100 loops each)\n",
      "17.3 ms ± 5.41 µs per loop (mean ± std. dev. of 7 runs, 100 loops each)\n",
      "34.5 ms ± 49.9 µs per loop (mean ± std. dev. of 7 runs, 10 loops each)\n",
      "68.9 ms ± 52.8 µs per loop (mean ± std. dev. of 7 runs, 10 loops each)\n"
     ]
    }
   ],
   "source": [
    "import torch\n",
    "print(torch.__version__)\n",
    "\n",
    "# warm up\n",
    "for i in range(1000):\n",
    "    torch.arange(100000, device='cuda')\n",
    "    \n",
    "def benchmark(m, size):\n",
    "    s1 = 2 ** (size // 2)\n",
    "    s2 = 2 ** (size - size // 2)\n",
    "    a = torch.zeros((s1, s2), device='cuda')\n",
    "    b = torch.ones_like(a, requires_grad=True)\n",
    "    loss = m(a, b)\n",
    "    torch.cuda.synchronize()\n",
    "    %timeit loss.backward(retain_graph=True); torch.cuda.synchronize()\n",
    "\n",
    "print(\"reduction = mean:\")\n",
    "m = torch.nn.KLDivLoss().cuda()\n",
    "for i in range(15, 28):\n",
    "    benchmark(m, i)\n",
    "\n",
    "print()\n",
    "print(\"reduction = sum:\")\n",
    "m2 = torch.nn.KLDivLoss(reduction=\"sum\").cuda()\n",
    "for i in range(15, 28):\n",
    "    benchmark(m2, i)"
   ]
  },
  {
   "cell_type": "code",
   "execution_count": null,
   "metadata": {},
   "outputs": [],
   "source": []
  }
 ],
 "metadata": {
  "kernelspec": {
   "display_name": "Python 3",
   "language": "python",
   "name": "python3"
  },
  "language_info": {
   "codemirror_mode": {
    "name": "ipython",
    "version": 3
   },
   "file_extension": ".py",
   "mimetype": "text/x-python",
   "name": "python",
   "nbconvert_exporter": "python",
   "pygments_lexer": "ipython3",
   "version": "3.8.1"
  }
 },
 "nbformat": 4,
 "nbformat_minor": 4
}
