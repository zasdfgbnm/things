{
 "cells": [
  {
   "cell_type": "code",
   "execution_count": 7,
   "metadata": {},
   "outputs": [],
   "source": [
    "import torch\n",
    "torch.cuda.synchronize()\n",
    "\n",
    "MEM_BAND = 900 * 1000 * 1000 * 1000\n",
    "\n",
    "def sol(a, mem_pass):\n",
    "     return a.numel() * a.element_size() * mem_pass / MEM_BAND * 1e6"
   ]
  },
  {
   "cell_type": "code",
   "execution_count": 11,
   "metadata": {},
   "outputs": [
    {
     "name": "stdout",
     "output_type": "stream",
     "text": [
      "74.56540444444445\n",
      "117 µs ± 148 ns per loop (mean ± std. dev. of 7 runs, 10000 loops each)\n",
      "\n",
      "111.84810666666667\n",
      "136 µs ± 234 ns per loop (mean ± std. dev. of 7 runs, 10000 loops each)\n",
      "\n",
      "111.84810666666667\n",
      "166 µs ± 207 ns per loop (mean ± std. dev. of 7 runs, 10000 loops each)\n",
      "\n"
     ]
    }
   ],
   "source": [
    "a = torch.rand(4, 16, 512, 512).to(torch.float16).cuda()\n",
    "b = torch.rand(4, 16, 512, 512).to(torch.float16).cuda()\n",
    "\n",
    "print(sol(a, 2))\n",
    "%timeit a / 8.0; torch.cuda.synchronize()\n",
    "print()\n",
    "\n",
    "print(sol(a, 3))\n",
    "%timeit a + b; torch.cuda.synchronize()\n",
    "print()\n",
    "\n",
    "c = torch.rand(6, 16, 512, 512).to(torch.float16).cuda()\n",
    "\n",
    "print(sol(c, 2))\n",
    "%timeit c / 8.0; torch.cuda.synchronize()\n",
    "print()"
   ]
  },
  {
   "cell_type": "code",
   "execution_count": null,
   "metadata": {},
   "outputs": [],
   "source": []
  }
 ],
 "metadata": {
  "kernelspec": {
   "display_name": "Python 3",
   "language": "python",
   "name": "python3"
  },
  "language_info": {
   "codemirror_mode": {
    "name": "ipython",
    "version": 3
   },
   "file_extension": ".py",
   "mimetype": "text/x-python",
   "name": "python",
   "nbconvert_exporter": "python",
   "pygments_lexer": "ipython3",
   "version": "3.7.3"
  }
 },
 "nbformat": 4,
 "nbformat_minor": 4
}
