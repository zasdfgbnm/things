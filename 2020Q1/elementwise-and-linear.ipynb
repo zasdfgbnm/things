{
 "cells": [
  {
   "cell_type": "code",
   "execution_count": 2,
   "metadata": {},
   "outputs": [
    {
     "name": "stdout",
     "output_type": "stream",
     "text": [
      "1.4.0\n",
      "73.1 µs ± 5.96 µs per loop (mean ± std. dev. of 7 runs, 10000 loops each)\n",
      "420 µs ± 29.8 µs per loop (mean ± std. dev. of 7 runs, 1000 loops each)\n"
     ]
    }
   ],
   "source": [
    "import torch\n",
    "print(torch.__version__)\n",
    "\n",
    "m = torch.nn.Linear(1024, 768).half().cuda()\n",
    "inp = torch.randn(1024, 1024, dtype=torch.half, device='cuda')\n",
    "o = torch.optim.Adam(m.parameters())\n",
    "m(inp).sum().backward()\n",
    "\n",
    "a = torch.randn(1024, 1024, dtype=torch.half, device='cuda')\n",
    "b = torch.randn(1024, 1024, dtype=torch.half, device='cuda')\n",
    "\n",
    "for i in range(100):\n",
    "    torch.randn(1000, dtype=torch.half, device='cuda')\n",
    "torch.cuda.synchronize()\n",
    "\n",
    "%timeit a + b; torch.cuda.synchronize()\n",
    "%timeit o.step(); torch.cuda.synchronize()"
   ]
  },
  {
   "cell_type": "code",
   "execution_count": 2,
   "metadata": {},
   "outputs": [
    {
     "name": "stdout",
     "output_type": "stream",
     "text": [
      "1.5.0a0+bf0951d\n",
      "68 µs ± 305 ns per loop (mean ± std. dev. of 7 runs, 10000 loops each)\n",
      "332 µs ± 13.5 µs per loop (mean ± std. dev. of 7 runs, 1000 loops each)\n"
     ]
    }
   ],
   "source": [
    "import torch\n",
    "print(torch.__version__)\n",
    "\n",
    "m = torch.nn.Linear(1024, 768).half().cuda()\n",
    "inp = torch.randn(1024, 1024, dtype=torch.half, device='cuda')\n",
    "o = torch.optim.Adam(m.parameters())\n",
    "m(inp).sum().backward()\n",
    "\n",
    "a = torch.randn(1024, 1024, dtype=torch.half, device='cuda')\n",
    "b = torch.randn(1024, 1024, dtype=torch.half, device='cuda')\n",
    "\n",
    "for i in range(100):\n",
    "    torch.randn(1000, dtype=torch.half, device='cuda')\n",
    "torch.cuda.synchronize()\n",
    "\n",
    "%timeit a + b; torch.cuda.synchronize()\n",
    "%timeit o.step(); torch.cuda.synchronize()"
   ]
  },
  {
   "cell_type": "code",
   "execution_count": null,
   "metadata": {},
   "outputs": [],
   "source": []
  }
 ],
 "metadata": {
  "kernelspec": {
   "display_name": "Python 3",
   "language": "python",
   "name": "python3"
  },
  "language_info": {
   "codemirror_mode": {
    "name": "ipython",
    "version": 3
   },
   "file_extension": ".py",
   "mimetype": "text/x-python",
   "name": "python",
   "nbconvert_exporter": "python",
   "pygments_lexer": "ipython3",
   "version": "3.8.1"
  }
 },
 "nbformat": 4,
 "nbformat_minor": 4
}
