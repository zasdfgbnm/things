{
 "cells": [
  {
   "cell_type": "markdown",
   "metadata": {},
   "source": [
    "# Before"
   ]
  },
  {
   "cell_type": "code",
   "execution_count": 1,
   "metadata": {},
   "outputs": [
    {
     "name": "stdout",
     "output_type": "stream",
     "text": [
      "1.6.0a0+1cc4e5c\n",
      "float:\n",
      "106 µs ± 18.5 µs per loop (mean ± std. dev. of 7 runs, 10000 loops each)\n",
      "106 µs ± 20.3 µs per loop (mean ± std. dev. of 7 runs, 10000 loops each)\n",
      "116 µs ± 17.7 µs per loop (mean ± std. dev. of 7 runs, 10000 loops each)\n",
      "115 µs ± 11.8 µs per loop (mean ± std. dev. of 7 runs, 10000 loops each)\n",
      "102 µs ± 8.73 µs per loop (mean ± std. dev. of 7 runs, 10000 loops each)\n",
      "109 µs ± 6.13 µs per loop (mean ± std. dev. of 7 runs, 10000 loops each)\n",
      "157 µs ± 4.72 µs per loop (mean ± std. dev. of 7 runs, 10000 loops each)\n",
      "260 µs ± 32.2 µs per loop (mean ± std. dev. of 7 runs, 1000 loops each)\n",
      "439 µs ± 30.1 µs per loop (mean ± std. dev. of 7 runs, 1000 loops each)\n",
      "821 µs ± 89.6 µs per loop (mean ± std. dev. of 7 runs, 1000 loops each)\n",
      "1.44 ms ± 24.7 µs per loop (mean ± std. dev. of 7 runs, 1000 loops each)\n",
      "2.9 ms ± 198 µs per loop (mean ± std. dev. of 7 runs, 100 loops each)\n",
      "5.56 ms ± 245 µs per loop (mean ± std. dev. of 7 runs, 100 loops each)\n",
      "\n",
      "half:\n",
      "91.5 µs ± 18.4 µs per loop (mean ± std. dev. of 7 runs, 10000 loops each)\n",
      "117 µs ± 13.1 µs per loop (mean ± std. dev. of 7 runs, 10000 loops each)\n",
      "115 µs ± 25.5 µs per loop (mean ± std. dev. of 7 runs, 10000 loops each)\n",
      "78.2 µs ± 6.79 µs per loop (mean ± std. dev. of 7 runs, 10000 loops each)\n",
      "76.7 µs ± 5.2 µs per loop (mean ± std. dev. of 7 runs, 10000 loops each)\n",
      "92.5 µs ± 4.58 µs per loop (mean ± std. dev. of 7 runs, 10000 loops each)\n",
      "119 µs ± 3.95 µs per loop (mean ± std. dev. of 7 runs, 10000 loops each)\n",
      "189 µs ± 3.42 µs per loop (mean ± std. dev. of 7 runs, 10000 loops each)\n",
      "289 µs ± 21.7 µs per loop (mean ± std. dev. of 7 runs, 1000 loops each)\n",
      "501 µs ± 24.4 µs per loop (mean ± std. dev. of 7 runs, 1000 loops each)\n",
      "871 µs ± 52.7 µs per loop (mean ± std. dev. of 7 runs, 1000 loops each)\n",
      "1.53 ms ± 40.4 µs per loop (mean ± std. dev. of 7 runs, 1000 loops each)\n",
      "3.12 ms ± 85 µs per loop (mean ± std. dev. of 7 runs, 100 loops each)\n"
     ]
    }
   ],
   "source": [
    "import torch\n",
    "print(torch.__version__)\n",
    "\n",
    "# warm up\n",
    "for i in range(1000):\n",
    "    torch.arange(100000, device='cuda')\n",
    "    \n",
    "def benchmark(size):\n",
    "    m = torch.nn.PReLU().cuda()\n",
    "    a = torch.randn(2 ** size, device='cuda')\n",
    "    b = torch.randn_like(a)\n",
    "    loss = m(a)\n",
    "    torch.cuda.synchronize()\n",
    "    %timeit loss.backward(b, retain_graph=True); torch.cuda.synchronize()\n",
    "    \n",
    "print(\"float:\")\n",
    "for i in range(15, 28):\n",
    "    benchmark(i)\n",
    "print()\n",
    "    \n",
    "def benchmark_half(size):\n",
    "    m = torch.nn.PReLU().half().cuda()\n",
    "    a = torch.randn(2 ** size, dtype=torch.half, device='cuda')\n",
    "    b = torch.randn_like(a)\n",
    "    loss = m(a)\n",
    "    torch.cuda.synchronize()\n",
    "    %timeit loss.backward(b, retain_graph=True); torch.cuda.synchronize()\n",
    "    \n",
    "print(\"half:\")\n",
    "for i in range(15, 28):\n",
    "    benchmark_half(i)"
   ]
  },
  {
   "cell_type": "markdown",
   "metadata": {},
   "source": [
    "# After"
   ]
  },
  {
   "cell_type": "code",
   "execution_count": 5,
   "metadata": {},
   "outputs": [
    {
     "name": "stdout",
     "output_type": "stream",
     "text": [
      "1.6.0a0+bd11d9b\n",
      "float:\n",
      "88.4 µs ± 13.1 µs per loop (mean ± std. dev. of 7 runs, 10000 loops each)\n",
      "117 µs ± 14.4 µs per loop (mean ± std. dev. of 7 runs, 10000 loops each)\n",
      "121 µs ± 11.5 µs per loop (mean ± std. dev. of 7 runs, 10000 loops each)\n",
      "108 µs ± 21.1 µs per loop (mean ± std. dev. of 7 runs, 10000 loops each)\n",
      "87.5 µs ± 6.23 µs per loop (mean ± std. dev. of 7 runs, 10000 loops each)\n",
      "104 µs ± 2.95 µs per loop (mean ± std. dev. of 7 runs, 10000 loops each)\n",
      "144 µs ± 2.67 µs per loop (mean ± std. dev. of 7 runs, 1000 loops each)\n",
      "250 µs ± 32 µs per loop (mean ± std. dev. of 7 runs, 1000 loops each)\n",
      "419 µs ± 27.3 µs per loop (mean ± std. dev. of 7 runs, 1000 loops each)\n",
      "877 µs ± 29.5 µs per loop (mean ± std. dev. of 7 runs, 1000 loops each)\n",
      "1.59 ms ± 126 µs per loop (mean ± std. dev. of 7 runs, 1000 loops each)\n",
      "3.16 ms ± 35.3 µs per loop (mean ± std. dev. of 7 runs, 100 loops each)\n",
      "6.28 ms ± 128 µs per loop (mean ± std. dev. of 7 runs, 100 loops each)\n",
      "\n",
      "half:\n",
      "129 µs ± 4.27 µs per loop (mean ± std. dev. of 7 runs, 10000 loops each)\n",
      "128 µs ± 2.78 µs per loop (mean ± std. dev. of 7 runs, 10000 loops each)\n",
      "137 µs ± 24.1 µs per loop (mean ± std. dev. of 7 runs, 10000 loops each)\n",
      "125 µs ± 7.79 µs per loop (mean ± std. dev. of 7 runs, 10000 loops each)\n",
      "109 µs ± 17 µs per loop (mean ± std. dev. of 7 runs, 10000 loops each)\n",
      "108 µs ± 15.8 µs per loop (mean ± std. dev. of 7 runs, 10000 loops each)\n",
      "130 µs ± 11.5 µs per loop (mean ± std. dev. of 7 runs, 10000 loops each)\n",
      "181 µs ± 3.28 µs per loop (mean ± std. dev. of 7 runs, 10000 loops each)\n",
      "286 µs ± 21 µs per loop (mean ± std. dev. of 7 runs, 1000 loops each)\n",
      "483 µs ± 23.6 µs per loop (mean ± std. dev. of 7 runs, 1000 loops each)\n",
      "869 µs ± 16.9 µs per loop (mean ± std. dev. of 7 runs, 1000 loops each)\n",
      "1.63 ms ± 8.16 µs per loop (mean ± std. dev. of 7 runs, 1000 loops each)\n",
      "3.22 ms ± 38.3 µs per loop (mean ± std. dev. of 7 runs, 100 loops each)\n"
     ]
    }
   ],
   "source": [
    "import torch\n",
    "print(torch.__version__)\n",
    "\n",
    "# warm up\n",
    "for i in range(1000):\n",
    "    torch.arange(100000, device='cuda')\n",
    "    \n",
    "def benchmark(size):\n",
    "    m = torch.nn.PReLU().cuda()\n",
    "    a = torch.randn(2 ** size, device='cuda')\n",
    "    b = torch.randn_like(a)\n",
    "    loss = m(a)\n",
    "    torch.cuda.synchronize()\n",
    "    %timeit loss.backward(b, retain_graph=True); torch.cuda.synchronize()\n",
    "    \n",
    "print(\"float:\")\n",
    "for i in range(15, 28):\n",
    "    benchmark(i)\n",
    "print()\n",
    "    \n",
    "def benchmark_half(size):\n",
    "    m = torch.nn.PReLU().half().cuda()\n",
    "    a = torch.randn(2 ** size, dtype=torch.half, device='cuda')\n",
    "    b = torch.randn_like(a)\n",
    "    loss = m(a)\n",
    "    torch.cuda.synchronize()\n",
    "    %timeit loss.backward(b, retain_graph=True); torch.cuda.synchronize()\n",
    "    \n",
    "print(\"half:\")\n",
    "for i in range(15, 28):\n",
    "    benchmark_half(i)"
   ]
  },
  {
   "cell_type": "code",
   "execution_count": null,
   "metadata": {},
   "outputs": [],
   "source": []
  }
 ],
 "metadata": {
  "kernelspec": {
   "display_name": "Python 3",
   "language": "python",
   "name": "python3"
  },
  "language_info": {
   "codemirror_mode": {
    "name": "ipython",
    "version": 3
   },
   "file_extension": ".py",
   "mimetype": "text/x-python",
   "name": "python",
   "nbconvert_exporter": "python",
   "pygments_lexer": "ipython3",
   "version": "3.8.2"
  }
 },
 "nbformat": 4,
 "nbformat_minor": 4
}
