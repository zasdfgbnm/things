{
 "cells": [
  {
   "cell_type": "markdown",
   "metadata": {},
   "source": [
    "# Before"
   ]
  },
  {
   "cell_type": "code",
   "execution_count": 1,
   "metadata": {},
   "outputs": [
    {
     "name": "stdout",
     "output_type": "stream",
     "text": [
      "1.6.0a0+96eec95\n",
      "float:\n",
      "122 µs ± 6.06 µs per loop (mean ± std. dev. of 7 runs, 10000 loops each)\n",
      "124 µs ± 886 ns per loop (mean ± std. dev. of 7 runs, 10000 loops each)\n",
      "122 µs ± 1.33 µs per loop (mean ± std. dev. of 7 runs, 10000 loops each)\n",
      "123 µs ± 3.02 µs per loop (mean ± std. dev. of 7 runs, 10000 loops each)\n",
      "123 µs ± 5.84 µs per loop (mean ± std. dev. of 7 runs, 10000 loops each)\n",
      "140 µs ± 1.04 µs per loop (mean ± std. dev. of 7 runs, 10000 loops each)\n",
      "169 µs ± 1.12 µs per loop (mean ± std. dev. of 7 runs, 10000 loops each)\n",
      "229 µs ± 1.86 µs per loop (mean ± std. dev. of 7 runs, 1000 loops each)\n",
      "335 µs ± 1.73 µs per loop (mean ± std. dev. of 7 runs, 1000 loops each)\n",
      "541 µs ± 2.99 µs per loop (mean ± std. dev. of 7 runs, 1000 loops each)\n",
      "958 µs ± 2.41 µs per loop (mean ± std. dev. of 7 runs, 1000 loops each)\n",
      "1.8 ms ± 2.54 µs per loop (mean ± std. dev. of 7 runs, 1000 loops each)\n",
      "3.44 ms ± 2.13 µs per loop (mean ± std. dev. of 7 runs, 100 loops each)\n",
      "\n",
      "half:\n",
      "119 µs ± 5.92 µs per loop (mean ± std. dev. of 7 runs, 10000 loops each)\n",
      "128 µs ± 5.03 µs per loop (mean ± std. dev. of 7 runs, 10000 loops each)\n",
      "124 µs ± 5.7 µs per loop (mean ± std. dev. of 7 runs, 10000 loops each)\n",
      "124 µs ± 3.28 µs per loop (mean ± std. dev. of 7 runs, 10000 loops each)\n",
      "122 µs ± 1.13 µs per loop (mean ± std. dev. of 7 runs, 10000 loops each)\n",
      "125 µs ± 2.57 µs per loop (mean ± std. dev. of 7 runs, 10000 loops each)\n",
      "143 µs ± 1.02 µs per loop (mean ± std. dev. of 7 runs, 10000 loops each)\n",
      "180 µs ± 1.5 µs per loop (mean ± std. dev. of 7 runs, 10000 loops each)\n",
      "245 µs ± 3.17 µs per loop (mean ± std. dev. of 7 runs, 1000 loops each)\n",
      "353 µs ± 3.98 µs per loop (mean ± std. dev. of 7 runs, 1000 loops each)\n",
      "574 µs ± 1.68 µs per loop (mean ± std. dev. of 7 runs, 1000 loops each)\n",
      "1.06 ms ± 2.77 µs per loop (mean ± std. dev. of 7 runs, 1000 loops each)\n",
      "2 ms ± 3.31 µs per loop (mean ± std. dev. of 7 runs, 1000 loops each)\n"
     ]
    }
   ],
   "source": [
    "import torch\n",
    "print(torch.__version__)\n",
    "\n",
    "# warm up\n",
    "for i in range(1000):\n",
    "    torch.arange(100000, device='cuda')\n",
    "    \n",
    "def benchmark(size):\n",
    "    m = torch.nn.PReLU().cuda()\n",
    "    a = torch.randn(2 ** size, device='cuda')\n",
    "    b = torch.randn_like(a)\n",
    "    loss = m(a)\n",
    "    torch.cuda.synchronize()\n",
    "    %timeit loss.backward(b, retain_graph=True); torch.cuda.synchronize()\n",
    "    \n",
    "print(\"float:\")\n",
    "for i in range(15, 28):\n",
    "    benchmark(i)\n",
    "print()\n",
    "    \n",
    "def benchmark_half(size):\n",
    "    m = torch.nn.PReLU().half().cuda()\n",
    "    a = torch.randn(2 ** size, dtype=torch.half, device='cuda')\n",
    "    b = torch.randn_like(a)\n",
    "    loss = m(a)\n",
    "    torch.cuda.synchronize()\n",
    "    %timeit loss.backward(b, retain_graph=True); torch.cuda.synchronize()\n",
    "    \n",
    "print(\"half:\")\n",
    "for i in range(15, 28):\n",
    "    benchmark_half(i)"
   ]
  },
  {
   "cell_type": "markdown",
   "metadata": {},
   "source": [
    "# After"
   ]
  },
  {
   "cell_type": "code",
   "execution_count": 1,
   "metadata": {},
   "outputs": [
    {
     "name": "stdout",
     "output_type": "stream",
     "text": [
      "1.6.0a0+6e5e069\n",
      "float:\n",
      "117 µs ± 5.63 µs per loop (mean ± std. dev. of 7 runs, 10000 loops each)\n",
      "126 µs ± 7.57 µs per loop (mean ± std. dev. of 7 runs, 10000 loops each)\n",
      "120 µs ± 2.94 µs per loop (mean ± std. dev. of 7 runs, 10000 loops each)\n",
      "117 µs ± 3.74 µs per loop (mean ± std. dev. of 7 runs, 10000 loops each)\n",
      "122 µs ± 8.27 µs per loop (mean ± std. dev. of 7 runs, 10000 loops each)\n",
      "138 µs ± 822 ns per loop (mean ± std. dev. of 7 runs, 10000 loops each)\n",
      "166 µs ± 749 ns per loop (mean ± std. dev. of 7 runs, 10000 loops each)\n",
      "222 µs ± 546 ns per loop (mean ± std. dev. of 7 runs, 1000 loops each)\n",
      "324 µs ± 3.35 µs per loop (mean ± std. dev. of 7 runs, 1000 loops each)\n",
      "524 µs ± 5.07 µs per loop (mean ± std. dev. of 7 runs, 1000 loops each)\n",
      "930 µs ± 1.77 µs per loop (mean ± std. dev. of 7 runs, 1000 loops each)\n",
      "1.74 ms ± 3.03 µs per loop (mean ± std. dev. of 7 runs, 1000 loops each)\n",
      "3.36 ms ± 11.3 µs per loop (mean ± std. dev. of 7 runs, 100 loops each)\n",
      "\n",
      "half:\n",
      "116 µs ± 8.11 µs per loop (mean ± std. dev. of 7 runs, 10000 loops each)\n",
      "123 µs ± 4.67 µs per loop (mean ± std. dev. of 7 runs, 10000 loops each)\n",
      "123 µs ± 6.11 µs per loop (mean ± std. dev. of 7 runs, 10000 loops each)\n",
      "120 µs ± 4.68 µs per loop (mean ± std. dev. of 7 runs, 10000 loops each)\n",
      "120 µs ± 2.59 µs per loop (mean ± std. dev. of 7 runs, 10000 loops each)\n",
      "117 µs ± 2.33 µs per loop (mean ± std. dev. of 7 runs, 10000 loops each)\n",
      "138 µs ± 1.16 µs per loop (mean ± std. dev. of 7 runs, 10000 loops each)\n",
      "167 µs ± 1.77 µs per loop (mean ± std. dev. of 7 runs, 10000 loops each)\n",
      "227 µs ± 1.02 µs per loop (mean ± std. dev. of 7 runs, 1000 loops each)\n",
      "333 µs ± 1.65 µs per loop (mean ± std. dev. of 7 runs, 1000 loops each)\n",
      "539 µs ± 574 ns per loop (mean ± std. dev. of 7 runs, 1000 loops each)\n",
      "958 µs ± 2.13 µs per loop (mean ± std. dev. of 7 runs, 1000 loops each)\n",
      "1.78 ms ± 2.47 µs per loop (mean ± std. dev. of 7 runs, 1000 loops each)\n"
     ]
    }
   ],
   "source": [
    "import torch\n",
    "print(torch.__version__)\n",
    "\n",
    "# warm up\n",
    "for i in range(1000):\n",
    "    torch.arange(100000, device='cuda')\n",
    "    \n",
    "def benchmark(size):\n",
    "    m = torch.nn.PReLU().cuda()\n",
    "    a = torch.randn(2 ** size, device='cuda')\n",
    "    b = torch.randn_like(a)\n",
    "    loss = m(a)\n",
    "    torch.cuda.synchronize()\n",
    "    %timeit loss.backward(b, retain_graph=True); torch.cuda.synchronize()\n",
    "    \n",
    "print(\"float:\")\n",
    "for i in range(15, 28):\n",
    "    benchmark(i)\n",
    "print()\n",
    "    \n",
    "def benchmark_half(size):\n",
    "    m = torch.nn.PReLU().half().cuda()\n",
    "    a = torch.randn(2 ** size, dtype=torch.half, device='cuda')\n",
    "    b = torch.randn_like(a)\n",
    "    loss = m(a)\n",
    "    torch.cuda.synchronize()\n",
    "    %timeit loss.backward(b, retain_graph=True); torch.cuda.synchronize()\n",
    "    \n",
    "print(\"half:\")\n",
    "for i in range(15, 28):\n",
    "    benchmark_half(i)"
   ]
  },
  {
   "cell_type": "code",
   "execution_count": null,
   "metadata": {},
   "outputs": [],
   "source": []
  }
 ],
 "metadata": {
  "kernelspec": {
   "display_name": "Python 3",
   "language": "python",
   "name": "python3"
  },
  "language_info": {
   "codemirror_mode": {
    "name": "ipython",
    "version": 3
   },
   "file_extension": ".py",
   "mimetype": "text/x-python",
   "name": "python",
   "nbconvert_exporter": "python",
   "pygments_lexer": "ipython3",
   "version": "3.7.3"
  }
 },
 "nbformat": 4,
 "nbformat_minor": 4
}
