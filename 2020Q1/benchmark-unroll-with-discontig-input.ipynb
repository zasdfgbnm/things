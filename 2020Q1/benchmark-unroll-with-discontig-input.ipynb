{
 "cells": [
  {
   "cell_type": "markdown",
   "metadata": {},
   "source": [
    "# Before"
   ]
  },
  {
   "cell_type": "code",
   "execution_count": 1,
   "metadata": {},
   "outputs": [
    {
     "name": "stdout",
     "output_type": "stream",
     "text": [
      "12.8 µs ± 35 ns per loop (mean ± std. dev. of 7 runs, 100000 loops each)\n",
      "13.1 µs ± 136 ns per loop (mean ± std. dev. of 7 runs, 100000 loops each)\n",
      "13.3 µs ± 256 ns per loop (mean ± std. dev. of 7 runs, 100000 loops each)\n",
      "13.7 µs ± 267 ns per loop (mean ± std. dev. of 7 runs, 100000 loops each)\n",
      "14 µs ± 370 ns per loop (mean ± std. dev. of 7 runs, 100000 loops each)\n",
      "27.3 µs ± 692 ns per loop (mean ± std. dev. of 7 runs, 10000 loops each)\n",
      "43.3 µs ± 635 ns per loop (mean ± std. dev. of 7 runs, 10000 loops each)\n",
      "77.4 µs ± 2.15 µs per loop (mean ± std. dev. of 7 runs, 10000 loops each)\n",
      "137 µs ± 15 ns per loop (mean ± std. dev. of 7 runs, 10000 loops each)\n",
      "269 µs ± 7.59 µs per loop (mean ± std. dev. of 7 runs, 1000 loops each)\n",
      "522 µs ± 896 ns per loop (mean ± std. dev. of 7 runs, 1000 loops each)\n",
      "1.03 ms ± 7.13 µs per loop (mean ± std. dev. of 7 runs, 1000 loops each)\n",
      "2.04 ms ± 286 ns per loop (mean ± std. dev. of 7 runs, 100 loops each)\n",
      "4.07 ms ± 35.5 µs per loop (mean ± std. dev. of 7 runs, 100 loops each)\n",
      "8.11 ms ± 693 ns per loop (mean ± std. dev. of 7 runs, 100 loops each)\n",
      "16.5 ms ± 578 µs per loop (mean ± std. dev. of 7 runs, 100 loops each)\n"
     ]
    }
   ],
   "source": [
    "import torch\n",
    "\n",
    "for i in range(1000):\n",
    "    torch.arange(i, device='cuda')\n",
    "    \n",
    "def benchmark(i):\n",
    "    size1 = 2 ** (i // 2)\n",
    "    size2 = 2 ** (i - i // 2)\n",
    "    a = torch.zeros(size1, size2, device='cuda')\n",
    "    b = torch.zeros(size2, device='cuda')\n",
    "    torch.cuda.synchronize()\n",
    "    %timeit a + b; torch.cuda.synchronize()\n",
    "    \n",
    "for i in range(15, 31):\n",
    "    benchmark(i)"
   ]
  },
  {
   "cell_type": "markdown",
   "metadata": {},
   "source": [
    "# After"
   ]
  },
  {
   "cell_type": "code",
   "execution_count": 1,
   "metadata": {},
   "outputs": [
    {
     "name": "stdout",
     "output_type": "stream",
     "text": [
      "12.8 µs ± 410 ns per loop (mean ± std. dev. of 7 runs, 100000 loops each)\n",
      "12.5 µs ± 1.11 µs per loop (mean ± std. dev. of 7 runs, 100000 loops each)\n",
      "13 µs ± 477 ns per loop (mean ± std. dev. of 7 runs, 100000 loops each)\n",
      "13.1 µs ± 410 ns per loop (mean ± std. dev. of 7 runs, 100000 loops each)\n",
      "13.5 µs ± 191 ns per loop (mean ± std. dev. of 7 runs, 100000 loops each)\n",
      "25.3 µs ± 6.49 ns per loop (mean ± std. dev. of 7 runs, 10000 loops each)\n",
      "41.9 µs ± 112 ns per loop (mean ± std. dev. of 7 runs, 10000 loops each)\n",
      "74 µs ± 18.1 ns per loop (mean ± std. dev. of 7 runs, 10000 loops each)\n",
      "139 µs ± 87.5 ns per loop (mean ± std. dev. of 7 runs, 10000 loops each)\n",
      "270 µs ± 89.4 ns per loop (mean ± std. dev. of 7 runs, 1000 loops each)\n",
      "532 µs ± 79.2 ns per loop (mean ± std. dev. of 7 runs, 1000 loops each)\n",
      "1.05 ms ± 101 ns per loop (mean ± std. dev. of 7 runs, 1000 loops each)\n",
      "2.11 ms ± 18.8 µs per loop (mean ± std. dev. of 7 runs, 100 loops each)\n",
      "4.19 ms ± 22.2 µs per loop (mean ± std. dev. of 7 runs, 100 loops each)\n",
      "8.34 ms ± 1.01 µs per loop (mean ± std. dev. of 7 runs, 100 loops each)\n",
      "16.7 ms ± 13 µs per loop (mean ± std. dev. of 7 runs, 100 loops each)\n"
     ]
    }
   ],
   "source": [
    "import torch\n",
    "\n",
    "for i in range(1000):\n",
    "    torch.arange(i, device='cuda')\n",
    "    \n",
    "def benchmark(i):\n",
    "    size1 = 2 ** (i // 2)\n",
    "    size2 = 2 ** (i - i // 2)\n",
    "    a = torch.zeros(size1, size2, device='cuda')\n",
    "    b = torch.zeros(size2, device='cuda')\n",
    "    torch.cuda.synchronize()\n",
    "    %timeit a + b; torch.cuda.synchronize()\n",
    "    \n",
    "for i in range(15, 31):\n",
    "    benchmark(i)"
   ]
  },
  {
   "cell_type": "code",
   "execution_count": null,
   "metadata": {},
   "outputs": [],
   "source": []
  }
 ],
 "metadata": {
  "kernelspec": {
   "display_name": "Python 3",
   "language": "python",
   "name": "python3"
  },
  "language_info": {
   "codemirror_mode": {
    "name": "ipython",
    "version": 3
   },
   "file_extension": ".py",
   "mimetype": "text/x-python",
   "name": "python",
   "nbconvert_exporter": "python",
   "pygments_lexer": "ipython3",
   "version": "3.8.1"
  }
 },
 "nbformat": 4,
 "nbformat_minor": 4
}
