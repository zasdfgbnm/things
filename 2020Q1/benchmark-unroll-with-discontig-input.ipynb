{
 "cells": [
  {
   "cell_type": "markdown",
   "metadata": {},
   "source": [
    "# Before"
   ]
  },
  {
   "cell_type": "code",
   "execution_count": 3,
   "metadata": {},
   "outputs": [
    {
     "name": "stdout",
     "output_type": "stream",
     "text": [
      "1.5.0a0+3924c55\n",
      "\n",
      "13.2 µs ± 14.8 ns per loop (mean ± std. dev. of 7 runs, 100000 loops each)\n",
      "14.5 µs ± 43.5 ns per loop (mean ± std. dev. of 7 runs, 100000 loops each)\n",
      "15 µs ± 15.3 ns per loop (mean ± std. dev. of 7 runs, 100000 loops each)\n",
      "28.2 µs ± 38.2 ns per loop (mean ± std. dev. of 7 runs, 10000 loops each)\n",
      "45 µs ± 10.4 ns per loop (mean ± std. dev. of 7 runs, 10000 loops each)\n",
      "79 µs ± 133 ns per loop (mean ± std. dev. of 7 runs, 10000 loops each)\n",
      "147 µs ± 135 ns per loop (mean ± std. dev. of 7 runs, 10000 loops each)\n",
      "282 µs ± 336 ns per loop (mean ± std. dev. of 7 runs, 1000 loops each)\n",
      "554 µs ± 616 ns per loop (mean ± std. dev. of 7 runs, 1000 loops each)\n",
      "1.1 ms ± 346 ns per loop (mean ± std. dev. of 7 runs, 1000 loops each)\n",
      "2.19 ms ± 7.96 µs per loop (mean ± std. dev. of 7 runs, 100 loops each)\n",
      "4.37 ms ± 2.12 µs per loop (mean ± std. dev. of 7 runs, 100 loops each)\n",
      "8.72 ms ± 2.38 µs per loop (mean ± std. dev. of 7 runs, 100 loops each)\n",
      "\n",
      "13.1 µs ± 280 ns per loop (mean ± std. dev. of 7 runs, 100000 loops each)\n",
      "14.5 µs ± 11 ns per loop (mean ± std. dev. of 7 runs, 100000 loops each)\n",
      "15 µs ± 29.4 ns per loop (mean ± std. dev. of 7 runs, 100000 loops each)\n",
      "28.1 µs ± 100 ns per loop (mean ± std. dev. of 7 runs, 10000 loops each)\n",
      "45.1 µs ± 73.5 ns per loop (mean ± std. dev. of 7 runs, 10000 loops each)\n",
      "79 µs ± 20.7 ns per loop (mean ± std. dev. of 7 runs, 10000 loops each)\n",
      "147 µs ± 68.3 ns per loop (mean ± std. dev. of 7 runs, 10000 loops each)\n",
      "283 µs ± 146 ns per loop (mean ± std. dev. of 7 runs, 1000 loops each)\n",
      "556 µs ± 317 ns per loop (mean ± std. dev. of 7 runs, 1000 loops each)\n",
      "1.1 ms ± 221 ns per loop (mean ± std. dev. of 7 runs, 1000 loops each)\n",
      "2.2 ms ± 6.43 µs per loop (mean ± std. dev. of 7 runs, 100 loops each)\n",
      "4.38 ms ± 1.21 µs per loop (mean ± std. dev. of 7 runs, 100 loops each)\n",
      "11.6 ms ± 9.68 µs per loop (mean ± std. dev. of 7 runs, 100 loops each)\n"
     ]
    }
   ],
   "source": [
    "import torch\n",
    "print(torch.__version__)\n",
    "print()\n",
    "\n",
    "for i in range(1000):\n",
    "    torch.arange(i, device='cuda')\n",
    "    \n",
    "def benchmark1(i):\n",
    "    size1 = 2 ** (i // 2)\n",
    "    size2 = 2 ** (i - i // 2)\n",
    "    a = torch.zeros(size1, size2, dtype=torch.half, device='cuda')\n",
    "    b = torch.zeros(size2, dtype=torch.half, device='cuda')\n",
    "    torch.cuda.synchronize()\n",
    "    %timeit a + b; torch.cuda.synchronize()\n",
    "    \n",
    "def benchmark2(i):\n",
    "    size1 = 1024\n",
    "    size2 = 2 ** (i - 10)\n",
    "    a = torch.zeros(size1, size2, dtype=torch.half, device='cuda')\n",
    "    b = torch.zeros(size2, dtype=torch.half, device='cuda')\n",
    "    torch.cuda.synchronize()\n",
    "    %timeit a + b; torch.cuda.synchronize()\n",
    "    \n",
    "for i in range(18, 31):\n",
    "    benchmark1(i)\n",
    "print()\n",
    "for i in range(18, 31):\n",
    "    benchmark2(i)"
   ]
  },
  {
   "cell_type": "markdown",
   "metadata": {},
   "source": [
    "# After"
   ]
  },
  {
   "cell_type": "code",
   "execution_count": 1,
   "metadata": {},
   "outputs": [
    {
     "name": "stdout",
     "output_type": "stream",
     "text": [
      "1.5.0a0+9e4e93f\n",
      "\n",
      "13.8 µs ± 57.1 ns per loop (mean ± std. dev. of 7 runs, 100000 loops each)\n",
      "14.6 µs ± 15.2 ns per loop (mean ± std. dev. of 7 runs, 100000 loops each)\n",
      "16.6 µs ± 7.69 ns per loop (mean ± std. dev. of 7 runs, 100000 loops each)\n",
      "26.8 µs ± 11.2 ns per loop (mean ± std. dev. of 7 runs, 10000 loops each)\n",
      "42.5 µs ± 39.2 ns per loop (mean ± std. dev. of 7 runs, 10000 loops each)\n",
      "73.5 µs ± 13.3 ns per loop (mean ± std. dev. of 7 runs, 10000 loops each)\n",
      "136 µs ± 150 ns per loop (mean ± std. dev. of 7 runs, 10000 loops each)\n",
      "261 µs ± 81.4 ns per loop (mean ± std. dev. of 7 runs, 1000 loops each)\n",
      "511 µs ± 52.2 ns per loop (mean ± std. dev. of 7 runs, 1000 loops each)\n",
      "1.01 ms ± 37.7 ns per loop (mean ± std. dev. of 7 runs, 1000 loops each)\n",
      "2.01 ms ± 805 ns per loop (mean ± std. dev. of 7 runs, 100 loops each)\n",
      "4 ms ± 1.44 µs per loop (mean ± std. dev. of 7 runs, 100 loops each)\n",
      "7.99 ms ± 5.93 µs per loop (mean ± std. dev. of 7 runs, 100 loops each)\n",
      "\n",
      "13.5 µs ± 337 ns per loop (mean ± std. dev. of 7 runs, 100000 loops each)\n",
      "14.6 µs ± 56.6 ns per loop (mean ± std. dev. of 7 runs, 100000 loops each)\n",
      "16.7 µs ± 15.6 ns per loop (mean ± std. dev. of 7 runs, 100000 loops each)\n",
      "26.7 µs ± 26.8 ns per loop (mean ± std. dev. of 7 runs, 10000 loops each)\n",
      "42.5 µs ± 17.1 ns per loop (mean ± std. dev. of 7 runs, 10000 loops each)\n",
      "73.8 µs ± 27.5 ns per loop (mean ± std. dev. of 7 runs, 10000 loops each)\n",
      "136 µs ± 47.4 ns per loop (mean ± std. dev. of 7 runs, 10000 loops each)\n",
      "261 µs ± 62.9 ns per loop (mean ± std. dev. of 7 runs, 1000 loops each)\n",
      "510 µs ± 80 ns per loop (mean ± std. dev. of 7 runs, 1000 loops each)\n",
      "1.01 ms ± 57.8 ns per loop (mean ± std. dev. of 7 runs, 1000 loops each)\n",
      "2.01 ms ± 513 ns per loop (mean ± std. dev. of 7 runs, 100 loops each)\n",
      "4.01 ms ± 739 ns per loop (mean ± std. dev. of 7 runs, 100 loops each)\n",
      "11.7 ms ± 1.32 µs per loop (mean ± std. dev. of 7 runs, 100 loops each)\n"
     ]
    }
   ],
   "source": [
    "import torch\n",
    "print(torch.__version__)\n",
    "print()\n",
    "\n",
    "for i in range(1000):\n",
    "    torch.arange(i, device='cuda')\n",
    "    \n",
    "def benchmark1(i):\n",
    "    size1 = 2 ** (i // 2)\n",
    "    size2 = 2 ** (i - i // 2)\n",
    "    a = torch.zeros(size1, size2, dtype=torch.half, device='cuda')\n",
    "    b = torch.zeros(size2, dtype=torch.half, device='cuda')\n",
    "    torch.cuda.synchronize()\n",
    "    %timeit a + b; torch.cuda.synchronize()\n",
    "    \n",
    "def benchmark2(i):\n",
    "    size1 = 1024\n",
    "    size2 = 2 ** (i - 10)\n",
    "    a = torch.zeros(size1, size2, dtype=torch.half, device='cuda')\n",
    "    b = torch.zeros(size2, dtype=torch.half, device='cuda')\n",
    "    torch.cuda.synchronize()\n",
    "    %timeit a + b; torch.cuda.synchronize()\n",
    "    \n",
    "for i in range(18, 31):\n",
    "    benchmark1(i)\n",
    "print()\n",
    "for i in range(18, 31):\n",
    "    benchmark2(i)"
   ]
  },
  {
   "cell_type": "code",
   "execution_count": null,
   "metadata": {},
   "outputs": [],
   "source": []
  }
 ],
 "metadata": {
  "kernelspec": {
   "display_name": "Python 3",
   "language": "python",
   "name": "python3"
  },
  "language_info": {
   "codemirror_mode": {
    "name": "ipython",
    "version": 3
   },
   "file_extension": ".py",
   "mimetype": "text/x-python",
   "name": "python",
   "nbconvert_exporter": "python",
   "pygments_lexer": "ipython3",
   "version": "3.8.1"
  }
 },
 "nbformat": 4,
 "nbformat_minor": 4
}
