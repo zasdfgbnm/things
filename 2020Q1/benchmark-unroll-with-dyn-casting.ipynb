{
 "cells": [
  {
   "cell_type": "code",
   "execution_count": 1,
   "metadata": {},
   "outputs": [
    {
     "name": "stdout",
     "output_type": "stream",
     "text": [
      "\n"
     ]
    }
   ],
   "source": [
    "import torch\n",
    "import gc\n",
    "print()\n",
    "\n",
    "for i in range(1000):\n",
    "    torch.arange(i, device='cuda')\n",
    "    \n",
    "def benchmark1(i):\n",
    "    size = 2 ** i\n",
    "    a = torch.zeros(size, dtype=torch.half, device='cuda')\n",
    "    b = torch.zeros(size, dtype=torch.float, device='cuda')\n",
    "    torch.cuda.synchronize()\n",
    "    %timeit a + b; torch.cuda.synchronize()\n",
    "    del a, b\n",
    "    gc.collect()\n",
    "    \n",
    "def benchmark2(i):\n",
    "    size1 = 2 ** (i // 2)\n",
    "    size2 = 2 ** (i - i // 2)\n",
    "    a = torch.zeros(size1, size2, dtype=torch.half, device='cuda')\n",
    "    b = torch.zeros(size2, dtype=torch.float, device='cuda')\n",
    "    torch.cuda.synchronize()\n",
    "    %timeit a + b; torch.cuda.synchronize()\n",
    "    del a, b\n",
    "    gc.collect()"
   ]
  },
  {
   "cell_type": "markdown",
   "metadata": {},
   "source": [
    "# Before"
   ]
  },
  {
   "cell_type": "code",
   "execution_count": 2,
   "metadata": {},
   "outputs": [
    {
     "name": "stdout",
     "output_type": "stream",
     "text": [
      "1.5.0a0+3924c55\n",
      "13.9 µs ± 923 ns per loop (mean ± std. dev. of 7 runs, 100000 loops each)\n",
      "17.4 µs ± 205 ns per loop (mean ± std. dev. of 7 runs, 100000 loops each)\n",
      "36 µs ± 105 ns per loop (mean ± std. dev. of 7 runs, 10000 loops each)\n",
      "58.5 µs ± 1.75 µs per loop (mean ± std. dev. of 7 runs, 10000 loops each)\n",
      "97.5 µs ± 154 ns per loop (mean ± std. dev. of 7 runs, 10000 loops each)\n",
      "189 µs ± 7.01 µs per loop (mean ± std. dev. of 7 runs, 10000 loops each)\n",
      "394 µs ± 39.7 µs per loop (mean ± std. dev. of 7 runs, 1000 loops each)\n",
      "689 µs ± 41 µs per loop (mean ± std. dev. of 7 runs, 1000 loops each)\n",
      "1.39 ms ± 129 µs per loop (mean ± std. dev. of 7 runs, 1000 loops each)\n"
     ]
    }
   ],
   "source": [
    "print(torch.__version__)\n",
    "for i in range(18, 27):\n",
    "    benchmark1(i)"
   ]
  },
  {
   "cell_type": "code",
   "execution_count": 3,
   "metadata": {},
   "outputs": [
    {
     "name": "stdout",
     "output_type": "stream",
     "text": [
      "1.5.0a0+3924c55\n",
      "14.7 µs ± 89.3 ns per loop (mean ± std. dev. of 7 runs, 100000 loops each)\n",
      "17.5 µs ± 836 ns per loop (mean ± std. dev. of 7 runs, 100000 loops each)\n",
      "25 µs ± 606 ns per loop (mean ± std. dev. of 7 runs, 10000 loops each)\n",
      "41.6 µs ± 4.11 µs per loop (mean ± std. dev. of 7 runs, 10000 loops each)\n",
      "66.2 µs ± 1.53 µs per loop (mean ± std. dev. of 7 runs, 10000 loops each)\n",
      "140 µs ± 2.05 µs per loop (mean ± std. dev. of 7 runs, 10000 loops each)\n",
      "267 µs ± 442 ns per loop (mean ± std. dev. of 7 runs, 1000 loops each)\n",
      "560 µs ± 1.56 µs per loop (mean ± std. dev. of 7 runs, 1000 loops each)\n",
      "1.11 ms ± 4.76 µs per loop (mean ± std. dev. of 7 runs, 1000 loops each)\n"
     ]
    }
   ],
   "source": [
    "print(torch.__version__)\n",
    "for i in range(18, 27):\n",
    "    benchmark2(i)"
   ]
  },
  {
   "cell_type": "markdown",
   "metadata": {},
   "source": [
    "# After"
   ]
  },
  {
   "cell_type": "code",
   "execution_count": 2,
   "metadata": {},
   "outputs": [
    {
     "name": "stdout",
     "output_type": "stream",
     "text": [
      "1.5.0a0+398d0f5\n",
      "12.4 µs ± 391 ns per loop (mean ± std. dev. of 7 runs, 100000 loops each)\n",
      "13.5 µs ± 35.8 ns per loop (mean ± std. dev. of 7 runs, 100000 loops each)\n",
      "29.7 µs ± 97.2 ns per loop (mean ± std. dev. of 7 runs, 10000 loops each)\n",
      "49.4 µs ± 28.6 ns per loop (mean ± std. dev. of 7 runs, 10000 loops each)\n",
      "88 µs ± 21.5 ns per loop (mean ± std. dev. of 7 runs, 10000 loops each)\n",
      "173 µs ± 7.42 µs per loop (mean ± std. dev. of 7 runs, 10000 loops each)\n",
      "320 µs ± 95.6 ns per loop (mean ± std. dev. of 7 runs, 1000 loops each)\n",
      "630 µs ± 483 ns per loop (mean ± std. dev. of 7 runs, 1000 loops each)\n",
      "1.25 ms ± 1.91 µs per loop (mean ± std. dev. of 7 runs, 1000 loops each)\n"
     ]
    }
   ],
   "source": [
    "print(torch.__version__)\n",
    "for i in range(18, 27):\n",
    "    benchmark1(i)"
   ]
  },
  {
   "cell_type": "code",
   "execution_count": 3,
   "metadata": {},
   "outputs": [
    {
     "name": "stdout",
     "output_type": "stream",
     "text": [
      "1.5.0a0+398d0f5\n",
      "13.5 µs ± 211 ns per loop (mean ± std. dev. of 7 runs, 100000 loops each)\n",
      "15.7 µs ± 19.7 ns per loop (mean ± std. dev. of 7 runs, 100000 loops each)\n",
      "24.9 µs ± 43 ns per loop (mean ± std. dev. of 7 runs, 10000 loops each)\n",
      "39.1 µs ± 24.6 ns per loop (mean ± std. dev. of 7 runs, 10000 loops each)\n",
      "66.8 µs ± 29.6 ns per loop (mean ± std. dev. of 7 runs, 10000 loops each)\n",
      "123 µs ± 566 ns per loop (mean ± std. dev. of 7 runs, 10000 loops each)\n",
      "235 µs ± 476 ns per loop (mean ± std. dev. of 7 runs, 1000 loops each)\n",
      "468 µs ± 249 ns per loop (mean ± std. dev. of 7 runs, 1000 loops each)\n",
      "934 µs ± 20 µs per loop (mean ± std. dev. of 7 runs, 1000 loops each)\n"
     ]
    }
   ],
   "source": [
    "print(torch.__version__)\n",
    "for i in range(18, 27):\n",
    "    benchmark2(i)"
   ]
  },
  {
   "cell_type": "code",
   "execution_count": null,
   "metadata": {},
   "outputs": [],
   "source": []
  }
 ],
 "metadata": {
  "kernelspec": {
   "display_name": "Python 3",
   "language": "python",
   "name": "python3"
  },
  "language_info": {
   "codemirror_mode": {
    "name": "ipython",
    "version": 3
   },
   "file_extension": ".py",
   "mimetype": "text/x-python",
   "name": "python",
   "nbconvert_exporter": "python",
   "pygments_lexer": "ipython3",
   "version": "3.8.1"
  }
 },
 "nbformat": 4,
 "nbformat_minor": 4
}
