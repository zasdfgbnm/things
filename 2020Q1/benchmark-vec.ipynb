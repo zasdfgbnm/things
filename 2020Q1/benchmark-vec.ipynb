{
 "cells": [
  {
   "cell_type": "code",
   "execution_count": 2,
   "metadata": {},
   "outputs": [],
   "source": [
    "import torch\n",
    "import gc\n",
    "\n",
    "c = torch.empty(1024 * 1024 * 512, device='cuda')\n",
    "\n",
    "for i in range(1000):\n",
    "    c + c\n",
    "    \n",
    "del c\n",
    "\n",
    "def benchmark_size(size):\n",
    "    size = 2 ** size\n",
    "    a = torch.empty(size, device='cuda')\n",
    "    b = torch.empty_like(a)\n",
    "    torch.cuda.synchronize()\n",
    "    %timeit a + b; torch.cuda.synchronize()\n",
    "    gc.collect()\n",
    "    \n",
    "def run_benchmarks():\n",
    "    for size in range(20, 30):\n",
    "        benchmark_size(size)"
   ]
  },
  {
   "cell_type": "markdown",
   "metadata": {},
   "source": [
    "# unroll only"
   ]
  },
  {
   "cell_type": "code",
   "execution_count": 2,
   "metadata": {
    "scrolled": true
   },
   "outputs": [
    {
     "name": "stdout",
     "output_type": "stream",
     "text": [
      "1.5.0a0+b1a239b\n",
      "b1a239be8d529e89875fe47cd09964ef3a9516ac\n",
      "30.4 µs ± 18 ns per loop (mean ± std. dev. of 7 runs, 10000 loops each)\n",
      "45.2 µs ± 46.5 ns per loop (mean ± std. dev. of 7 runs, 10000 loops each)\n",
      "75 µs ± 476 ns per loop (mean ± std. dev. of 7 runs, 10000 loops each)\n",
      "134 µs ± 192 ns per loop (mean ± std. dev. of 7 runs, 10000 loops each)\n",
      "253 µs ± 354 ns per loop (mean ± std. dev. of 7 runs, 1000 loops each)\n",
      "489 µs ± 138 ns per loop (mean ± std. dev. of 7 runs, 1000 loops each)\n",
      "961 µs ± 431 ns per loop (mean ± std. dev. of 7 runs, 1000 loops each)\n",
      "1.91 ms ± 578 ns per loop (mean ± std. dev. of 7 runs, 1000 loops each)\n",
      "3.8 ms ± 88.8 ns per loop (mean ± std. dev. of 7 runs, 100 loops each)\n",
      "7.57 ms ± 763 ns per loop (mean ± std. dev. of 7 runs, 100 loops each)\n"
     ]
    }
   ],
   "source": [
    "print(torch.__version__)\n",
    "print(torch.version.git_version)\n",
    "run_benchmarks()"
   ]
  },
  {
   "cell_type": "markdown",
   "metadata": {},
   "source": [
    "# vectorize"
   ]
  },
  {
   "cell_type": "code",
   "execution_count": 3,
   "metadata": {},
   "outputs": [
    {
     "name": "stdout",
     "output_type": "stream",
     "text": [
      "1.5.0a0+0f09974\n",
      "0f09974b9ff297901fb9877651d398b560c899ec\n",
      "30 µs ± 12.6 ns per loop (mean ± std. dev. of 7 runs, 10000 loops each)\n",
      "45.1 µs ± 34.3 ns per loop (mean ± std. dev. of 7 runs, 10000 loops each)\n",
      "74.7 µs ± 39.2 ns per loop (mean ± std. dev. of 7 runs, 10000 loops each)\n",
      "134 µs ± 73.8 ns per loop (mean ± std. dev. of 7 runs, 10000 loops each)\n",
      "252 µs ± 27.5 ns per loop (mean ± std. dev. of 7 runs, 1000 loops each)\n",
      "488 µs ± 62.3 ns per loop (mean ± std. dev. of 7 runs, 1000 loops each)\n",
      "961 µs ± 42 ns per loop (mean ± std. dev. of 7 runs, 1000 loops each)\n",
      "1.91 ms ± 272 ns per loop (mean ± std. dev. of 7 runs, 1000 loops each)\n",
      "3.8 ms ± 192 ns per loop (mean ± std. dev. of 7 runs, 100 loops each)\n",
      "7.58 ms ± 322 ns per loop (mean ± std. dev. of 7 runs, 100 loops each)\n"
     ]
    }
   ],
   "source": [
    "print(torch.__version__)\n",
    "print(torch.version.git_version)\n",
    "run_benchmarks()"
   ]
  },
  {
   "cell_type": "code",
   "execution_count": null,
   "metadata": {},
   "outputs": [],
   "source": []
  }
 ],
 "metadata": {
  "kernelspec": {
   "display_name": "Python 3",
   "language": "python",
   "name": "python3"
  },
  "language_info": {
   "codemirror_mode": {
    "name": "ipython",
    "version": 3
   },
   "file_extension": ".py",
   "mimetype": "text/x-python",
   "name": "python",
   "nbconvert_exporter": "python",
   "pygments_lexer": "ipython3",
   "version": "3.7.3"
  }
 },
 "nbformat": 4,
 "nbformat_minor": 2
}
