{
 "cells": [
  {
   "cell_type": "code",
   "execution_count": 1,
   "metadata": {},
   "outputs": [],
   "source": [
    "import torch\n",
    "import gc\n",
    "\n",
    "c = torch.empty(1024 * 1024 * 512, device='cuda')\n",
    "\n",
    "for i in range(1000):\n",
    "    c + c\n",
    "    \n",
    "del c\n",
    "\n",
    "def benchmark_size(size):\n",
    "    size = 2 ** size\n",
    "    a = torch.empty(size, dtype=torch.uint8, device='cuda')\n",
    "    b = torch.empty_like(a)\n",
    "    torch.cuda.synchronize()\n",
    "    %timeit a + b; torch.cuda.synchronize()\n",
    "    gc.collect()\n",
    "    \n",
    "def run_benchmarks():\n",
    "    for size in range(20, 30):\n",
    "        benchmark_size(size)"
   ]
  },
  {
   "cell_type": "markdown",
   "metadata": {},
   "source": [
    "# unroll"
   ]
  },
  {
   "cell_type": "code",
   "execution_count": 2,
   "metadata": {},
   "outputs": [
    {
     "name": "stdout",
     "output_type": "stream",
     "text": [
      "1.4.0a0+a5b4d78\n",
      "e1d97025eeeddcf083e9bee0c8f6a53168991a71\n",
      "22.2 µs ± 89.8 ns per loop (mean ± std. dev. of 7 runs, 10000 loops each)\n",
      "34.7 µs ± 38.2 ns per loop (mean ± std. dev. of 7 runs, 10000 loops each)\n",
      "52 µs ± 312 ns per loop (mean ± std. dev. of 7 runs, 10000 loops each)\n",
      "86.9 µs ± 135 ns per loop (mean ± std. dev. of 7 runs, 10000 loops each)\n",
      "154 µs ± 204 ns per loop (mean ± std. dev. of 7 runs, 10000 loops each)\n",
      "291 µs ± 668 ns per loop (mean ± std. dev. of 7 runs, 1000 loops each)\n",
      "566 µs ± 1.16 µs per loop (mean ± std. dev. of 7 runs, 1000 loops each)\n",
      "1.18 ms ± 1.54 µs per loop (mean ± std. dev. of 7 runs, 1000 loops each)\n",
      "2.29 ms ± 1.48 µs per loop (mean ± std. dev. of 7 runs, 100 loops each)\n",
      "4.4 ms ± 1.15 µs per loop (mean ± std. dev. of 7 runs, 100 loops each)\n"
     ]
    }
   ],
   "source": [
    "print(torch.__version__)\n",
    "print(torch.version.git_version)\n",
    "run_benchmarks()"
   ]
  },
  {
   "cell_type": "markdown",
   "metadata": {},
   "source": [
    "# vectorized"
   ]
  },
  {
   "cell_type": "code",
   "execution_count": 3,
   "metadata": {},
   "outputs": [
    {
     "name": "stdout",
     "output_type": "stream",
     "text": [
      "1.4.0a0+a5b4d78\n",
      "1281cdfd8188fe86241ecaf71d001809d016c3a3\n",
      "24 µs ± 116 ns per loop (mean ± std. dev. of 7 runs, 10000 loops each)\n",
      "30.5 µs ± 355 ns per loop (mean ± std. dev. of 7 runs, 10000 loops each)\n",
      "43.1 µs ± 300 ns per loop (mean ± std. dev. of 7 runs, 10000 loops each)\n",
      "67.6 µs ± 113 ns per loop (mean ± std. dev. of 7 runs, 10000 loops each)\n",
      "116 µs ± 275 ns per loop (mean ± std. dev. of 7 runs, 10000 loops each)\n",
      "215 µs ± 142 ns per loop (mean ± std. dev. of 7 runs, 1000 loops each)\n",
      "413 µs ± 791 ns per loop (mean ± std. dev. of 7 runs, 1000 loops each)\n",
      "824 µs ± 891 ns per loop (mean ± std. dev. of 7 runs, 1000 loops each)\n",
      "1.63 ms ± 478 ns per loop (mean ± std. dev. of 7 runs, 1000 loops each)\n",
      "3.19 ms ± 1.2 µs per loop (mean ± std. dev. of 7 runs, 100 loops each)\n"
     ]
    }
   ],
   "source": [
    "print(torch.__version__)\n",
    "print(torch.version.git_version)\n",
    "run_benchmarks()"
   ]
  },
  {
   "cell_type": "code",
   "execution_count": null,
   "metadata": {},
   "outputs": [],
   "source": []
  }
 ],
 "metadata": {
  "kernelspec": {
   "display_name": "Python 3",
   "language": "python",
   "name": "python3"
  },
  "language_info": {
   "codemirror_mode": {
    "name": "ipython",
    "version": 3
   },
   "file_extension": ".py",
   "mimetype": "text/x-python",
   "name": "python",
   "nbconvert_exporter": "python",
   "pygments_lexer": "ipython3",
   "version": "3.6.9"
  }
 },
 "nbformat": 4,
 "nbformat_minor": 2
}
