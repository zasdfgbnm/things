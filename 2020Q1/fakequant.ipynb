{
 "cells": [
  {
   "cell_type": "markdown",
   "metadata": {},
   "source": [
    "# Device"
   ]
  },
  {
   "cell_type": "markdown",
   "metadata": {},
   "source": [
    "GTX 1650"
   ]
  },
  {
   "cell_type": "markdown",
   "metadata": {},
   "source": [
    "# After"
   ]
  },
  {
   "cell_type": "code",
   "execution_count": 1,
   "metadata": {},
   "outputs": [
    {
     "name": "stdout",
     "output_type": "stream",
     "text": [
      "1.5.0a0+3f18ac3\n",
      "12.5 µs ± 738 ns per loop (mean ± std. dev. of 7 runs, 100000 loops each)\n",
      "13.7 µs ± 195 ns per loop (mean ± std. dev. of 7 runs, 100000 loops each)\n",
      "17.9 µs ± 850 ns per loop (mean ± std. dev. of 7 runs, 100000 loops each)\n",
      "29.7 µs ± 285 ns per loop (mean ± std. dev. of 7 runs, 10000 loops each)\n",
      "50.4 µs ± 1.94 µs per loop (mean ± std. dev. of 7 runs, 10000 loops each)\n",
      "95 µs ± 8.23 µs per loop (mean ± std. dev. of 7 runs, 10000 loops each)\n",
      "173 µs ± 7.37 µs per loop (mean ± std. dev. of 7 runs, 10000 loops each)\n",
      "348 µs ± 29.7 µs per loop (mean ± std. dev. of 7 runs, 1000 loops each)\n",
      "657 µs ± 22.2 µs per loop (mean ± std. dev. of 7 runs, 1000 loops each)\n",
      "1.33 ms ± 77.7 µs per loop (mean ± std. dev. of 7 runs, 1000 loops each)\n",
      "2.71 ms ± 211 µs per loop (mean ± std. dev. of 7 runs, 100 loops each)\n",
      "5.33 ms ± 439 µs per loop (mean ± std. dev. of 7 runs, 100 loops each)\n"
     ]
    }
   ],
   "source": [
    "import torch\n",
    "print(torch.__version__)\n",
    "\n",
    "for i in range(1000):\n",
    "    torch.randn(1024 * 128, device='cuda')\n",
    "\n",
    "def f(e):\n",
    "    a = torch.randn(2 ** e, device='cuda')\n",
    "    torch.cuda.synchronize()\n",
    "    %timeit torch.fake_quantize_per_tensor_affine(a, 0.5, 0, 0, 1); torch.cuda.synchronize()\n",
    "    \n",
    "for i in range(15, 27):\n",
    "    f(i)"
   ]
  },
  {
   "cell_type": "markdown",
   "metadata": {},
   "source": [
    "# Before"
   ]
  },
  {
   "cell_type": "code",
   "execution_count": 1,
   "metadata": {},
   "outputs": [
    {
     "name": "stdout",
     "output_type": "stream",
     "text": [
      "1.5.0a0+bf00b4d\n",
      "14.5 µs ± 981 ns per loop (mean ± std. dev. of 7 runs, 100000 loops each)\n",
      "18.2 µs ± 1.09 µs per loop (mean ± std. dev. of 7 runs, 100000 loops each)\n",
      "25.6 µs ± 2.72 µs per loop (mean ± std. dev. of 7 runs, 10000 loops each)\n",
      "38.6 µs ± 135 ns per loop (mean ± std. dev. of 7 runs, 10000 loops each)\n",
      "70.2 µs ± 5.21 µs per loop (mean ± std. dev. of 7 runs, 10000 loops each)\n",
      "125 µs ± 4.98 µs per loop (mean ± std. dev. of 7 runs, 10000 loops each)\n",
      "231 µs ± 1.36 µs per loop (mean ± std. dev. of 7 runs, 1000 loops each)\n",
      "461 µs ± 22.9 µs per loop (mean ± std. dev. of 7 runs, 1000 loops each)\n",
      "891 µs ± 88.2 ns per loop (mean ± std. dev. of 7 runs, 1000 loops each)\n",
      "1.77 ms ± 8.13 µs per loop (mean ± std. dev. of 7 runs, 1000 loops each)\n",
      "3.77 ms ± 80.2 µs per loop (mean ± std. dev. of 7 runs, 100 loops each)\n",
      "7.16 ms ± 216 µs per loop (mean ± std. dev. of 7 runs, 100 loops each)\n"
     ]
    }
   ],
   "source": [
    "import torch\n",
    "print(torch.__version__)\n",
    "\n",
    "for i in range(1000):\n",
    "    torch.randn(1024 * 128, device='cuda')\n",
    "\n",
    "def f(e):\n",
    "    a = torch.randn(2 ** e, device='cuda')\n",
    "    torch.cuda.synchronize()\n",
    "    %timeit torch.fake_quantize_per_tensor_affine(a, 0.5, 0, 0, 1); torch.cuda.synchronize()\n",
    "    \n",
    "for i in range(15, 27):\n",
    "    f(i)"
   ]
  },
  {
   "cell_type": "code",
   "execution_count": null,
   "metadata": {},
   "outputs": [],
   "source": []
  }
 ],
 "metadata": {
  "kernelspec": {
   "display_name": "Python 3",
   "language": "python",
   "name": "python3"
  },
  "language_info": {
   "codemirror_mode": {
    "name": "ipython",
    "version": 3
   },
   "file_extension": ".py",
   "mimetype": "text/x-python",
   "name": "python",
   "nbconvert_exporter": "python",
   "pygments_lexer": "ipython3",
   "version": "3.8.1"
  }
 },
 "nbformat": 4,
 "nbformat_minor": 4
}
