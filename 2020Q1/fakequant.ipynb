{
 "cells": [
  {
   "cell_type": "markdown",
   "metadata": {},
   "source": [
    "# Device"
   ]
  },
  {
   "cell_type": "markdown",
   "metadata": {},
   "source": [
    "GTX 1650"
   ]
  },
  {
   "cell_type": "markdown",
   "metadata": {},
   "source": [
    "# After"
   ]
  },
  {
   "cell_type": "code",
   "execution_count": 1,
   "metadata": {},
   "outputs": [
    {
     "name": "stdout",
     "output_type": "stream",
     "text": [
      "1.5.0a0+e202c5c\n",
      "12.5 µs ± 540 ns per loop (mean ± std. dev. of 7 runs, 100000 loops each)\n",
      "14.4 µs ± 106 ns per loop (mean ± std. dev. of 7 runs, 100000 loops each)\n",
      "16.4 µs ± 12.1 ns per loop (mean ± std. dev. of 7 runs, 100000 loops each)\n",
      "29.7 µs ± 32.6 ns per loop (mean ± std. dev. of 7 runs, 10000 loops each)\n",
      "49 µs ± 32.8 ns per loop (mean ± std. dev. of 7 runs, 10000 loops each)\n",
      "90.9 µs ± 3.5 µs per loop (mean ± std. dev. of 7 runs, 10000 loops each)\n",
      "166 µs ± 264 ns per loop (mean ± std. dev. of 7 runs, 10000 loops each)\n",
      "321 µs ± 96.7 ns per loop (mean ± std. dev. of 7 runs, 1000 loops each)\n",
      "640 µs ± 18 µs per loop (mean ± std. dev. of 7 runs, 1000 loops each)\n",
      "1.3 ms ± 40 µs per loop (mean ± std. dev. of 7 runs, 1000 loops each)\n",
      "2.5 ms ± 279 ns per loop (mean ± std. dev. of 7 runs, 100 loops each)\n",
      "4.99 ms ± 17.3 µs per loop (mean ± std. dev. of 7 runs, 100 loops each)\n"
     ]
    }
   ],
   "source": [
    "import torch\n",
    "print(torch.__version__)\n",
    "\n",
    "for i in range(1000):\n",
    "    torch.randn(1024 * 128, device='cuda')\n",
    "\n",
    "def f(e):\n",
    "    a = torch.randn(2 ** e, device='cuda')\n",
    "    torch.cuda.synchronize()\n",
    "    %timeit torch.fake_quantize_per_tensor_affine(a, 0.5, 0, 0, 1); torch.cuda.synchronize()\n",
    "    \n",
    "for i in range(15, 27):\n",
    "    f(i)"
   ]
  },
  {
   "cell_type": "markdown",
   "metadata": {},
   "source": [
    "# Before"
   ]
  },
  {
   "cell_type": "code",
   "execution_count": 1,
   "metadata": {},
   "outputs": [
    {
     "name": "stdout",
     "output_type": "stream",
     "text": [
      "1.5.0a0+6f549e8\n",
      "13 µs ± 859 ns per loop (mean ± std. dev. of 7 runs, 100000 loops each)\n",
      "14.9 µs ± 963 ns per loop (mean ± std. dev. of 7 runs, 100000 loops each)\n",
      "17.7 µs ± 41.8 ns per loop (mean ± std. dev. of 7 runs, 100000 loops each)\n",
      "29.4 µs ± 18.1 ns per loop (mean ± std. dev. of 7 runs, 10000 loops each)\n",
      "48.9 µs ± 18.3 ns per loop (mean ± std. dev. of 7 runs, 10000 loops each)\n",
      "88 µs ± 22 ns per loop (mean ± std. dev. of 7 runs, 10000 loops each)\n",
      "166 µs ± 305 ns per loop (mean ± std. dev. of 7 runs, 10000 loops each)\n",
      "322 µs ± 1.51 µs per loop (mean ± std. dev. of 7 runs, 1000 loops each)\n",
      "633 µs ± 1.88 µs per loop (mean ± std. dev. of 7 runs, 1000 loops each)\n",
      "1.26 ms ± 4.16 µs per loop (mean ± std. dev. of 7 runs, 1000 loops each)\n",
      "2.51 ms ± 22.8 µs per loop (mean ± std. dev. of 7 runs, 100 loops each)\n",
      "4.99 ms ± 332 ns per loop (mean ± std. dev. of 7 runs, 100 loops each)\n"
     ]
    }
   ],
   "source": [
    "import torch\n",
    "print(torch.__version__)\n",
    "\n",
    "for i in range(1000):\n",
    "    torch.randn(1024 * 128, device='cuda')\n",
    "\n",
    "def f(e):\n",
    "    a = torch.randn(2 ** e, device='cuda')\n",
    "    torch.cuda.synchronize()\n",
    "    %timeit torch.fake_quantize_per_tensor_affine(a, 0.5, 0, 0, 1); torch.cuda.synchronize()\n",
    "    \n",
    "for i in range(15, 27):\n",
    "    f(i)"
   ]
  },
  {
   "cell_type": "code",
   "execution_count": 1,
   "metadata": {},
   "outputs": [
    {
     "name": "stdout",
     "output_type": "stream",
     "text": [
      "1.5.0a0+e202c5c\n",
      "11.5 µs ± 320 ns per loop (mean ± std. dev. of 7 runs, 100000 loops each)\n",
      "12.2 µs ± 203 ns per loop (mean ± std. dev. of 7 runs, 100000 loops each)\n",
      "14.4 µs ± 1.13 µs per loop (mean ± std. dev. of 7 runs, 100000 loops each)\n",
      "30.9 µs ± 2.28 µs per loop (mean ± std. dev. of 7 runs, 10000 loops each)\n",
      "49.5 µs ± 960 ns per loop (mean ± std. dev. of 7 runs, 10000 loops each)\n",
      "90.5 µs ± 4.18 µs per loop (mean ± std. dev. of 7 runs, 10000 loops each)\n",
      "173 µs ± 4.25 µs per loop (mean ± std. dev. of 7 runs, 10000 loops each)\n",
      "330 µs ± 4.84 µs per loop (mean ± std. dev. of 7 runs, 1000 loops each)\n",
      "643 µs ± 3.25 µs per loop (mean ± std. dev. of 7 runs, 1000 loops each)\n",
      "1.32 ms ± 57.7 µs per loop (mean ± std. dev. of 7 runs, 100 loops each)\n",
      "2.53 ms ± 28.5 µs per loop (mean ± std. dev. of 7 runs, 100 loops each)\n",
      "5.28 ms ± 148 µs per loop (mean ± std. dev. of 7 runs, 100 loops each)\n"
     ]
    }
   ],
   "source": [
    "import torch\n",
    "print(torch.__version__)\n",
    "\n",
    "for i in range(1000):\n",
    "    torch.randn(1024 * 128, device='cuda')\n",
    "\n",
    "def f(e):\n",
    "    a = torch.randn(2 ** e, device='cuda')\n",
    "    torch.cuda.synchronize()\n",
    "    %timeit torch.fake_quantize_per_tensor_affine(a, 0.5, 0, 0, 1); torch.cuda.synchronize()\n",
    "    \n",
    "for i in range(15, 27):\n",
    "    f(i)"
   ]
  },
  {
   "cell_type": "code",
   "execution_count": null,
   "metadata": {},
   "outputs": [],
   "source": []
  }
 ],
 "metadata": {
  "kernelspec": {
   "display_name": "Python 3",
   "language": "python",
   "name": "python3"
  },
  "language_info": {
   "codemirror_mode": {
    "name": "ipython",
    "version": 3
   },
   "file_extension": ".py",
   "mimetype": "text/x-python",
   "name": "python",
   "nbconvert_exporter": "python",
   "pygments_lexer": "ipython3",
   "version": "3.8.1"
  }
 },
 "nbformat": 4,
 "nbformat_minor": 4
}
