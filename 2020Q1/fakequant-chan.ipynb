{
 "cells": [
  {
   "cell_type": "markdown",
   "metadata": {},
   "source": [
    "# Device"
   ]
  },
  {
   "cell_type": "markdown",
   "metadata": {},
   "source": [
    "NVIDIA GTX 1650 + AMD Ryzen Threadripper 3970X"
   ]
  },
  {
   "cell_type": "markdown",
   "metadata": {},
   "source": [
    "# After"
   ]
  },
  {
   "cell_type": "code",
   "execution_count": null,
   "metadata": {},
   "outputs": [
    {
     "name": "stdout",
     "output_type": "stream",
     "text": [
      "1.5.0a0+a7ec8cc\n",
      "92.5 µs ± 2.03 µs per loop (mean ± std. dev. of 7 runs, 10000 loops each)\n",
      "97.7 µs ± 469 ns per loop (mean ± std. dev. of 7 runs, 10000 loops each)\n",
      "109 µs ± 4.73 µs per loop (mean ± std. dev. of 7 runs, 10000 loops each)\n",
      "119 µs ± 6.17 µs per loop (mean ± std. dev. of 7 runs, 10000 loops each)\n",
      "146 µs ± 1.84 µs per loop (mean ± std. dev. of 7 runs, 10000 loops each)\n",
      "211 µs ± 2.45 µs per loop (mean ± std. dev. of 7 runs, 1000 loops each)\n",
      "347 µs ± 4.18 µs per loop (mean ± std. dev. of 7 runs, 1000 loops each)\n",
      "624 µs ± 14.9 µs per loop (mean ± std. dev. of 7 runs, 1000 loops each)\n",
      "1.17 ms ± 16.8 µs per loop (mean ± std. dev. of 7 runs, 1000 loops each)\n",
      "2.25 ms ± 48.3 µs per loop (mean ± std. dev. of 7 runs, 100 loops each)\n",
      "4.43 ms ± 220 µs per loop (mean ± std. dev. of 7 runs, 100 loops each)\n",
      "8.51 ms ± 44.3 µs per loop (mean ± std. dev. of 7 runs, 100 loops each)\n",
      "16.9 ms ± 30.2 µs per loop (mean ± std. dev. of 7 runs, 100 loops each)\n",
      "33.7 ms ± 7.64 µs per loop (mean ± std. dev. of 7 runs, 10 loops each)\n",
      "\n",
      "201 µs ± 234 ns per loop (mean ± std. dev. of 7 runs, 1000 loops each)\n",
      "285 µs ± 465 ns per loop (mean ± std. dev. of 7 runs, 1000 loops each)\n",
      "287 µs ± 214 ns per loop (mean ± std. dev. of 7 runs, 1000 loops each)\n",
      "287 µs ± 221 ns per loop (mean ± std. dev. of 7 runs, 1000 loops each)\n",
      "287 µs ± 761 ns per loop (mean ± std. dev. of 7 runs, 1000 loops each)\n",
      "347 µs ± 399 ns per loop (mean ± std. dev. of 7 runs, 1000 loops each)\n",
      "675 µs ± 213 ns per loop (mean ± std. dev. of 7 runs, 1000 loops each)\n",
      "1.34 ms ± 643 ns per loop (mean ± std. dev. of 7 runs, 1000 loops each)\n",
      "4.82 ms ± 34.7 µs per loop (mean ± std. dev. of 7 runs, 100 loops each)\n",
      "10.7 ms ± 88.5 µs per loop (mean ± std. dev. of 7 runs, 100 loops each)\n",
      "20.3 ms ± 25.6 µs per loop (mean ± std. dev. of 7 runs, 10 loops each)\n",
      "39.4 ms ± 242 µs per loop (mean ± std. dev. of 7 runs, 10 loops each)\n",
      "78.8 ms ± 2 ms per loop (mean ± std. dev. of 7 runs, 10 loops each)\n",
      "153 ms ± 786 µs per loop (mean ± std. dev. of 7 runs, 10 loops each)\n",
      "285 ms ± 911 µs per loop (mean ± std. dev. of 7 runs, 1 loop each)\n",
      "541 ms ± 1.09 ms per loop (mean ± std. dev. of 7 runs, 1 loop each)\n",
      "1.03 s ± 1.67 ms per loop (mean ± std. dev. of 7 runs, 1 loop each)\n",
      "1.97 s ± 8.59 ms per loop (mean ± std. dev. of 7 runs, 1 loop each)\n",
      "3.81 s ± 10.2 ms per loop (mean ± std. dev. of 7 runs, 1 loop each)\n"
     ]
    }
   ],
   "source": [
    "import torch\n",
    "print(torch.__version__)\n",
    "\n",
    "for i in range(1000):\n",
    "    torch.randn(1024 * 128, device='cuda')\n",
    "\n",
    "def cuda(e):\n",
    "    a = torch.randn(2 ** e, 32, device='cuda')\n",
    "    s = torch.randn(32, device='cuda')\n",
    "    z = torch.randn(32, device='cuda')\n",
    "    torch.cuda.synchronize()\n",
    "    %timeit torch.fake_quantize_per_channel_affine(a, s, z, 1, -999, 999); torch.cuda.synchronize()\n",
    "    \n",
    "def cpu(e):\n",
    "    a = torch.randn(2 ** e, 32, device='cpu')\n",
    "    s = torch.randn(32, device='cpu')\n",
    "    z = torch.randn(32, device='cpu')\n",
    "    %timeit torch.fake_quantize_per_channel_affine(a, s, z, 1, -999, 999);\n",
    "    \n",
    "for i in range(10, 24):\n",
    "    cuda(i)\n",
    "print()\n",
    "for i in range(10, 32):\n",
    "    cpu(i)"
   ]
  },
  {
   "cell_type": "markdown",
   "metadata": {},
   "source": [
    "# Before"
   ]
  },
  {
   "cell_type": "code",
   "execution_count": null,
   "metadata": {},
   "outputs": [
    {
     "name": "stdout",
     "output_type": "stream",
     "text": [
      "1.5.0a0+9bc922d\n",
      "849 µs ± 44.8 µs per loop (mean ± std. dev. of 7 runs, 1000 loops each)\n",
      "817 µs ± 30.4 µs per loop (mean ± std. dev. of 7 runs, 1000 loops each)\n",
      "814 µs ± 2.93 µs per loop (mean ± std. dev. of 7 runs, 1000 loops each)\n",
      "1.11 ms ± 1.32 µs per loop (mean ± std. dev. of 7 runs, 1000 loops each)\n",
      "1.19 ms ± 4.19 µs per loop (mean ± std. dev. of 7 runs, 1000 loops each)\n",
      "1.6 ms ± 5.58 µs per loop (mean ± std. dev. of 7 runs, 1000 loops each)\n",
      "2.44 ms ± 14.1 µs per loop (mean ± std. dev. of 7 runs, 100 loops each)\n",
      "4.14 ms ± 2.55 µs per loop (mean ± std. dev. of 7 runs, 100 loops each)\n",
      "7.41 ms ± 2.46 µs per loop (mean ± std. dev. of 7 runs, 100 loops each)\n",
      "13.9 ms ± 2.3 µs per loop (mean ± std. dev. of 7 runs, 100 loops each)\n",
      "26.9 ms ± 254 µs per loop (mean ± std. dev. of 7 runs, 10 loops each)\n",
      "52.6 ms ± 260 µs per loop (mean ± std. dev. of 7 runs, 10 loops each)\n",
      "104 ms ± 176 µs per loop (mean ± std. dev. of 7 runs, 10 loops each)\n",
      "207 ms ± 1.24 ms per loop (mean ± std. dev. of 7 runs, 1 loop each)\n",
      "\n",
      "249 µs ± 158 ns per loop (mean ± std. dev. of 7 runs, 1000 loops each)\n",
      "420 µs ± 230 ns per loop (mean ± std. dev. of 7 runs, 1000 loops each)\n",
      "766 µs ± 391 ns per loop (mean ± std. dev. of 7 runs, 1000 loops each)\n",
      "1.45 ms ± 574 ns per loop (mean ± std. dev. of 7 runs, 1000 loops each)\n",
      "2.84 ms ± 34.6 µs per loop (mean ± std. dev. of 7 runs, 100 loops each)\n",
      "5.69 ms ± 83 µs per loop (mean ± std. dev. of 7 runs, 100 loops each)\n",
      "7.29 ms ± 2.58 µs per loop (mean ± std. dev. of 7 runs, 100 loops each)\n",
      "7.32 ms ± 13.5 µs per loop (mean ± std. dev. of 7 runs, 100 loops each)\n",
      "17.4 ms ± 38.6 µs per loop (mean ± std. dev. of 7 runs, 100 loops each)\n",
      "47.5 ms ± 264 µs per loop (mean ± std. dev. of 7 runs, 10 loops each)\n",
      "187 ms ± 1.19 ms per loop (mean ± std. dev. of 7 runs, 10 loops each)\n",
      "379 ms ± 5.05 ms per loop (mean ± std. dev. of 7 runs, 1 loop each)\n",
      "652 ms ± 11.4 ms per loop (mean ± std. dev. of 7 runs, 1 loop each)\n",
      "1.22 s ± 4.58 ms per loop (mean ± std. dev. of 7 runs, 1 loop each)\n",
      "2.34 s ± 8.77 ms per loop (mean ± std. dev. of 7 runs, 1 loop each)\n",
      "4.56 s ± 7.15 ms per loop (mean ± std. dev. of 7 runs, 1 loop each)\n",
      "8.97 s ± 33.6 ms per loop (mean ± std. dev. of 7 runs, 1 loop each)\n",
      "17.8 s ± 32.3 ms per loop (mean ± std. dev. of 7 runs, 1 loop each)\n",
      "35.2 s ± 167 ms per loop (mean ± std. dev. of 7 runs, 1 loop each)\n",
      "1min 32s ± 19.6 s per loop (mean ± std. dev. of 7 runs, 1 loop each)\n"
     ]
    }
   ],
   "source": [
    "import torch\n",
    "print(torch.__version__)\n",
    "\n",
    "for i in range(1000):\n",
    "    torch.randn(1024 * 128, device='cuda')\n",
    "\n",
    "def cuda(e):\n",
    "    a = torch.randn(2 ** e, 32, device='cuda')\n",
    "    s = torch.randn(32, device='cuda')\n",
    "    z = torch.randn(32, device='cuda')\n",
    "    torch.cuda.synchronize()\n",
    "    %timeit torch.fake_quantize_per_channel_affine(a, s, z, 1, -999, 999); torch.cuda.synchronize()\n",
    "    \n",
    "def cpu(e):\n",
    "    a = torch.randn(2 ** e, 32, device='cpu')\n",
    "    s = torch.randn(32, device='cpu')\n",
    "    z = torch.randn(32, device='cpu')\n",
    "    %timeit torch.fake_quantize_per_channel_affine(a, s, z, 1, -999, 999);\n",
    "    \n",
    "for i in range(10, 24):\n",
    "    cuda(i)\n",
    "print()\n",
    "for i in range(10, 32):\n",
    "    cpu(i)"
   ]
  },
  {
   "cell_type": "code",
   "execution_count": null,
   "metadata": {},
   "outputs": [],
   "source": []
  }
 ],
 "metadata": {
  "kernelspec": {
   "display_name": "Python 3",
   "language": "python",
   "name": "python3"
  },
  "language_info": {
   "codemirror_mode": {
    "name": "ipython",
    "version": 3
   },
   "file_extension": ".py",
   "mimetype": "text/x-python",
   "name": "python",
   "nbconvert_exporter": "python",
   "pygments_lexer": "ipython3",
   "version": "3.8.1"
  }
 },
 "nbformat": 4,
 "nbformat_minor": 4
}
