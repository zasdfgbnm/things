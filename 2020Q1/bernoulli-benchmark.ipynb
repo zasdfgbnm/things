{
 "cells": [
  {
   "cell_type": "markdown",
   "metadata": {},
   "source": [
    "# Before"
   ]
  },
  {
   "cell_type": "code",
   "execution_count": 1,
   "metadata": {},
   "outputs": [
    {
     "name": "stdout",
     "output_type": "stream",
     "text": [
      "1.5.0a0+d616cad\n",
      "48.6 µs ± 25.2 ns per loop (mean ± std. dev. of 7 runs, 10000 loops each)\n",
      "85.4 µs ± 1.67 µs per loop (mean ± std. dev. of 7 runs, 10000 loops each)\n",
      "163 µs ± 9.68 µs per loop (mean ± std. dev. of 7 runs, 1000 loops each)\n",
      "318 µs ± 16.9 µs per loop (mean ± std. dev. of 7 runs, 1000 loops each)\n",
      "630 µs ± 30.1 µs per loop (mean ± std. dev. of 7 runs, 1000 loops each)\n",
      "1.18 ms ± 29.1 µs per loop (mean ± std. dev. of 7 runs, 1000 loops each)\n",
      "2.29 ms ± 23.6 µs per loop (mean ± std. dev. of 7 runs, 100 loops each)\n",
      "4.71 ms ± 75.6 µs per loop (mean ± std. dev. of 7 runs, 100 loops each)\n",
      "9.55 ms ± 532 µs per loop (mean ± std. dev. of 7 runs, 100 loops each)\n",
      "20.3 ms ± 143 µs per loop (mean ± std. dev. of 7 runs, 10 loops each)\n"
     ]
    }
   ],
   "source": [
    "import torch\n",
    "print(torch.__version__)\n",
    "\n",
    "# warm up\n",
    "for i in range(1000):\n",
    "    torch.arange(100000, device='cuda')\n",
    "\n",
    "def benchmark(size):\n",
    "    s1 = 2 ** (size // 2)\n",
    "    s2 = 2 ** (size - size // 2)\n",
    "    p = torch.rand((s1, s2), device='cuda').abs() + 1.0\n",
    "    d = torch.distributions.poisson.Poisson(p)\n",
    "    torch.cuda.synchronize()\n",
    "    %timeit d.sample(); torc\n",
    "    h.cuda.synchronize()\n",
    "\n",
    "for i in range(20, 30):\n",
    "    benchmark(i)"
   ]
  },
  {
   "cell_type": "markdown",
   "metadata": {},
   "source": [
    "# After"
   ]
  },
  {
   "cell_type": "code",
   "execution_count": 1,
   "metadata": {},
   "outputs": [
    {
     "name": "stdout",
     "output_type": "stream",
     "text": [
      "1.5.0a0+bbc5e36\n",
      "60 µs ± 3.48 µs per loop (mean ± std. dev. of 7 runs, 10000 loops each)\n",
      "107 µs ± 5.5 µs per loop (mean ± std. dev. of 7 runs, 10000 loops each)\n",
      "201 µs ± 24.4 µs per loop (mean ± std. dev. of 7 runs, 1000 loops each)\n",
      "378 µs ± 31.1 µs per loop (mean ± std. dev. of 7 runs, 1000 loops each)\n",
      "748 µs ± 41.4 µs per loop (mean ± std. dev. of 7 runs, 1000 loops each)\n",
      "1.42 ms ± 3.84 µs per loop (mean ± std. dev. of 7 runs, 1000 loops each)\n",
      "2.98 ms ± 144 µs per loop (mean ± std. dev. of 7 runs, 100 loops each)\n",
      "5.95 ms ± 116 µs per loop (mean ± std. dev. of 7 runs, 100 loops each)\n",
      "12.1 ms ± 212 µs per loop (mean ± std. dev. of 7 runs, 100 loops each)\n",
      "24.4 ms ± 156 µs per loop (mean ± std. dev. of 7 runs, 10 loops each)\n"
     ]
    }
   ],
   "source": [
    "import torch\n",
    "print(torch.__version__)\n",
    "\n",
    "# warm up\n",
    "for i in range(1000):\n",
    "    torch.arange(100000, device='cuda')\n",
    "\n",
    "def benchmark(size):\n",
    "    s1 = 2 ** (size // 2)\n",
    "    s2 = 2 ** (size - size // 2)\n",
    "    p = torch.rand((s1, s2), device='cuda').abs() + 1.0\n",
    "    d = torch.distributions.poisson.Poisson(p)\n",
    "    torch.cuda.synchronize()\n",
    "    %timeit d.sample(); torch.cuda.synchronize()\n",
    "\n",
    "for i in range(20, 30):\n",
    "    benchmark(i)"
   ]
  },
  {
   "cell_type": "code",
   "execution_count": 2,
   "metadata": {},
   "outputs": [
    {
     "name": "stdout",
     "output_type": "stream",
     "text": [
      "1.5.0a0+bbc5e36\n",
      "38 µs ± 2.72 µs per loop (mean ± std. dev. of 7 runs, 10000 loops each)\n",
      "63 µs ± 4.44 µs per loop (mean ± std. dev. of 7 runs, 10000 loops each)\n",
      "117 µs ± 3.88 µs per loop (mean ± std. dev. of 7 runs, 10000 loops each)\n",
      "229 µs ± 54.3 µs per loop (mean ± std. dev. of 7 runs, 1000 loops each)\n",
      "447 µs ± 30.5 µs per loop (mean ± std. dev. of 7 runs, 1000 loops each)\n",
      "791 µs ± 35.3 µs per loop (mean ± std. dev. of 7 runs, 1000 loops each)\n",
      "1.55 ms ± 8.48 µs per loop (mean ± std. dev. of 7 runs, 1000 loops each)\n",
      "3.22 ms ± 138 µs per loop (mean ± std. dev. of 7 runs, 100 loops each)\n",
      "6.44 ms ± 101 µs per loop (mean ± std. dev. of 7 runs, 100 loops each)\n",
      "12.9 ms ± 109 µs per loop (mean ± std. dev. of 7 runs, 100 loops each)\n"
     ]
    }
   ],
   "source": [
    "import torch\n",
    "print(torch.__version__)\n",
    "\n",
    "# warm up\n",
    "for i in range(1000):\n",
    "    torch.arange(100000, device='cuda')\n",
    "\n",
    "def benchmark(size):\n",
    "    s1 = 2 ** (size // 2)\n",
    "    s2 = 2 ** (size - size // 2)\n",
    "    p = torch.rand((s1, s2), device='cuda').abs() + 1.0\n",
    "    d = torch.distributions.poisson.Poisson(p)\n",
    "    torch.cuda.synchronize()\n",
    "    %timeit d.sample(); torch.cuda.synchronize()\n",
    "\n",
    "for i in range(20, 30):\n",
    "    benchmark(i)"
   ]
  },
  {
   "cell_type": "code",
   "execution_count": null,
   "metadata": {},
   "outputs": [],
   "source": []
  }
 ],
 "metadata": {
  "kernelspec": {
   "display_name": "Python 3",
   "language": "python",
   "name": "python3"
  },
  "language_info": {
   "codemirror_mode": {
    "name": "ipython",
    "version": 3
   },
   "file_extension": ".py",
   "mimetype": "text/x-python",
   "name": "python",
   "nbconvert_exporter": "python",
   "pygments_lexer": "ipython3",
   "version": "3.8.2"
  }
 },
 "nbformat": 4,
 "nbformat_minor": 4
}
