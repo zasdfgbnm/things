{
 "cells": [
  {
   "cell_type": "code",
   "execution_count": 1,
   "metadata": {},
   "outputs": [
    {
     "name": "stdout",
     "output_type": "stream",
     "text": [
      "1.5.0a0+ca72732\n",
      "62.4 µs ± 395 ns per loop (mean ± std. dev. of 7 runs, 10000 loops each)\n",
      "112 µs ± 329 ns per loop (mean ± std. dev. of 7 runs, 10000 loops each)\n",
      "214 µs ± 3.42 µs per loop (mean ± std. dev. of 7 runs, 1000 loops each)\n",
      "414 µs ± 2.9 µs per loop (mean ± std. dev. of 7 runs, 1000 loops each)\n",
      "818 µs ± 3.25 µs per loop (mean ± std. dev. of 7 runs, 1000 loops each)\n",
      "1.62 ms ± 2.97 µs per loop (mean ± std. dev. of 7 runs, 1000 loops each)\n",
      "3.27 ms ± 65.6 µs per loop (mean ± std. dev. of 7 runs, 100 loops each)\n",
      "6.47 ms ± 59.7 µs per loop (mean ± std. dev. of 7 runs, 100 loops each)\n",
      "13.1 ms ± 380 µs per loop (mean ± std. dev. of 7 runs, 100 loops each)\n",
      "29 ms ± 1.77 ms per loop (mean ± std. dev. of 7 runs, 10 loops each)\n"
     ]
    }
   ],
   "source": [
    "import torch\n",
    "print(torch.__version__)\n",
    "\n",
    "# warm up\n",
    "for i in range(1000):\n",
    "    torch.arange(100000, device='cuda')\n",
    "\n",
    "def benchmark(size):\n",
    "    s1 = 2 ** (size // 2)\n",
    "    s2 = 2 ** (size - size // 2)\n",
    "    p = torch.rand((s1, s2), device='cuda').abs() + 1.0\n",
    "    d = torch.distributions.poisson.Poisson(p)\n",
    "    torch.cuda.synchronize()\n",
    "    %timeit d.sample(); torch.cuda.synchronize()\n",
    "\n",
    "for i in range(20, 30):\n",
    "    benchmark(i)"
   ]
  },
  {
   "cell_type": "code",
   "execution_count": 1,
   "metadata": {},
   "outputs": [
    {
     "name": "stdout",
     "output_type": "stream",
     "text": [
      "1.5.0a0+3a4bac5\n",
      "49.1 µs ± 427 ns per loop (mean ± std. dev. of 7 runs, 10000 loops each)\n",
      "84.2 µs ± 481 ns per loop (mean ± std. dev. of 7 runs, 10000 loops each)\n",
      "156 µs ± 468 ns per loop (mean ± std. dev. of 7 runs, 10000 loops each)\n",
      "300 µs ± 2.92 µs per loop (mean ± std. dev. of 7 runs, 1000 loops each)\n",
      "587 µs ± 4.33 µs per loop (mean ± std. dev. of 7 runs, 1000 loops each)\n",
      "1.17 ms ± 24.8 µs per loop (mean ± std. dev. of 7 runs, 1000 loops each)\n",
      "2.38 ms ± 119 µs per loop (mean ± std. dev. of 7 runs, 100 loops each)\n",
      "4.73 ms ± 117 µs per loop (mean ± std. dev. of 7 runs, 100 loops each)\n",
      "9.28 ms ± 67.6 µs per loop (mean ± std. dev. of 7 runs, 100 loops each)\n",
      "18.7 ms ± 144 µs per loop (mean ± std. dev. of 7 runs, 100 loops each)\n"
     ]
    }
   ],
   "source": [
    "import torch\n",
    "print(torch.__version__)\n",
    "\n",
    "# warm up\n",
    "for i in range(1000):\n",
    "    torch.arange(100000, device='cuda')\n",
    "\n",
    "def benchmark(size):\n",
    "    s1 = 2 ** (size // 2)\n",
    "    s2 = 2 ** (size - size // 2)\n",
    "    p = torch.rand((s1, s2), device='cuda').abs() + 1.0\n",
    "    d = torch.distributions.poisson.Poisson(p)\n",
    "    torch.cuda.synchronize()\n",
    "    %timeit d.sample(); torch.cuda.synchronize()\n",
    "\n",
    "for i in range(20, 30):\n",
    "    benchmark(i)"
   ]
  },
  {
   "cell_type": "code",
   "execution_count": 1,
   "metadata": {},
   "outputs": [
    {
     "name": "stdout",
     "output_type": "stream",
     "text": [
      "1.5.0a0+77c9c3c\n",
      "37.6 µs ± 325 ns per loop (mean ± std. dev. of 7 runs, 10000 loops each)\n",
      "60 µs ± 716 ns per loop (mean ± std. dev. of 7 runs, 10000 loops each)\n",
      "105 µs ± 178 ns per loop (mean ± std. dev. of 7 runs, 10000 loops each)\n",
      "203 µs ± 4.34 µs per loop (mean ± std. dev. of 7 runs, 10000 loops each)\n",
      "382 µs ± 1.37 µs per loop (mean ± std. dev. of 7 runs, 1000 loops each)\n",
      "752 µs ± 1.5 µs per loop (mean ± std. dev. of 7 runs, 1000 loops each)\n",
      "1.49 ms ± 1.41 µs per loop (mean ± std. dev. of 7 runs, 1000 loops each)\n",
      "2.98 ms ± 24.3 µs per loop (mean ± std. dev. of 7 runs, 100 loops each)\n",
      "5.94 ms ± 6.68 µs per loop (mean ± std. dev. of 7 runs, 100 loops each)\n",
      "11.9 ms ± 158 µs per loop (mean ± std. dev. of 7 runs, 100 loops each)\n"
     ]
    }
   ],
   "source": [
    "import torch\n",
    "print(torch.__version__)\n",
    "\n",
    "# warm up\n",
    "for i in range(1000):\n",
    "    torch.arange(100000, device='cuda')\n",
    "\n",
    "def benchmark(size):\n",
    "    s1 = 2 ** (size // 2)\n",
    "    s2 = 2 ** (size - size // 2)\n",
    "    p = torch.rand((s1, s2), device='cuda').abs() + 1.0\n",
    "    d = torch.distributions.poisson.Poisson(p)\n",
    "    torch.cuda.synchronize()\n",
    "    %timeit d.sample(); torch.cuda.synchronize()\n",
    "\n",
    "for i in range(20, 30):\n",
    "    benchmark(i)"
   ]
  },
  {
   "cell_type": "code",
   "execution_count": 1,
   "metadata": {},
   "outputs": [
    {
     "name": "stdout",
     "output_type": "stream",
     "text": [
      "1.5.0a0+ca72732\n",
      "29.5 µs ± 126 ns per loop (mean ± std. dev. of 7 runs, 10000 loops each)\n",
      "45.9 µs ± 126 ns per loop (mean ± std. dev. of 7 runs, 10000 loops each)\n",
      "83.7 µs ± 3.11 µs per loop (mean ± std. dev. of 7 runs, 10000 loops each)\n",
      "144 µs ± 1.14 µs per loop (mean ± std. dev. of 7 runs, 10000 loops each)\n",
      "274 µs ± 99.1 ns per loop (mean ± std. dev. of 7 runs, 1000 loops each)\n",
      "569 µs ± 24.6 µs per loop (mean ± std. dev. of 7 runs, 1000 loops each)\n",
      "1.08 ms ± 53.4 µs per loop (mean ± std. dev. of 7 runs, 1000 loops each)\n",
      "2.12 ms ± 19 µs per loop (mean ± std. dev. of 7 runs, 100 loops each)\n",
      "4.24 ms ± 60.1 µs per loop (mean ± std. dev. of 7 runs, 100 loops each)\n",
      "8.48 ms ± 69.3 µs per loop (mean ± std. dev. of 7 runs, 100 loops each)\n"
     ]
    }
   ],
   "source": [
    "import torch\n",
    "print(torch.__version__)\n",
    "\n",
    "# warm up\n",
    "for i in range(1000):\n",
    "    torch.arange(100000, device='cuda')\n",
    "\n",
    "def benchmark(size):\n",
    "    s1 = 2 ** (size // 2)\n",
    "    s2 = 2 ** (size - size // 2)\n",
    "    p = torch.rand((s1, s2), device='cuda').abs() + 1.0\n",
    "    d = torch.distributions.poisson.Poisson(p)\n",
    "    torch.cuda.synchronize()\n",
    "    %timeit d.sample(); torch.cuda.synchronize()\n",
    "\n",
    "for i in range(20, 30):\n",
    "    benchmark(i)"
   ]
  },
  {
   "cell_type": "code",
   "execution_count": 1,
   "metadata": {},
   "outputs": [
    {
     "name": "stdout",
     "output_type": "stream",
     "text": [
      "1.5.0a0+ca72732\n",
      "56.1 µs ± 94.4 ns per loop (mean ± std. dev. of 7 runs, 10000 loops each)\n",
      "104 µs ± 2.91 µs per loop (mean ± std. dev. of 7 runs, 10000 loops each)\n",
      "196 µs ± 8.73 µs per loop (mean ± std. dev. of 7 runs, 1000 loops each)\n",
      "381 µs ± 18.2 µs per loop (mean ± std. dev. of 7 runs, 1000 loops each)\n",
      "733 µs ± 24.3 µs per loop (mean ± std. dev. of 7 runs, 1000 loops each)\n",
      "1.43 ms ± 38.6 µs per loop (mean ± std. dev. of 7 runs, 1000 loops each)\n",
      "2.83 ms ± 72.6 µs per loop (mean ± std. dev. of 7 runs, 100 loops each)\n",
      "5.71 ms ± 192 µs per loop (mean ± std. dev. of 7 runs, 100 loops each)\n",
      "11.4 ms ± 193 µs per loop (mean ± std. dev. of 7 runs, 100 loops each)\n",
      "24.9 ms ± 861 µs per loop (mean ± std. dev. of 7 runs, 10 loops each)\n"
     ]
    }
   ],
   "source": [
    "import torch\n",
    "print(torch.__version__)\n",
    "\n",
    "# warm up\n",
    "for i in range(1000):\n",
    "    torch.arange(100000, device='cuda')\n",
    "\n",
    "def benchmark(size):\n",
    "    s1 = 2 ** (size // 2)\n",
    "    s2 = 2 ** (size - size // 2)\n",
    "    p = torch.rand((s1, s2), device='cuda').abs() + 1.0\n",
    "    d = torch.distributions.poisson.Poisson(p)\n",
    "    torch.cuda.synchronize()\n",
    "    %timeit d.sample(); torch.cuda.synchronize()\n",
    "\n",
    "for i in range(20, 30):\n",
    "    benchmark(i)"
   ]
  },
  {
   "cell_type": "code",
   "execution_count": 1,
   "metadata": {},
   "outputs": [
    {
     "name": "stdout",
     "output_type": "stream",
     "text": [
      "1.5.0a0+ca72732\n",
      "18.3 µs ± 273 ns per loop (mean ± std. dev. of 7 runs, 100000 loops each)\n",
      "30 µs ± 319 ns per loop (mean ± std. dev. of 7 runs, 10000 loops each)\n",
      "50.8 µs ± 2.59 µs per loop (mean ± std. dev. of 7 runs, 10000 loops each)\n",
      "85.3 µs ± 2.48 µs per loop (mean ± std. dev. of 7 runs, 10000 loops each)\n",
      "163 µs ± 4.01 µs per loop (mean ± std. dev. of 7 runs, 10000 loops each)\n",
      "304 µs ± 2.64 µs per loop (mean ± std. dev. of 7 runs, 1000 loops each)\n",
      "595 µs ± 1.05 µs per loop (mean ± std. dev. of 7 runs, 1000 loops each)\n",
      "1.16 ms ± 758 ns per loop (mean ± std. dev. of 7 runs, 1000 loops each)\n",
      "2.3 ms ± 11.6 µs per loop (mean ± std. dev. of 7 runs, 100 loops each)\n",
      "4.58 ms ± 16 µs per loop (mean ± std. dev. of 7 runs, 100 loops each)\n"
     ]
    }
   ],
   "source": [
    "import torch\n",
    "print(torch.__version__)\n",
    "\n",
    "# warm up\n",
    "for i in range(1000):\n",
    "    torch.arange(100000, device='cuda')\n",
    "\n",
    "def benchmark(size):\n",
    "    s1 = 2 ** (size // 2)\n",
    "    s2 = 2 ** (size - size // 2)\n",
    "    p = torch.rand((s1, s2), device='cuda').abs() + 1.0\n",
    "    d = torch.distributions.poisson.Poisson(p)\n",
    "    torch.cuda.synchronize()\n",
    "    %timeit d.sample(); torch.cuda.synchronize()\n",
    "\n",
    "for i in range(20, 30):\n",
    "    benchmark(i)"
   ]
  },
  {
   "cell_type": "code",
   "execution_count": null,
   "metadata": {},
   "outputs": [],
   "source": []
  }
 ],
 "metadata": {
  "kernelspec": {
   "display_name": "Python 3",
   "language": "python",
   "name": "python3"
  },
  "language_info": {
   "codemirror_mode": {
    "name": "ipython",
    "version": 3
   },
   "file_extension": ".py",
   "mimetype": "text/x-python",
   "name": "python",
   "nbconvert_exporter": "python",
   "pygments_lexer": "ipython3",
   "version": "3.8.1"
  }
 },
 "nbformat": 4,
 "nbformat_minor": 4
}
