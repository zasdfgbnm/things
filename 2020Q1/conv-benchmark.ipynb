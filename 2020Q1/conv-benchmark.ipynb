{
 "cells": [
  {
   "cell_type": "markdown",
   "metadata": {},
   "source": [
    "# After"
   ]
  },
  {
   "cell_type": "code",
   "execution_count": 2,
   "metadata": {},
   "outputs": [
    {
     "name": "stdout",
     "output_type": "stream",
     "text": [
      "1.5.0a0+1f5367e\n",
      "490 µs ± 111 ns per loop (mean ± std. dev. of 7 runs, 1000 loops each)\n",
      "490 µs ± 77.8 ns per loop (mean ± std. dev. of 7 runs, 1000 loops each)\n"
     ]
    }
   ],
   "source": [
    "import torch\n",
    "print(torch.__version__)\n",
    "\n",
    "i = torch.randn(256, 3, 256, 256).cuda()\n",
    "c = torch.nn.Conv2d(3, 3, 3, 3).cuda()\n",
    "\n",
    "%timeit c(i); torch.cuda.synchronize()\n",
    "%timeit c(i); torch.cuda.synchronize()"
   ]
  },
  {
   "cell_type": "markdown",
   "metadata": {},
   "source": [
    "# Before"
   ]
  },
  {
   "cell_type": "code",
   "execution_count": 3,
   "metadata": {},
   "outputs": [
    {
     "name": "stdout",
     "output_type": "stream",
     "text": [
      "1.5.0a0+a9141dd\n",
      "499 µs ± 452 ns per loop (mean ± std. dev. of 7 runs, 1000 loops each)\n",
      "498 µs ± 279 ns per loop (mean ± std. dev. of 7 runs, 1000 loops each)\n"
     ]
    }
   ],
   "source": [
    "import torch\n",
    "print(torch.__version__)\n",
    "\n",
    "i = torch.randn(256, 3, 256, 256).cuda()\n",
    "c = torch.nn.Conv2d(3, 3, 3, 3).cuda()\n",
    "\n",
    "%timeit c(i); torch.cuda.synchronize()\n",
    "%timeit c(i); torch.cuda.synchronize()"
   ]
  },
  {
   "cell_type": "code",
   "execution_count": null,
   "metadata": {},
   "outputs": [],
   "source": []
  }
 ],
 "metadata": {
  "kernelspec": {
   "display_name": "Python 3",
   "language": "python",
   "name": "python3"
  },
  "language_info": {
   "codemirror_mode": {
    "name": "ipython",
    "version": 3
   },
   "file_extension": ".py",
   "mimetype": "text/x-python",
   "name": "python",
   "nbconvert_exporter": "python",
   "pygments_lexer": "ipython3",
   "version": "3.7.3"
  }
 },
 "nbformat": 4,
 "nbformat_minor": 2
}
