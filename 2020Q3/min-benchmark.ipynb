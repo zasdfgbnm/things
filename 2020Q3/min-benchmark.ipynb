{
 "cells": [
  {
   "cell_type": "code",
   "execution_count": 1,
   "metadata": {},
   "outputs": [
    {
     "name": "stdout",
     "output_type": "stream",
     "text": [
      "1.7.0a0+5d7c3f9\n",
      "\n",
      "21.7 µs ± 1.67 µs per loop (mean ± std. dev. of 7 runs, 10000 loops each)\n",
      "20.6 µs ± 773 ns per loop (mean ± std. dev. of 7 runs, 100000 loops each)\n",
      "\n",
      "22.5 µs ± 294 ns per loop (mean ± std. dev. of 7 runs, 10000 loops each)\n",
      "20.2 µs ± 250 ns per loop (mean ± std. dev. of 7 runs, 100000 loops each)\n",
      "\n",
      "26.4 µs ± 67 ns per loop (mean ± std. dev. of 7 runs, 10000 loops each)\n",
      "20.9 µs ± 316 ns per loop (mean ± std. dev. of 7 runs, 100000 loops each)\n",
      "\n",
      "33 µs ± 474 ns per loop (mean ± std. dev. of 7 runs, 10000 loops each)\n",
      "21.1 µs ± 218 ns per loop (mean ± std. dev. of 7 runs, 100000 loops each)\n",
      "\n",
      "84.2 µs ± 691 ns per loop (mean ± std. dev. of 7 runs, 10000 loops each)\n",
      "50.3 µs ± 105 ns per loop (mean ± std. dev. of 7 runs, 10000 loops each)\n",
      "\n",
      "181 µs ± 2.36 µs per loop (mean ± std. dev. of 7 runs, 10000 loops each)\n",
      "145 µs ± 149 ns per loop (mean ± std. dev. of 7 runs, 10000 loops each)\n",
      "\n",
      "542 µs ± 753 ns per loop (mean ± std. dev. of 7 runs, 1000 loops each)\n",
      "528 µs ± 10.1 µs per loop (mean ± std. dev. of 7 runs, 1000 loops each)\n",
      "\n",
      "2.04 ms ± 9.74 µs per loop (mean ± std. dev. of 7 runs, 100 loops each)\n",
      "2.01 ms ± 22.4 µs per loop (mean ± std. dev. of 7 runs, 100 loops each)\n",
      "\n"
     ]
    }
   ],
   "source": [
    "import torch\n",
    "\n",
    "print(torch.__version__)\n",
    "print()\n",
    "\n",
    "for i in range(100):\n",
    "    torch.randn(1000, device='cuda')\n",
    "    \n",
    "for e in range(7, 15):\n",
    "    N = 2 ** e\n",
    "    input_ = torch.randn(N, N, device='cuda')\n",
    "    torch.cuda.synchronize()\n",
    "    %timeit input_.min(dim=0); torch.cuda.synchronize()\n",
    "    input_ = torch.randn(N, N, device='cuda').t()\n",
    "    torch.cuda.synchronize()\n",
    "    %timeit input_.min(dim=0); torch.cuda.synchronize()\n",
    "    print()"
   ]
  },
  {
   "cell_type": "code",
   "execution_count": 9,
   "metadata": {},
   "outputs": [
    {
     "name": "stdout",
     "output_type": "stream",
     "text": [
      "1.7.0a0+9911817\n",
      "\n",
      "21.4 µs ± 695 ns per loop (mean ± std. dev. of 7 runs, 10000 loops each)\n",
      "20.6 µs ± 989 ns per loop (mean ± std. dev. of 7 runs, 100000 loops each)\n",
      "\n",
      "22.4 µs ± 153 ns per loop (mean ± std. dev. of 7 runs, 10000 loops each)\n",
      "20.5 µs ± 58.4 ns per loop (mean ± std. dev. of 7 runs, 100000 loops each)\n",
      "\n",
      "26.6 µs ± 147 ns per loop (mean ± std. dev. of 7 runs, 10000 loops each)\n",
      "20.9 µs ± 675 ns per loop (mean ± std. dev. of 7 runs, 100000 loops each)\n",
      "\n",
      "35.4 µs ± 560 ns per loop (mean ± std. dev. of 7 runs, 10000 loops each)\n",
      "21.7 µs ± 1.17 µs per loop (mean ± std. dev. of 7 runs, 100000 loops each)\n",
      "\n",
      "86.5 µs ± 1.99 µs per loop (mean ± std. dev. of 7 runs, 10000 loops each)\n",
      "52.2 µs ± 1.57 µs per loop (mean ± std. dev. of 7 runs, 10000 loops each)\n",
      "\n",
      "195 µs ± 2.97 µs per loop (mean ± std. dev. of 7 runs, 10000 loops each)\n",
      "153 µs ± 4.46 µs per loop (mean ± std. dev. of 7 runs, 10000 loops each)\n",
      "\n",
      "550 µs ± 7.72 µs per loop (mean ± std. dev. of 7 runs, 1000 loops each)\n",
      "527 µs ± 3.04 µs per loop (mean ± std. dev. of 7 runs, 1000 loops each)\n",
      "\n",
      "2.05 ms ± 7.87 µs per loop (mean ± std. dev. of 7 runs, 100 loops each)\n",
      "2 ms ± 4.93 µs per loop (mean ± std. dev. of 7 runs, 1000 loops each)\n",
      "\n"
     ]
    }
   ],
   "source": [
    "import torch\n",
    "\n",
    "print(torch.__version__)\n",
    "print()\n",
    "\n",
    "for i in range(100):\n",
    "    torch.randn(1000, device='cuda')\n",
    "    \n",
    "for e in range(7, 15):\n",
    "    N = 2 ** e\n",
    "    input_ = torch.randn(N, N, device='cuda')\n",
    "    torch.cuda.synchronize()\n",
    "    %timeit input_.min(dim=0); torch.cuda.synchronize()\n",
    "    input_ = torch.randn(N, N, device='cuda').t()\n",
    "    torch.cuda.synchronize()\n",
    "    %timeit input_.min(dim=0); torch.cuda.synchronize()\n",
    "    print()"
   ]
  },
  {
   "cell_type": "code",
   "execution_count": null,
   "metadata": {},
   "outputs": [],
   "source": []
  }
 ],
 "metadata": {
  "kernelspec": {
   "display_name": "Python 3",
   "language": "python",
   "name": "python3"
  },
  "language_info": {
   "codemirror_mode": {
    "name": "ipython",
    "version": 3
   },
   "file_extension": ".py",
   "mimetype": "text/x-python",
   "name": "python",
   "nbconvert_exporter": "python",
   "pygments_lexer": "ipython3",
   "version": "3.8.5"
  }
 },
 "nbformat": 4,
 "nbformat_minor": 4
}
