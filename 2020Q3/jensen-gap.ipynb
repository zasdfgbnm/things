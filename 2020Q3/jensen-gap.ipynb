{
 "cells": [
  {
   "cell_type": "code",
   "execution_count": 13,
   "metadata": {},
   "outputs": [
    {
     "data": {
      "text/html": [
       "<html><script type=\"math/tex; mode=display\">\\newcommand{\\Bold}[1]{\\mathbf{#1}}e^{\\left(-\\frac{1}{2} \\, x\\right)}</script></html>"
      ],
      "text/plain": [
       "e^(-1/2*x)"
      ]
     },
     "execution_count": 13,
     "metadata": {},
     "output_type": "execute_result"
    }
   ],
   "source": [
    "%display latex\n",
    "f = exp(-(1/2)*x)\n",
    "f"
   ]
  },
  {
   "cell_type": "code",
   "execution_count": 46,
   "metadata": {},
   "outputs": [
    {
     "data": {
      "text/html": [
       "<html><script type=\"math/tex; mode=display\">\\newcommand{\\Bold}[1]{\\mathbf{#1}}\\frac{1}{2}</script></html>"
      ],
      "text/plain": [
       "1/2"
      ]
     },
     "metadata": {},
     "output_type": "display_data"
    },
    {
     "data": {
      "text/html": [
       "<html><script type=\"math/tex; mode=display\">\\newcommand{\\Bold}[1]{\\mathbf{#1}}\\frac{1}{4}</script></html>"
      ],
      "text/plain": [
       "1/4"
      ]
     },
     "metadata": {},
     "output_type": "display_data"
    },
    {
     "data": {
      "text/html": [
       "<html><script type=\"math/tex; mode=display\">\\newcommand{\\Bold}[1]{\\mathbf{#1}}\\frac{e^{\\left(-\\frac{1}{4}\\right)}}{2 \\, x - 1} - \\frac{4 \\, {\\left(e^{\\left(-\\frac{1}{4}\\right)} - e^{\\left(-\\frac{1}{2} \\, x\\right)}\\right)}}{{\\left(2 \\, x - 1\\right)}^{2}}</script></html>"
      ],
      "text/plain": [
       "e^(-1/4)/(2*x - 1) - 4*(e^(-1/4) - e^(-1/2*x))/(2*x - 1)^2"
      ]
     },
     "metadata": {},
     "output_type": "display_data"
    },
    {
     "data": {
      "text/html": [
       "<html><script type=\"math/tex; mode=display\">\\newcommand{\\Bold}[1]{\\mathbf{#1}}-\\frac{2 \\, e^{\\left(-\\frac{1}{4}\\right)}}{{\\left(2 \\, x - 1\\right)}^{2}} - \\frac{2 \\, e^{\\left(-\\frac{1}{2} \\, x\\right)}}{{\\left(2 \\, x - 1\\right)}^{2}} + \\frac{16 \\, {\\left(e^{\\left(-\\frac{1}{4}\\right)} - e^{\\left(-\\frac{1}{2} \\, x\\right)}\\right)}}{{\\left(2 \\, x - 1\\right)}^{3}}</script></html>"
      ],
      "text/plain": [
       "-2*e^(-1/4)/(2*x - 1)^2 - 2*e^(-1/2*x)/(2*x - 1)^2 + 16*(e^(-1/4) - e^(-1/2*x))/(2*x - 1)^3"
      ]
     },
     "metadata": {},
     "output_type": "display_data"
    }
   ],
   "source": [
    "mu = 1/2\n",
    "display(mu)\n",
    "var = 1/4\n",
    "display(var)\n",
    "h = (f(x) - f(mu)) / (x-mu)^2 - f.diff(x)(mu)/(x-mu)\n",
    "display(h)\n",
    "dh = h.diff()\n",
    "display(dh)"
   ]
  },
  {
   "cell_type": "code",
   "execution_count": 55,
   "metadata": {},
   "outputs": [
    {
     "data": {
      "text/html": [
       "<html><script type=\"math/tex; mode=display\">\\newcommand{\\Bold}[1]{\\mathbf{#1}}-5 \\, e^{\\left(-\\frac{1}{4}\\right)} + 4</script></html>"
      ],
      "text/plain": [
       "-5*e^(-1/4) + 4"
      ]
     },
     "metadata": {},
     "output_type": "display_data"
    },
    {
     "data": {
      "text/html": [
       "<html><script type=\"math/tex; mode=display\">\\newcommand{\\Bold}[1]{\\mathbf{#1}}0.105996084642975</script></html>"
      ],
      "text/plain": [
       "0.105996084642975"
      ]
     },
     "metadata": {},
     "output_type": "display_data"
    },
    {
     "data": {
      "text/html": [
       "<html><script type=\"math/tex; mode=display\">\\newcommand{\\Bold}[1]{\\mathbf{#1}}-3 \\, e^{\\left(-\\frac{1}{4}\\right)} + 4 \\, e^{\\left(-\\frac{1}{2}\\right)}</script></html>"
      ],
      "text/plain": [
       "-3*e^(-1/4) + 4*e^(-1/2)"
      ]
     },
     "metadata": {},
     "output_type": "display_data"
    },
    {
     "data": {
      "text/html": [
       "<html><script type=\"math/tex; mode=display\">\\newcommand{\\Bold}[1]{\\mathbf{#1}}0.0897202896363192</script></html>"
      ],
      "text/plain": [
       "0.0897202896363192"
      ]
     },
     "metadata": {},
     "output_type": "display_data"
    }
   ],
   "source": [
    "h0 = h(0)\n",
    "h1 = h(1)\n",
    "display(h0)\n",
    "display(h0.numerical_approx())\n",
    "display(h1)\n",
    "display(h1.numerical_approx())"
   ]
  },
  {
   "cell_type": "code",
   "execution_count": 49,
   "metadata": {},
   "outputs": [
    {
     "data": {
      "text/html": [
       "<html><script type=\"math/tex; mode=display\">\\newcommand{\\Bold}[1]{\\mathbf{#1}}-\\frac{3}{4} \\, e^{\\left(-\\frac{1}{4}\\right)} + e^{\\left(-\\frac{1}{2}\\right)}</script></html>"
      ],
      "text/plain": [
       "-3/4*e^(-1/4) + e^(-1/2)"
      ]
     },
     "metadata": {},
     "output_type": "display_data"
    },
    {
     "data": {
      "text/html": [
       "<html><script type=\"math/tex; mode=display\">\\newcommand{\\Bold}[1]{\\mathbf{#1}}0.0224300724090798</script></html>"
      ],
      "text/plain": [
       "0.0224300724090798"
      ]
     },
     "execution_count": 49,
     "metadata": {},
     "output_type": "execute_result"
    }
   ],
   "source": [
    "b = h1 * var\n",
    "display(b)\n",
    "b.numerical_approx()"
   ]
  },
  {
   "cell_type": "code",
   "execution_count": 54,
   "metadata": {},
   "outputs": [
    {
     "data": {
      "text/html": [
       "<html><script type=\"math/tex; mode=display\">\\newcommand{\\Bold}[1]{\\mathbf{#1}}\\frac{1}{2} \\, e^{\\left(-\\frac{1}{2}\\right)} + \\frac{1}{2}</script></html>"
      ],
      "text/plain": [
       "1/2*e^(-1/2) + 1/2"
      ]
     },
     "metadata": {},
     "output_type": "display_data"
    },
    {
     "data": {
      "text/html": [
       "<html><script type=\"math/tex; mode=display\">\\newcommand{\\Bold}[1]{\\mathbf{#1}}-e^{\\left(-\\frac{1}{4}\\right)} + \\frac{1}{2} \\, e^{\\left(-\\frac{1}{2}\\right)} + \\frac{1}{2}</script></html>"
      ],
      "text/plain": [
       "-e^(-1/4) + 1/2*e^(-1/2) + 1/2"
      ]
     },
     "metadata": {},
     "output_type": "display_data"
    },
    {
     "data": {
      "text/html": [
       "<html><script type=\"math/tex; mode=display\">\\newcommand{\\Bold}[1]{\\mathbf{#1}}0.0244645467849118</script></html>"
      ],
      "text/plain": [
       "0.0244645467849118"
      ]
     },
     "execution_count": 54,
     "metadata": {},
     "output_type": "execute_result"
    }
   ],
   "source": [
    "ef = (1/2) * (f(0) + f(1))\n",
    "display(ef)\n",
    "jg = ef - f(mu)\n",
    "display(jg)\n",
    "jg.numerical_approx()"
   ]
  },
  {
   "cell_type": "code",
   "execution_count": 57,
   "metadata": {},
   "outputs": [
    {
     "data": {
      "text/html": [
       "<html><script type=\"math/tex; mode=display\">\\newcommand{\\Bold}[1]{\\mathbf{#1}}-\\frac{1}{2} \\, e^{\\left(-\\frac{1}{4}\\right)}</script></html>"
      ],
      "text/plain": [
       "-1/2*e^(-1/4)"
      ]
     },
     "execution_count": 57,
     "metadata": {},
     "output_type": "execute_result"
    }
   ],
   "source": [
    "f.diff()(1/2)"
   ]
  },
  {
   "cell_type": "markdown",
   "metadata": {},
   "source": [
    "========================================="
   ]
  },
  {
   "cell_type": "code",
   "execution_count": 58,
   "metadata": {},
   "outputs": [
    {
     "data": {
      "text/html": [
       "<html><script type=\"math/tex; mode=display\">\\newcommand{\\Bold}[1]{\\mathbf{#1}}\\frac{1}{4}</script></html>"
      ],
      "text/plain": [
       "1/4"
      ]
     },
     "metadata": {},
     "output_type": "display_data"
    },
    {
     "data": {
      "text/html": [
       "<html><script type=\"math/tex; mode=display\">\\newcommand{\\Bold}[1]{\\mathbf{#1}}\\frac{7}{32}</script></html>"
      ],
      "text/plain": [
       "7/32"
      ]
     },
     "metadata": {},
     "output_type": "display_data"
    },
    {
     "data": {
      "text/html": [
       "<html><script type=\"math/tex; mode=display\">\\newcommand{\\Bold}[1]{\\mathbf{#1}}\\frac{2 \\, e^{\\left(-\\frac{1}{8}\\right)}}{4 \\, x - 1} - \\frac{16 \\, {\\left(e^{\\left(-\\frac{1}{8}\\right)} - e^{\\left(-\\frac{1}{2} \\, x\\right)}\\right)}}{{\\left(4 \\, x - 1\\right)}^{2}}</script></html>"
      ],
      "text/plain": [
       "2*e^(-1/8)/(4*x - 1) - 16*(e^(-1/8) - e^(-1/2*x))/(4*x - 1)^2"
      ]
     },
     "metadata": {},
     "output_type": "display_data"
    },
    {
     "data": {
      "text/html": [
       "<html><script type=\"math/tex; mode=display\">\\newcommand{\\Bold}[1]{\\mathbf{#1}}-\\frac{8 \\, e^{\\left(-\\frac{1}{8}\\right)}}{{\\left(4 \\, x - 1\\right)}^{2}} - \\frac{8 \\, e^{\\left(-\\frac{1}{2} \\, x\\right)}}{{\\left(4 \\, x - 1\\right)}^{2}} + \\frac{128 \\, {\\left(e^{\\left(-\\frac{1}{8}\\right)} - e^{\\left(-\\frac{1}{2} \\, x\\right)}\\right)}}{{\\left(4 \\, x - 1\\right)}^{3}}</script></html>"
      ],
      "text/plain": [
       "-8*e^(-1/8)/(4*x - 1)^2 - 8*e^(-1/2*x)/(4*x - 1)^2 + 128*(e^(-1/8) - e^(-1/2*x))/(4*x - 1)^3"
      ]
     },
     "metadata": {},
     "output_type": "display_data"
    }
   ],
   "source": [
    "mu = 1/4\n",
    "display(mu)\n",
    "var = 7/32\n",
    "display(var)\n",
    "h = (f(x) - f(mu)) / (x-mu)^2 - f.diff(x)(mu)/(x-mu)\n",
    "display(h)\n",
    "dh = h.diff()\n",
    "display(dh)"
   ]
  },
  {
   "cell_type": "code",
   "execution_count": 62,
   "metadata": {},
   "outputs": [
    {
     "data": {
      "text/html": [
       "<html><script type=\"math/tex; mode=display\">\\newcommand{\\Bold}[1]{\\mathbf{#1}}-18 \\, e^{\\left(-\\frac{1}{8}\\right)} + 16</script></html>"
      ],
      "text/plain": [
       "-18*e^(-1/8) + 16"
      ]
     },
     "metadata": {},
     "output_type": "display_data"
    },
    {
     "data": {
      "text/html": [
       "<html><script type=\"math/tex; mode=display\">\\newcommand{\\Bold}[1]{\\mathbf{#1}}0.115055753477282</script></html>"
      ],
      "text/plain": [
       "0.115055753477282"
      ]
     },
     "metadata": {},
     "output_type": "display_data"
    },
    {
     "data": {
      "text/html": [
       "<html><script type=\"math/tex; mode=display\">\\newcommand{\\Bold}[1]{\\mathbf{#1}}-\\frac{10}{9} \\, e^{\\left(-\\frac{1}{8}\\right)} + \\frac{16}{9} \\, e^{\\left(-\\frac{1}{2}\\right)}</script></html>"
      ],
      "text/plain": [
       "-10/9*e^(-1/8) + 16/9*e^(-1/2)"
      ]
     },
     "metadata": {},
     "output_type": "display_data"
    },
    {
     "data": {
      "text/html": [
       "<html><script type=\"math/tex; mode=display\">\\newcommand{\\Bold}[1]{\\mathbf{#1}}0.0977246143951311</script></html>"
      ],
      "text/plain": [
       "0.0977246143951311"
      ]
     },
     "metadata": {},
     "output_type": "display_data"
    },
    {
     "data": {
      "text/html": [
       "<html><script type=\"math/tex; mode=display\">\\newcommand{\\Bold}[1]{\\mathbf{#1}}-\\frac{2}{49} \\, e^{\\left(-\\frac{1}{8}\\right)} + \\frac{16}{49} \\, e^{\\left(-1\\right)}</script></html>"
      ],
      "text/plain": [
       "-2/49*e^(-1/8) + 16/49*e^(-1)"
      ]
     },
     "metadata": {},
     "output_type": "display_data"
    },
    {
     "data": {
      "text/html": [
       "<html><script type=\"math/tex; mode=display\">\\newcommand{\\Bold}[1]{\\mathbf{#1}}0.0841036174198752</script></html>"
      ],
      "text/plain": [
       "0.0841036174198752"
      ]
     },
     "metadata": {},
     "output_type": "display_data"
    }
   ],
   "source": [
    "h0 = h(0)\n",
    "h1 = h(1)\n",
    "h2 = h(2)\n",
    "display(h0)\n",
    "display(h0.numerical_approx())\n",
    "display(h1)\n",
    "display(h1.numerical_approx())\n",
    "display(h2)\n",
    "display(h2.numerical_approx())"
   ]
  },
  {
   "cell_type": "code",
   "execution_count": 63,
   "metadata": {},
   "outputs": [
    {
     "data": {
      "text/html": [
       "<html><script type=\"math/tex; mode=display\">\\newcommand{\\Bold}[1]{\\mathbf{#1}}-\\frac{1}{112} \\, e^{\\left(-\\frac{1}{8}\\right)} + \\frac{1}{14} \\, e^{\\left(-1\\right)}</script></html>"
      ],
      "text/plain": [
       "-1/112*e^(-1/8) + 1/14*e^(-1)"
      ]
     },
     "metadata": {},
     "output_type": "display_data"
    },
    {
     "data": {
      "text/html": [
       "<html><script type=\"math/tex; mode=display\">\\newcommand{\\Bold}[1]{\\mathbf{#1}}0.0183976663105977</script></html>"
      ],
      "text/plain": [
       "0.0183976663105977"
      ]
     },
     "execution_count": 63,
     "metadata": {},
     "output_type": "execute_result"
    }
   ],
   "source": [
    "b = h2 * var\n",
    "display(b)\n",
    "b.numerical_approx()"
   ]
  },
  {
   "cell_type": "code",
   "execution_count": 69,
   "metadata": {},
   "outputs": [
    {
     "data": {
      "text/html": [
       "<html><script type=\"math/tex; mode=display\">\\newcommand{\\Bold}[1]{\\mathbf{#1}}1</script></html>"
      ],
      "text/plain": [
       "1"
      ]
     },
     "metadata": {},
     "output_type": "display_data"
    },
    {
     "data": {
      "text/html": [
       "<html><script type=\"math/tex; mode=display\">\\newcommand{\\Bold}[1]{\\mathbf{#1}}\\frac{7}{32} \\, e^{\\left(-\\frac{1}{2}\\right)} + \\frac{1}{64} \\, e^{\\left(-1\\right)} + \\frac{49}{64}</script></html>"
      ],
      "text/plain": [
       "7/32*e^(-1/2) + 1/64*e^(-1) + 49/64"
      ]
     },
     "metadata": {},
     "output_type": "display_data"
    },
    {
     "data": {
      "text/html": [
       "<html><script type=\"math/tex; mode=display\">\\newcommand{\\Bold}[1]{\\mathbf{#1}}-e^{\\left(-\\frac{1}{8}\\right)} + \\frac{7}{32} \\, e^{\\left(-\\frac{1}{2}\\right)} + \\frac{1}{64} \\, e^{\\left(-1\\right)} + \\frac{49}{64}</script></html>"
      ],
      "text/plain": [
       "-e^(-1/8) + 7/32*e^(-1/2) + 1/64*e^(-1) + 49/64"
      ]
     },
     "metadata": {},
     "output_type": "display_data"
    },
    {
     "data": {
      "text/html": [
       "<html><script type=\"math/tex; mode=display\">\\newcommand{\\Bold}[1]{\\mathbf{#1}}0.0215547954958469</script></html>"
      ],
      "text/plain": [
       "0.0215547954958469"
      ]
     },
     "execution_count": 69,
     "metadata": {},
     "output_type": "execute_result"
    }
   ],
   "source": [
    "p0 = 49/64\n",
    "p1 = 14/64\n",
    "p2 = 1/64\n",
    "display(p0 + p1 + p2)\n",
    "ef = p0 * f(0) + p1 * f(1) + p2 * f(2)\n",
    "display(ef)\n",
    "jg = ef - f(mu)\n",
    "display(jg)\n",
    "jg.numerical_approx()"
   ]
  },
  {
   "cell_type": "code",
   "execution_count": 70,
   "metadata": {},
   "outputs": [
    {
     "data": {
      "text/html": [
       "<html><script type=\"math/tex; mode=display\">\\newcommand{\\Bold}[1]{\\mathbf{#1}}-\\frac{1}{2} \\, e^{\\left(-\\frac{1}{8}\\right)}</script></html>"
      ],
      "text/plain": [
       "-1/2*e^(-1/8)"
      ]
     },
     "execution_count": 70,
     "metadata": {},
     "output_type": "execute_result"
    }
   ],
   "source": [
    "f.diff()(1/4)"
   ]
  },
  {
   "cell_type": "code",
   "execution_count": null,
   "metadata": {},
   "outputs": [],
   "source": []
  }
 ],
 "metadata": {
  "kernelspec": {
   "display_name": "SageMath 9.0",
   "language": "sage",
   "name": "sagemath"
  },
  "language_info": {
   "codemirror_mode": {
    "name": "ipython",
    "version": 3
   },
   "file_extension": ".py",
   "mimetype": "text/x-python",
   "name": "python",
   "nbconvert_exporter": "python",
   "pygments_lexer": "ipython3",
   "version": "3.7.3"
  }
 },
 "nbformat": 4,
 "nbformat_minor": 2
}
