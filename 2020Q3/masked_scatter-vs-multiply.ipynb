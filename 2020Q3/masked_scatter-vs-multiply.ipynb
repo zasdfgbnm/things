{
 "cells": [
  {
   "cell_type": "code",
   "execution_count": 12,
   "metadata": {},
   "outputs": [
    {
     "name": "stdout",
     "output_type": "stream",
     "text": [
      "cpu\n",
      "44.5 ms ± 199 µs per loop (mean ± std. dev. of 7 runs, 10 loops each)\n",
      "25.2 ms ± 130 µs per loop (mean ± std. dev. of 7 runs, 10 loops each)\n",
      "cuda\n",
      "848 µs ± 16.6 µs per loop (mean ± std. dev. of 7 runs, 1000 loops each)\n",
      "1.08 ms ± 19.3 µs per loop (mean ± std. dev. of 7 runs, 1000 loops each)\n"
     ]
    }
   ],
   "source": [
    "import torch\n",
    "for device in ['cpu', 'cuda']:\n",
    "    t = torch.torch.randint(100, (1024, 1024, 64), device=device, dtype=torch.float)\n",
    "    s = t.sum()\n",
    "    m = t.max()\n",
    "    mask = (t == m)\n",
    "    go = t.new_tensor(1.)\n",
    "    torch.cuda.synchronize()\n",
    "    print(device)\n",
    "    %timeit mask * (go / s); torch.cuda.synchronize() if device == 'cuda' else None\n",
    "    %timeit torch.zeros_like(t).masked_fill_(mask, go / s); torch.cuda.synchronize() if device == 'cuda' else None"
   ]
  },
  {
   "cell_type": "code",
   "execution_count": null,
   "metadata": {},
   "outputs": [],
   "source": []
  }
 ],
 "metadata": {
  "kernelspec": {
   "display_name": "Python 3",
   "language": "python",
   "name": "python3"
  },
  "language_info": {
   "codemirror_mode": {
    "name": "ipython",
    "version": 3
   },
   "file_extension": ".py",
   "mimetype": "text/x-python",
   "name": "python",
   "nbconvert_exporter": "python",
   "pygments_lexer": "ipython3",
   "version": "3.8.5"
  }
 },
 "nbformat": 4,
 "nbformat_minor": 4
}
