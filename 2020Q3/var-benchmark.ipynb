{
 "cells": [
  {
   "cell_type": "code",
   "execution_count": 1,
   "metadata": {},
   "outputs": [
    {
     "name": "stdout",
     "output_type": "stream",
     "text": [
      "1.7.0a0+5d7c3f9\n",
      "\n",
      "28.2 µs ± 309 ns per loop (mean ± std. dev. of 7 runs, 10000 loops each)\n",
      "16.7 µs ± 262 ns per loop (mean ± std. dev. of 7 runs, 100000 loops each)\n",
      "\n",
      "40.4 µs ± 35.1 ns per loop (mean ± std. dev. of 7 runs, 10000 loops each)\n",
      "16.9 µs ± 291 ns per loop (mean ± std. dev. of 7 runs, 100000 loops each)\n",
      "\n",
      "65.3 µs ± 203 ns per loop (mean ± std. dev. of 7 runs, 10000 loops each)\n",
      "17.4 µs ± 144 ns per loop (mean ± std. dev. of 7 runs, 100000 loops each)\n",
      "\n",
      "37.3 µs ± 1.26 µs per loop (mean ± std. dev. of 7 runs, 10000 loops each)\n",
      "21.2 µs ± 616 ns per loop (mean ± std. dev. of 7 runs, 10000 loops each)\n",
      "\n",
      "82.1 µs ± 1.18 µs per loop (mean ± std. dev. of 7 runs, 10000 loops each)\n",
      "50.5 µs ± 149 ns per loop (mean ± std. dev. of 7 runs, 10000 loops each)\n",
      "\n",
      "180 µs ± 2.82 µs per loop (mean ± std. dev. of 7 runs, 10000 loops each)\n",
      "170 µs ± 5.02 µs per loop (mean ± std. dev. of 7 runs, 10000 loops each)\n",
      "\n",
      "533 µs ± 253 ns per loop (mean ± std. dev. of 7 runs, 1000 loops each)\n",
      "643 µs ± 12.2 µs per loop (mean ± std. dev. of 7 runs, 1000 loops each)\n",
      "\n",
      "2.02 ms ± 79.2 µs per loop (mean ± std. dev. of 7 runs, 100 loops each)\n",
      "2.29 ms ± 102 µs per loop (mean ± std. dev. of 7 runs, 100 loops each)\n",
      "\n"
     ]
    }
   ],
   "source": [
    "import torch\n",
    "\n",
    "print(torch.__version__)\n",
    "print()\n",
    "\n",
    "for i in range(100):\n",
    "    torch.randn(1000, device='cuda')\n",
    "    \n",
    "for e in range(7, 15):\n",
    "    N = 2 ** e\n",
    "    input_ = torch.randn(N, N, device='cuda')\n",
    "    torch.cuda.synchronize()\n",
    "    %timeit input_.var(dim=0); torch.cuda.synchronize()\n",
    "    input_ = torch.randn(N, N, device='cuda').t()\n",
    "    torch.cuda.synchronize()\n",
    "    %timeit input_.var(dim=0); torch.cuda.synchronize()\n",
    "    print()"
   ]
  },
  {
   "cell_type": "code",
   "execution_count": 1,
   "metadata": {},
   "outputs": [
    {
     "name": "stdout",
     "output_type": "stream",
     "text": [
      "1.7.0a0+bdcf374\n",
      "\n",
      "28.3 µs ± 945 ns per loop (mean ± std. dev. of 7 runs, 10000 loops each)\n",
      "15.9 µs ± 393 ns per loop (mean ± std. dev. of 7 runs, 100000 loops each)\n",
      "\n",
      "40.7 µs ± 1.21 µs per loop (mean ± std. dev. of 7 runs, 10000 loops each)\n",
      "16.7 µs ± 860 ns per loop (mean ± std. dev. of 7 runs, 100000 loops each)\n",
      "\n",
      "72.8 µs ± 173 ns per loop (mean ± std. dev. of 7 runs, 10000 loops each)\n",
      "19.5 µs ± 118 ns per loop (mean ± std. dev. of 7 runs, 100000 loops each)\n",
      "\n",
      "42.1 µs ± 136 ns per loop (mean ± std. dev. of 7 runs, 10000 loops each)\n",
      "23.5 µs ± 134 ns per loop (mean ± std. dev. of 7 runs, 10000 loops each)\n",
      "\n",
      "92 µs ± 95.3 ns per loop (mean ± std. dev. of 7 runs, 10000 loops each)\n",
      "57.2 µs ± 112 ns per loop (mean ± std. dev. of 7 runs, 10000 loops each)\n",
      "\n",
      "200 µs ± 1.28 µs per loop (mean ± std. dev. of 7 runs, 1000 loops each)\n",
      "185 µs ± 140 ns per loop (mean ± std. dev. of 7 runs, 10000 loops each)\n",
      "\n",
      "600 µs ± 992 ns per loop (mean ± std. dev. of 7 runs, 1000 loops each)\n",
      "706 µs ± 1.55 µs per loop (mean ± std. dev. of 7 runs, 1000 loops each)\n",
      "\n",
      "2.16 ms ± 14 µs per loop (mean ± std. dev. of 7 runs, 100 loops each)\n",
      "2.55 ms ± 5.69 µs per loop (mean ± std. dev. of 7 runs, 100 loops each)\n",
      "\n"
     ]
    }
   ],
   "source": [
    "import torch\n",
    "\n",
    "print(torch.__version__)\n",
    "print()\n",
    "\n",
    "for i in range(100):\n",
    "    torch.randn(1000, device='cuda')\n",
    "    \n",
    "for e in range(7, 15):\n",
    "    N = 2 ** e\n",
    "    input_ = torch.randn(N, N, device='cuda')\n",
    "    torch.cuda.synchronize()\n",
    "    %timeit input_.var(dim=0); torch.cuda.synchronize()\n",
    "    input_ = torch.randn(N, N, device='cuda').t()\n",
    "    torch.cuda.synchronize()\n",
    "    %timeit input_.var(dim=0); torch.cuda.synchronize()\n",
    "    print()"
   ]
  },
  {
   "cell_type": "code",
   "execution_count": null,
   "metadata": {},
   "outputs": [],
   "source": []
  }
 ],
 "metadata": {
  "kernelspec": {
   "display_name": "Python 3",
   "language": "python",
   "name": "python3"
  },
  "language_info": {
   "codemirror_mode": {
    "name": "ipython",
    "version": 3
   },
   "file_extension": ".py",
   "mimetype": "text/x-python",
   "name": "python",
   "nbconvert_exporter": "python",
   "pygments_lexer": "ipython3",
   "version": "3.8.5"
  }
 },
 "nbformat": 4,
 "nbformat_minor": 4
}
