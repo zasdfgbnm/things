{
 "cells": [
  {
   "cell_type": "code",
   "execution_count": 1,
   "metadata": {},
   "outputs": [
    {
     "name": "stdout",
     "output_type": "stream",
     "text": [
      "tensor(0.)\n"
     ]
    }
   ],
   "source": [
    "import torch\n",
    "\n",
    "def mykron(a, b):\n",
    "    assert a.dim() == b.dim()\n",
    "    a_view_shape = []\n",
    "    b_view_shape = []\n",
    "    ab_view_shape = []\n",
    "    for i in range(a.dim()):\n",
    "        a_view_shape.append(a.size(i))\n",
    "        a_view_shape.append(1)\n",
    "        b_view_shape.append(1)\n",
    "        b_view_shape.append(b.size(i))\n",
    "        ab_view_shape.append(a.size(i) * b.size(i))\n",
    "    return (a.reshape(a_view_shape) * b.reshape(b_view_shape)).reshape(ab_view_shape)\n",
    "\n",
    "a = torch.randn(10, 10, 10)\n",
    "b = torch.randn(10, 10, 10)\n",
    "\n",
    "r1 = torch.kron(a, b)\n",
    "r2 = mykron(a, b)\n",
    "\n",
    "diff = (r1 - r2).abs().max()\n",
    "print(diff)"
   ]
  },
  {
   "cell_type": "code",
   "execution_count": 2,
   "metadata": {},
   "outputs": [
    {
     "name": "stdout",
     "output_type": "stream",
     "text": [
      "995 µs ± 16.8 µs per loop (mean ± std. dev. of 7 runs, 1000 loops each)\n",
      "91.5 µs ± 3.81 µs per loop (mean ± std. dev. of 7 runs, 10000 loops each)\n"
     ]
    }
   ],
   "source": [
    "%timeit torch.kron(a, b)\n",
    "%timeit mykron(a, b)"
   ]
  },
  {
   "cell_type": "code",
   "execution_count": 3,
   "metadata": {},
   "outputs": [
    {
     "name": "stdout",
     "output_type": "stream",
     "text": [
      "48.3 µs ± 9.01 µs per loop (mean ± std. dev. of 7 runs, 1 loop each)\n",
      "32.9 µs ± 794 ns per loop (mean ± std. dev. of 7 runs, 10000 loops each)\n"
     ]
    }
   ],
   "source": [
    "a = a.cuda()\n",
    "b = b.cuda()\n",
    "a + b\n",
    "torch.cuda.synchronize()\n",
    "%timeit torch.kron(a, b); torch.cuda.synchronize()\n",
    "%timeit mykron(a, b); torch.cuda.synchronize()"
   ]
  },
  {
   "cell_type": "code",
   "execution_count": null,
   "metadata": {},
   "outputs": [],
   "source": []
  }
 ],
 "metadata": {
  "kernelspec": {
   "display_name": "Python 3",
   "language": "python",
   "name": "python3"
  },
  "language_info": {
   "codemirror_mode": {
    "name": "ipython",
    "version": 3
   },
   "file_extension": ".py",
   "mimetype": "text/x-python",
   "name": "python",
   "nbconvert_exporter": "python",
   "pygments_lexer": "ipython3",
   "version": "3.9.1"
  }
 },
 "nbformat": 4,
 "nbformat_minor": 4
}
