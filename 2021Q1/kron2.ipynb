{
 "cells": [
  {
   "cell_type": "code",
   "execution_count": 1,
   "metadata": {},
   "outputs": [
    {
     "data": {
      "text/plain": [
       "torch.Size([5, 5, 30])"
      ]
     },
     "execution_count": 1,
     "metadata": {},
     "output_type": "execute_result"
    }
   ],
   "source": [
    "import torch\n",
    "a = torch.randn(5,5,5)\n",
    "b = torch.randn(6)\n",
    "torch.kron(a, b).shape"
   ]
  },
  {
   "cell_type": "code",
   "execution_count": 1,
   "metadata": {},
   "outputs": [
    {
     "name": "stdout",
     "output_type": "stream",
     "text": [
      "1.8.0a0+f1aa841\n",
      "64.4 µs ± 375 ns per loop (mean ± std. dev. of 7 runs, 10000 loops each)\n",
      "25.1 µs ± 62.7 ns per loop (mean ± std. dev. of 7 runs, 10000 loops each)\n"
     ]
    }
   ],
   "source": [
    "import torch\n",
    "print(torch.__version__)\n",
    "\n",
    "a = torch.randn(10, 10, 10)\n",
    "b = torch.randn(10, 10, 10)\n",
    "%timeit torch.kron(a, b)\n",
    "\n",
    "a = a.cuda()\n",
    "b = b.cuda()\n",
    "a + b\n",
    "torch.cuda.synchronize()\n",
    "%timeit torch.kron(a, b); torch.cuda.synchronize()"
   ]
  },
  {
   "cell_type": "code",
   "execution_count": 1,
   "metadata": {},
   "outputs": [
    {
     "name": "stdout",
     "output_type": "stream",
     "text": [
      "1.8.0a0+8e9ed27\n",
      "979 µs ± 1.47 µs per loop (mean ± std. dev. of 7 runs, 1000 loops each)\n",
      "46.7 µs ± 7.32 µs per loop (mean ± std. dev. of 7 runs, 1 loop each)\n"
     ]
    }
   ],
   "source": [
    "import torch\n",
    "print(torch.__version__)\n",
    "\n",
    "a = torch.randn(10, 10, 10)\n",
    "b = torch.randn(10, 10, 10)\n",
    "%timeit torch.kron(a, b)\n",
    "\n",
    "a = a.cuda()\n",
    "b = b.cuda()\n",
    "a + b\n",
    "torch.cuda.synchronize()\n",
    "%timeit torch.kron(a, b); torch.cuda.synchronize()"
   ]
  },
  {
   "cell_type": "code",
   "execution_count": null,
   "metadata": {},
   "outputs": [],
   "source": []
  }
 ],
 "metadata": {
  "kernelspec": {
   "display_name": "Python 3",
   "language": "python",
   "name": "python3"
  },
  "language_info": {
   "codemirror_mode": {
    "name": "ipython",
    "version": 3
   },
   "file_extension": ".py",
   "mimetype": "text/x-python",
   "name": "python",
   "nbconvert_exporter": "python",
   "pygments_lexer": "ipython3",
   "version": "3.9.1"
  }
 },
 "nbformat": 4,
 "nbformat_minor": 4
}
