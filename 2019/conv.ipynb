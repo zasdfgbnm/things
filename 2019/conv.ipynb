{
 "cells": [
  {
   "cell_type": "code",
   "execution_count": 7,
   "metadata": {},
   "outputs": [],
   "source": [
    "import torch"
   ]
  },
  {
   "cell_type": "code",
   "execution_count": 18,
   "metadata": {},
   "outputs": [
    {
     "name": "stdout",
     "output_type": "stream",
     "text": [
      "951 µs ± 579 ns per loop (mean ± std. dev. of 7 runs, 1000 loops each)\n",
      "947 µs ± 224 ns per loop (mean ± std. dev. of 7 runs, 1000 loops each)\n",
      "2.88 ms ± 7.12 µs per loop (mean ± std. dev. of 7 runs, 100 loops each)\n",
      "222 µs ± 6.08 µs per loop (mean ± std. dev. of 7 runs, 1000 loops each)\n"
     ]
    }
   ],
   "source": [
    "input_ = torch.zeros(128, 3, 224, 224).cuda()\n",
    "conv1 = torch.nn.Conv2d(3, 64, 3, 3, bias=True).cuda()\n",
    "%timeit conv1(input_); torch.cuda.synchronize()\n",
    "\n",
    "conv2 = torch.nn.Conv2d(3, 64, 3, 3, bias=False).cuda()\n",
    "%timeit conv2(input_) + conv1.bias.view(1, -1, 1, 1); torch.cuda.synchronize()\n",
    "\n",
    "r = conv1(input_).sum()\n",
    "%timeit torch.autograd.grad(r, conv1.bias, retain_graph=True); torch.cuda.synchronize()\n",
    "\n",
    "r = (conv2(input_) + conv1.bias.view(1, -1, 1, 1)).sum()\n",
    "%timeit torch.autograd.grad(r, conv1.bias, retain_graph=True); torch.cuda.synchronize()"
   ]
  },
  {
   "cell_type": "code",
   "execution_count": 19,
   "metadata": {},
   "outputs": [
    {
     "name": "stdout",
     "output_type": "stream",
     "text": [
      "19.9 ms ± 4.12 µs per loop (mean ± std. dev. of 7 runs, 100 loops each)\n",
      "19.7 ms ± 1.36 µs per loop (mean ± std. dev. of 7 runs, 100 loops each)\n",
      "56.9 ms ± 20.4 µs per loop (mean ± std. dev. of 7 runs, 10 loops each)\n",
      "2.82 ms ± 2.06 µs per loop (mean ± std. dev. of 7 runs, 100 loops each)\n"
     ]
    }
   ],
   "source": [
    "input_ = torch.zeros(128, 3, 1024, 1024).cuda()\n",
    "conv1 = torch.nn.Conv2d(3, 64, 3, 3, bias=True).cuda()\n",
    "%timeit conv1(input_); torch.cuda.synchronize()\n",
    "\n",
    "conv2 = torch.nn.Conv2d(3, 64, 3, 3, bias=False).cuda()\n",
    "%timeit conv2(input_) + conv1.bias.view(1, -1, 1, 1); torch.cuda.synchronize()\n",
    "\n",
    "r = conv1(input_).sum()\n",
    "%timeit torch.autograd.grad(r, conv1.bias, retain_graph=True); torch.cuda.synchronize()\n",
    "\n",
    "r = (conv2(input_) + conv1.bias.view(1, -1, 1, 1)).sum()\n",
    "%timeit torch.autograd.grad(r, conv1.bias, retain_graph=True); torch.cuda.synchronize()"
   ]
  },
  {
   "cell_type": "code",
   "execution_count": 20,
   "metadata": {},
   "outputs": [
    {
     "name": "stdout",
     "output_type": "stream",
     "text": [
      "2.31 ms ± 643 ns per loop (mean ± std. dev. of 7 runs, 100 loops each)\n",
      "2.31 ms ± 573 ns per loop (mean ± std. dev. of 7 runs, 100 loops each)\n",
      "2.48 ms ± 3.63 µs per loop (mean ± std. dev. of 7 runs, 100 loops each)\n",
      "168 µs ± 2 µs per loop (mean ± std. dev. of 7 runs, 10000 loops each)\n"
     ]
    }
   ],
   "source": [
    "input_ = torch.zeros(128, 256, 32, 32).cuda()\n",
    "conv1 = torch.nn.Conv2d(256, 512, 3, 3, bias=True).cuda()\n",
    "%timeit conv1(input_); torch.cuda.synchronize()\n",
    "\n",
    "conv2 = torch.nn.Conv2d(256, 512, 3, 3, bias=False).cuda()\n",
    "%timeit conv2(input_) + conv1.bias.view(1, -1, 1, 1); torch.cuda.synchronize()\n",
    "\n",
    "r = conv1(input_).sum()\n",
    "%timeit torch.autograd.grad(r, conv1.bias, retain_graph=True); torch.cuda.synchronize()\n",
    "\n",
    "r = (conv2(input_) + conv1.bias.view(1, -1, 1, 1)).sum()\n",
    "%timeit torch.autograd.grad(r, conv1.bias, retain_graph=True); torch.cuda.synchronize()"
   ]
  },
  {
   "cell_type": "code",
   "execution_count": 21,
   "metadata": {},
   "outputs": [
    {
     "name": "stdout",
     "output_type": "stream",
     "text": [
      "3.09 ms ± 1.07 µs per loop (mean ± std. dev. of 7 runs, 100 loops each)\n",
      "3.08 ms ± 433 ns per loop (mean ± std. dev. of 7 runs, 100 loops each)\n",
      "3.75 ms ± 3.16 µs per loop (mean ± std. dev. of 7 runs, 100 loops each)\n",
      "231 µs ± 9.14 µs per loop (mean ± std. dev. of 7 runs, 1000 loops each)\n"
     ]
    }
   ],
   "source": [
    "input_ = torch.zeros(128, 256, 32, 32).cuda()\n",
    "conv1 = torch.nn.Conv2d(256, 512, 1, 1, bias=True).cuda()\n",
    "%timeit conv1(input_); torch.cuda.synchronize()\n",
    "\n",
    "conv2 = torch.nn.Conv2d(256, 512, 1, 1, bias=False).cuda()\n",
    "%timeit conv2(input_) + conv1.bias.view(1, -1, 1, 1); torch.cuda.synchronize()\n",
    "\n",
    "r = conv1(input_).sum()\n",
    "%timeit torch.autograd.grad(r, conv1.bias, retain_graph=True); torch.cuda.synchronize()\n",
    "\n",
    "r = (conv2(input_) + conv1.bias.view(1, -1, 1, 1)).sum()\n",
    "%timeit torch.autograd.grad(r, conv1.bias, retain_graph=True); torch.cuda.synchronize()"
   ]
  },
  {
   "cell_type": "code",
   "execution_count": 22,
   "metadata": {},
   "outputs": [
    {
     "name": "stdout",
     "output_type": "stream",
     "text": [
      "2.28 ms ± 1.71 µs per loop (mean ± std. dev. of 7 runs, 100 loops each)\n",
      "2.29 ms ± 624 ns per loop (mean ± std. dev. of 7 runs, 100 loops each)\n",
      "2.59 ms ± 14.3 µs per loop (mean ± std. dev. of 7 runs, 100 loops each)\n",
      "169 µs ± 997 ns per loop (mean ± std. dev. of 7 runs, 10000 loops each)\n"
     ]
    }
   ],
   "source": [
    "input_ = torch.zeros(128, 256, 32, 32).cuda()\n",
    "conv1 = torch.nn.Conv2d(256, 512, 5, 5, bias=True).cuda()\n",
    "%timeit conv1(input_); torch.cuda.synchronize()\n",
    "\n",
    "conv2 = torch.nn.Conv2d(256, 512, 5, 5, bias=False).cuda()\n",
    "%timeit conv2(input_) + conv1.bias.view(1, -1, 1, 1); torch.cuda.synchronize()\n",
    "\n",
    "r = conv1(input_).sum()\n",
    "%timeit torch.autograd.grad(r, conv1.bias, retain_graph=True); torch.cuda.synchronize()\n",
    "\n",
    "r = (conv2(input_) + conv1.bias.view(1, -1, 1, 1)).sum()\n",
    "%timeit torch.autograd.grad(r, conv1.bias, retain_graph=True); torch.cuda.synchronize()"
   ]
  },
  {
   "cell_type": "code",
   "execution_count": null,
   "metadata": {},
   "outputs": [],
   "source": []
  }
 ],
 "metadata": {
  "kernelspec": {
   "display_name": "Python 3",
   "language": "python",
   "name": "python3"
  },
  "language_info": {
   "codemirror_mode": {
    "name": "ipython",
    "version": 3
   },
   "file_extension": ".py",
   "mimetype": "text/x-python",
   "name": "python",
   "nbconvert_exporter": "python",
   "pygments_lexer": "ipython3",
   "version": "3.7.3"
  }
 },
 "nbformat": 4,
 "nbformat_minor": 2
}
