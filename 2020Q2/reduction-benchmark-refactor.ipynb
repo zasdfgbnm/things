{
 "cells": [
  {
   "cell_type": "markdown",
   "metadata": {},
   "source": [
    "# Before"
   ]
  },
  {
   "cell_type": "code",
   "execution_count": 1,
   "metadata": {},
   "outputs": [
    {
     "name": "stdout",
     "output_type": "stream",
     "text": [
      "1.6.0a0+c9a4c00\n",
      "numel: 32768 expect: 0.1 us\n",
      "14.8 µs ± 291 ns per loop (mean ± std. dev. of 7 runs, 100000 loops each)\n",
      "numel: 65536 expect: 0.2 us\n",
      "17.8 µs ± 29.7 ns per loop (mean ± std. dev. of 7 runs, 100000 loops each)\n",
      "numel: 131072 expect: 0.4 us\n",
      "16.6 µs ± 142 ns per loop (mean ± std. dev. of 7 runs, 100000 loops each)\n",
      "numel: 262144 expect: 0.79 us\n",
      "16.7 µs ± 37.7 ns per loop (mean ± std. dev. of 7 runs, 100000 loops each)\n",
      "numel: 524288 expect: 1.59 us\n",
      "18.3 µs ± 773 ns per loop (mean ± std. dev. of 7 runs, 100000 loops each)\n",
      "numel: 1048576 expect: 3.17 us\n",
      "19.2 µs ± 581 ns per loop (mean ± std. dev. of 7 runs, 100000 loops each)\n",
      "numel: 2097152 expect: 6.34 us\n",
      "22 µs ± 146 ns per loop (mean ± std. dev. of 7 runs, 10000 loops each)\n",
      "numel: 4194304 expect: 12.68 us\n",
      "37.6 µs ± 363 ns per loop (mean ± std. dev. of 7 runs, 10000 loops each)\n",
      "numel: 8388608 expect: 25.37 us\n",
      "60.4 µs ± 5.74 µs per loop (mean ± std. dev. of 7 runs, 10000 loops each)\n",
      "numel: 16777216 expect: 50.73 us\n",
      "91.6 µs ± 1.66 µs per loop (mean ± std. dev. of 7 runs, 10000 loops each)\n",
      "numel: 33554432 expect: 101.46 us\n",
      "164 µs ± 5.19 µs per loop (mean ± std. dev. of 7 runs, 10000 loops each)\n",
      "numel: 67108864 expect: 202.92 us\n",
      "277 µs ± 1.85 µs per loop (mean ± std. dev. of 7 runs, 1000 loops each)\n",
      "numel: 134217728 expect: 405.84 us\n",
      "527 µs ± 2.02 µs per loop (mean ± std. dev. of 7 runs, 1000 loops each)\n",
      "numel: 268435456 expect: 811.69 us\n",
      "1.09 ms ± 72 µs per loop (mean ± std. dev. of 7 runs, 1000 loops each)\n",
      "numel: 536870912 expect: 1.62 ms\n",
      "2.13 ms ± 212 µs per loop (mean ± std. dev. of 7 runs, 100 loops each)\n"
     ]
    }
   ],
   "source": [
    "import torch\n",
    "print(torch.__version__)\n",
    "\n",
    "GB_per_s = 616\n",
    "GB = 1024 * 1024 * 1024\n",
    "\n",
    "for i in range(1000):\n",
    "    torch.arange(10000, device='cuda')\n",
    "\n",
    "def benchmark(i):\n",
    "    numel = 2 ** i\n",
    "    size = numel * 2\n",
    "    unit = 'us'\n",
    "    time = size/ GB / GB_per_s * 1e6\n",
    "    if time > 1000:\n",
    "        time /= 1000\n",
    "        unit = 'ms'\n",
    "    print(\"numel:\", numel, 'expect:', round(time, 2), unit)\n",
    "    a = torch.randn(numel, device='cuda', dtype=torch.half)\n",
    "    torch.cuda.synchronize()\n",
    "    %timeit a.sum(); torch.cuda.synchronize()\n",
    "    \n",
    "for i in range(15, 30):\n",
    "    benchmark(i)"
   ]
  },
  {
   "cell_type": "markdown",
   "metadata": {},
   "source": [
    "# After"
   ]
  },
  {
   "cell_type": "code",
   "execution_count": 1,
   "metadata": {},
   "outputs": [
    {
     "name": "stdout",
     "output_type": "stream",
     "text": [
      "1.6.0a0+04006ed\n",
      "numel: 32768 expect: 0.1 us\n",
      "14.4 µs ± 70 ns per loop (mean ± std. dev. of 7 runs, 100000 loops each)\n",
      "numel: 65536 expect: 0.2 us\n",
      "17.2 µs ± 600 ns per loop (mean ± std. dev. of 7 runs, 100000 loops each)\n",
      "numel: 131072 expect: 0.4 us\n",
      "17.1 µs ± 467 ns per loop (mean ± std. dev. of 7 runs, 100000 loops each)\n",
      "numel: 262144 expect: 0.79 us\n",
      "17 µs ± 243 ns per loop (mean ± std. dev. of 7 runs, 100000 loops each)\n",
      "numel: 524288 expect: 1.59 us\n",
      "17.2 µs ± 261 ns per loop (mean ± std. dev. of 7 runs, 100000 loops each)\n",
      "numel: 1048576 expect: 3.17 us\n",
      "17.6 µs ± 756 ns per loop (mean ± std. dev. of 7 runs, 100000 loops each)\n",
      "numel: 2097152 expect: 6.34 us\n",
      "20.2 µs ± 231 ns per loop (mean ± std. dev. of 7 runs, 10000 loops each)\n",
      "numel: 4194304 expect: 12.68 us\n",
      "36.4 µs ± 2.19 µs per loop (mean ± std. dev. of 7 runs, 10000 loops each)\n",
      "numel: 8388608 expect: 25.37 us\n",
      "53.1 µs ± 3.27 µs per loop (mean ± std. dev. of 7 runs, 10000 loops each)\n",
      "numel: 16777216 expect: 50.73 us\n",
      "90.6 µs ± 9.97 µs per loop (mean ± std. dev. of 7 runs, 10000 loops each)\n",
      "numel: 33554432 expect: 101.46 us\n",
      "148 µs ± 3.89 µs per loop (mean ± std. dev. of 7 runs, 10000 loops each)\n",
      "numel: 67108864 expect: 202.92 us\n",
      "257 µs ± 6.42 µs per loop (mean ± std. dev. of 7 runs, 1000 loops each)\n",
      "numel: 134217728 expect: 405.84 us\n",
      "509 µs ± 23.9 µs per loop (mean ± std. dev. of 7 runs, 1000 loops each)\n",
      "numel: 268435456 expect: 811.69 us\n",
      "947 µs ± 130 ns per loop (mean ± std. dev. of 7 runs, 1000 loops each)\n",
      "numel: 536870912 expect: 1.62 ms\n",
      "1.88 ms ± 1.35 µs per loop (mean ± std. dev. of 7 runs, 1000 loops each)\n"
     ]
    }
   ],
   "source": [
    "import torch\n",
    "print(torch.__version__)\n",
    "\n",
    "GB_per_s = 616\n",
    "GB = 1024 * 1024 * 1024\n",
    "\n",
    "for i in range(1000):\n",
    "    torch.arange(10000, device='cuda')\n",
    "\n",
    "def benchmark(i):\n",
    "    numel = 2 ** i\n",
    "    size = numel * 2\n",
    "    unit = 'us'\n",
    "    time = size/ GB / GB_per_s * 1e6\n",
    "    if time > 1000:\n",
    "        time /= 1000\n",
    "        unit = 'ms'\n",
    "    print(\"numel:\", numel, 'expect:', round(time, 2), unit)\n",
    "    a = torch.randn(numel, device='cuda', dtype=torch.half)\n",
    "    torch.cuda.synchronize()\n",
    "    %timeit a.sum(); torch.cuda.synchronize()\n",
    "    \n",
    "for i in range(15, 30):\n",
    "    benchmark(i)"
   ]
  },
  {
   "cell_type": "code",
   "execution_count": null,
   "metadata": {},
   "outputs": [],
   "source": []
  }
 ],
 "metadata": {
  "kernelspec": {
   "display_name": "Python 3",
   "language": "python",
   "name": "python3"
  },
  "language_info": {
   "codemirror_mode": {
    "name": "ipython",
    "version": 3
   },
   "file_extension": ".py",
   "mimetype": "text/x-python",
   "name": "python",
   "nbconvert_exporter": "python",
   "pygments_lexer": "ipython3",
   "version": "3.8.2"
  }
 },
 "nbformat": 4,
 "nbformat_minor": 4
}
