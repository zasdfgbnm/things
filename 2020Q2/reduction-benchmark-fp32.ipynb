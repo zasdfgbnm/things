{
 "cells": [
  {
   "cell_type": "markdown",
   "metadata": {},
   "source": [
    "# Before"
   ]
  },
  {
   "cell_type": "code",
   "execution_count": 1,
   "metadata": {},
   "outputs": [
    {
     "name": "stdout",
     "output_type": "stream",
     "text": [
      "1.6.0a0+2fa3c15\n",
      "numel: 32768 expect: 0.2 us\n",
      "14.9 µs ± 640 ns per loop (mean ± std. dev. of 7 runs, 100000 loops each)\n",
      "numel: 65536 expect: 0.4 us\n",
      "18.2 µs ± 438 ns per loop (mean ± std. dev. of 7 runs, 100000 loops each)\n",
      "numel: 131072 expect: 0.79 us\n",
      "16.7 µs ± 51.6 ns per loop (mean ± std. dev. of 7 runs, 100000 loops each)\n",
      "numel: 262144 expect: 1.59 us\n",
      "16.9 µs ± 206 ns per loop (mean ± std. dev. of 7 runs, 100000 loops each)\n",
      "numel: 524288 expect: 3.17 us\n",
      "17.2 µs ± 539 ns per loop (mean ± std. dev. of 7 runs, 100000 loops each)\n",
      "numel: 1048576 expect: 6.34 us\n",
      "18.3 µs ± 405 ns per loop (mean ± std. dev. of 7 runs, 100000 loops each)\n",
      "numel: 2097152 expect: 12.68 us\n",
      "32.6 µs ± 1.61 µs per loop (mean ± std. dev. of 7 runs, 10000 loops each)\n",
      "numel: 4194304 expect: 25.37 us\n",
      "47.2 µs ± 1.83 µs per loop (mean ± std. dev. of 7 runs, 10000 loops each)\n",
      "numel: 8388608 expect: 50.73 us\n",
      "77.3 µs ± 2.58 µs per loop (mean ± std. dev. of 7 runs, 10000 loops each)\n",
      "numel: 16777216 expect: 101.46 us\n",
      "133 µs ± 59.6 ns per loop (mean ± std. dev. of 7 runs, 10000 loops each)\n",
      "numel: 33554432 expect: 202.92 us\n",
      "260 µs ± 14.1 µs per loop (mean ± std. dev. of 7 runs, 1000 loops each)\n",
      "numel: 67108864 expect: 405.84 us\n",
      "485 µs ± 10.2 µs per loop (mean ± std. dev. of 7 runs, 1000 loops each)\n",
      "numel: 134217728 expect: 811.69 us\n",
      "976 µs ± 20 µs per loop (mean ± std. dev. of 7 runs, 1000 loops each)\n",
      "numel: 268435456 expect: 1.62 ms\n",
      "1.91 ms ± 32.2 µs per loop (mean ± std. dev. of 7 runs, 1000 loops each)\n",
      "numel: 536870912 expect: 3.25 ms\n",
      "3.73 ms ± 24.2 µs per loop (mean ± std. dev. of 7 runs, 100 loops each)\n"
     ]
    }
   ],
   "source": [
    "import torch\n",
    "print(torch.__version__)\n",
    "\n",
    "GB_per_s = 616\n",
    "GB = 1024 * 1024 * 1024\n",
    "\n",
    "for i in range(1000):\n",
    "    torch.arange(10000, device='cuda')\n",
    "\n",
    "def benchmark(i):\n",
    "    numel = 2 ** i\n",
    "    size = numel * 4\n",
    "    unit = 'us'\n",
    "    time = size/ GB / GB_per_s * 1e6\n",
    "    if time > 1000:\n",
    "        time /= 1000\n",
    "        unit = 'ms'\n",
    "    print(\"numel:\", numel, 'expect:', round(time, 2), unit)\n",
    "    a = torch.randn(numel, device='cuda', dtype=torch.float)\n",
    "    torch.cuda.synchronize()\n",
    "    %timeit a.sum(); torch.cuda.synchronize()\n",
    "    \n",
    "for i in range(15, 30):\n",
    "    benchmark(i)"
   ]
  },
  {
   "cell_type": "markdown",
   "metadata": {},
   "source": [
    "# After"
   ]
  },
  {
   "cell_type": "code",
   "execution_count": 1,
   "metadata": {
    "scrolled": false
   },
   "outputs": [
    {
     "name": "stdout",
     "output_type": "stream",
     "text": [
      "1.6.0a0+6de0691\n",
      "numel: 32768 expect: 0.2 us\n",
      "15.7 µs ± 866 ns per loop (mean ± std. dev. of 7 runs, 100000 loops each)\n",
      "numel: 65536 expect: 0.4 us\n",
      "18.4 µs ± 174 ns per loop (mean ± std. dev. of 7 runs, 100000 loops each)\n",
      "numel: 131072 expect: 0.79 us\n",
      "17.9 µs ± 256 ns per loop (mean ± std. dev. of 7 runs, 100000 loops each)\n",
      "numel: 262144 expect: 1.59 us\n",
      "18.2 µs ± 739 ns per loop (mean ± std. dev. of 7 runs, 100000 loops each)\n",
      "numel: 524288 expect: 3.17 us\n",
      "17.7 µs ± 208 ns per loop (mean ± std. dev. of 7 runs, 100000 loops each)\n",
      "numel: 1048576 expect: 6.34 us\n",
      "19 µs ± 637 ns per loop (mean ± std. dev. of 7 runs, 100000 loops each)\n",
      "numel: 2097152 expect: 12.68 us\n",
      "39.2 µs ± 3.87 µs per loop (mean ± std. dev. of 7 runs, 10000 loops each)\n",
      "numel: 4194304 expect: 25.37 us\n",
      "52.8 µs ± 5.77 µs per loop (mean ± std. dev. of 7 runs, 10000 loops each)\n",
      "numel: 8388608 expect: 50.73 us\n",
      "82.5 µs ± 4.09 µs per loop (mean ± std. dev. of 7 runs, 10000 loops each)\n",
      "numel: 16777216 expect: 101.46 us\n",
      "133 µs ± 129 ns per loop (mean ± std. dev. of 7 runs, 10000 loops each)\n",
      "numel: 33554432 expect: 202.92 us\n",
      "249 µs ± 158 ns per loop (mean ± std. dev. of 7 runs, 1000 loops each)\n",
      "numel: 67108864 expect: 405.84 us\n",
      "479 µs ± 97.9 ns per loop (mean ± std. dev. of 7 runs, 1000 loops each)\n",
      "numel: 134217728 expect: 811.69 us\n",
      "938 µs ± 1.85 µs per loop (mean ± std. dev. of 7 runs, 1000 loops each)\n",
      "numel: 268435456 expect: 1.62 ms\n",
      "1.86 ms ± 3.87 µs per loop (mean ± std. dev. of 7 runs, 1000 loops each)\n",
      "numel: 536870912 expect: 3.25 ms\n",
      "3.7 ms ± 21.9 µs per loop (mean ± std. dev. of 7 runs, 100 loops each)\n"
     ]
    }
   ],
   "source": [
    "import torch\n",
    "print(torch.__version__)\n",
    "\n",
    "GB_per_s = 616\n",
    "GB = 1024 * 1024 * 1024\n",
    "\n",
    "for i in range(1000):\n",
    "    torch.arange(10000, device='cuda')\n",
    "\n",
    "def benchmark(i):\n",
    "    numel = 2 ** i\n",
    "    size = numel * 4\n",
    "    unit = 'us'\n",
    "    time = size/ GB / GB_per_s * 1e6\n",
    "    if time > 1000:\n",
    "        time /= 1000\n",
    "        unit = 'ms'\n",
    "    print(\"numel:\", numel, 'expect:', round(time, 2), unit)\n",
    "    a = torch.randn(numel, device='cuda', dtype=torch.float)\n",
    "    torch.cuda.synchronize()\n",
    "    %timeit a.sum(); torch.cuda.synchronize()\n",
    "    \n",
    "for i in range(15, 30):\n",
    "    benchmark(i)"
   ]
  },
  {
   "cell_type": "code",
   "execution_count": null,
   "metadata": {},
   "outputs": [],
   "source": []
  }
 ],
 "metadata": {
  "kernelspec": {
   "display_name": "Python 3",
   "language": "python",
   "name": "python3"
  },
  "language_info": {
   "codemirror_mode": {
    "name": "ipython",
    "version": 3
   },
   "file_extension": ".py",
   "mimetype": "text/x-python",
   "name": "python",
   "nbconvert_exporter": "python",
   "pygments_lexer": "ipython3",
   "version": "3.8.2"
  }
 },
 "nbformat": 4,
 "nbformat_minor": 4
}
