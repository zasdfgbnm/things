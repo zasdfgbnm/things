{
 "cells": [
  {
   "cell_type": "code",
   "execution_count": 2,
   "metadata": {},
   "outputs": [
    {
     "name": "stdout",
     "output_type": "stream",
     "text": [
      "1.6.0a0+26ee3b9\n",
      "45.1 µs ± 1.75 µs per loop (mean ± std. dev. of 7 runs, 10000 loops each)\n",
      "78.6 µs ± 9.05 µs per loop (mean ± std. dev. of 7 runs, 10000 loops each)\n",
      "132 µs ± 1.46 µs per loop (mean ± std. dev. of 7 runs, 10000 loops each)\n",
      "253 µs ± 5.62 µs per loop (mean ± std. dev. of 7 runs, 1000 loops each)\n",
      "499 µs ± 20.6 µs per loop (mean ± std. dev. of 7 runs, 1000 loops each)\n",
      "990 µs ± 20.6 µs per loop (mean ± std. dev. of 7 runs, 1000 loops each)\n",
      "1.98 ms ± 63.6 µs per loop (mean ± std. dev. of 7 runs, 1000 loops each)\n",
      "3.87 ms ± 130 µs per loop (mean ± std. dev. of 7 runs, 100 loops each)\n",
      "7.64 ms ± 12.9 µs per loop (mean ± std. dev. of 7 runs, 100 loops each)\n",
      "15.8 ms ± 815 µs per loop (mean ± std. dev. of 7 runs, 100 loops each)\n",
      "31 ms ± 134 µs per loop (mean ± std. dev. of 7 runs, 10 loops each)\n"
     ]
    }
   ],
   "source": [
    "import torch\n",
    "print(torch.__version__)\n",
    "\n",
    "# warm up\n",
    "for i in range(1000):\n",
    "    torch.arange(100000, device='cuda')\n",
    "\n",
    "def benchmark(size):\n",
    "    s1 = 2 ** (size // 2)\n",
    "    s2 = 2 ** (size - size // 2)\n",
    "    p = torch.rand((s1, s2), device='cuda').abs()\n",
    "    d = torch.distributions.poisson.Poisson(p)\n",
    "    torch.cuda.synchronize()\n",
    "    %timeit d.sample(); torch.cuda.synchronize()\n",
    "\n",
    "for i in range(20, 31):\n",
    "    benchmark(i)"
   ]
  },
  {
   "cell_type": "code",
   "execution_count": 1,
   "metadata": {},
   "outputs": [
    {
     "name": "stdout",
     "output_type": "stream",
     "text": [
      "1.6.0a0+589b0ec\n",
      "44.6 µs ± 4.23 µs per loop (mean ± std. dev. of 7 runs, 10000 loops each)\n",
      "67.6 µs ± 1.13 µs per loop (mean ± std. dev. of 7 runs, 10000 loops each)\n",
      "120 µs ± 109 ns per loop (mean ± std. dev. of 7 runs, 10000 loops each)\n",
      "228 µs ± 1.12 µs per loop (mean ± std. dev. of 7 runs, 1000 loops each)\n",
      "443 µs ± 988 ns per loop (mean ± std. dev. of 7 runs, 1000 loops each)\n",
      "871 µs ± 1.17 µs per loop (mean ± std. dev. of 7 runs, 1000 loops each)\n",
      "1.73 ms ± 1.02 µs per loop (mean ± std. dev. of 7 runs, 1000 loops each)\n",
      "3.45 ms ± 3.87 µs per loop (mean ± std. dev. of 7 runs, 100 loops each)\n",
      "6.89 ms ± 11.5 µs per loop (mean ± std. dev. of 7 runs, 100 loops each)\n",
      "13.8 ms ± 4.5 µs per loop (mean ± std. dev. of 7 runs, 100 loops each)\n",
      "27.5 ms ± 161 µs per loop (mean ± std. dev. of 7 runs, 10 loops each)\n"
     ]
    }
   ],
   "source": [
    "import torch\n",
    "print(torch.__version__)\n",
    "\n",
    "# warm up\n",
    "for i in range(1000):\n",
    "    torch.arange(100000, device='cuda')\n",
    "\n",
    "def benchmark(size):\n",
    "    s1 = 2 ** (size // 2)\n",
    "    s2 = 2 ** (size - size // 2)\n",
    "    p = torch.rand((s1, s2), device='cuda').abs()\n",
    "    d = torch.distributions.poisson.Poisson(p)\n",
    "    torch.cuda.synchronize()\n",
    "    %timeit d.sample(); torch.cuda.synchronize()\n",
    "\n",
    "for i in range(20, 31):\n",
    "    benchmark(i)"
   ]
  },
  {
   "cell_type": "code",
   "execution_count": null,
   "metadata": {},
   "outputs": [],
   "source": []
  }
 ],
 "metadata": {
  "kernelspec": {
   "display_name": "Python 3",
   "language": "python",
   "name": "python3"
  },
  "language_info": {
   "codemirror_mode": {
    "name": "ipython",
    "version": 3
   },
   "file_extension": ".py",
   "mimetype": "text/x-python",
   "name": "python",
   "nbconvert_exporter": "python",
   "pygments_lexer": "ipython3",
   "version": "3.8.2"
  }
 },
 "nbformat": 4,
 "nbformat_minor": 4
}
