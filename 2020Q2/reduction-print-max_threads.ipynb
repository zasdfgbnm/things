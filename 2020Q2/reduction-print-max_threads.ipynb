{
 "cells": [
  {
   "cell_type": "code",
   "execution_count": 1,
   "metadata": {},
   "outputs": [
    {
     "name": "stdout",
     "output_type": "stream",
     "text": [
      "1.6.0a0+4b7cd69\n",
      "numel: 32768 expect: 0.1 us\n",
      "numel: 65536 expect: 0.2 us\n",
      "numel: 131072 expect: 0.4 us\n",
      "numel: 262144 expect: 0.79 us\n",
      "numel: 524288 expect: 1.59 us\n",
      "numel: 1048576 expect: 3.17 us\n",
      "numel: 2097152 expect: 6.34 us\n",
      "numel: 4194304 expect: 12.68 us\n",
      "numel: 8388608 expect: 25.37 us\n",
      "numel: 16777216 expect: 50.73 us\n",
      "numel: 33554432 expect: 101.46 us\n",
      "numel: 67108864 expect: 202.92 us\n",
      "numel: 134217728 expect: 405.84 us\n",
      "numel: 268435456 expect: 811.69 us\n",
      "numel: 536870912 expect: 1.62 ms\n",
      "numel: 1073741824 expect: 3.25 ms\n",
      "numel: 2147483648 expect: 6.49 ms\n"
     ]
    }
   ],
   "source": [
    "import torch\n",
    "print(torch.__version__)\n",
    "\n",
    "GB_per_s = 616\n",
    "GB = 1024 * 1024 * 1024\n",
    "\n",
    "for i in range(1000):\n",
    "    torch.arange(10000, device='cuda')\n",
    "\n",
    "def print_config(i):\n",
    "    numel = 2 ** i\n",
    "    size = numel * 2\n",
    "    unit = 'us'\n",
    "    time = size/ GB / GB_per_s * 1e6\n",
    "    if time > 1000:\n",
    "        time /= 1000\n",
    "        unit = 'ms'\n",
    "    print(\"numel:\", numel, 'expect:', round(time, 2), unit)\n",
    "    a = torch.randn(numel, device='cuda', dtype=torch.half)\n",
    "    torch.cuda.synchronize()\n",
    "    a.sum(); torch.cuda.synchronize()\n",
    "    \n",
    "for i in range(15, 32):\n",
    "    print_config(i)"
   ]
  },
  {
   "cell_type": "code",
   "execution_count": null,
   "metadata": {},
   "outputs": [],
   "source": []
  }
 ],
 "metadata": {
  "kernelspec": {
   "display_name": "Python 3",
   "language": "python",
   "name": "python3"
  },
  "language_info": {
   "codemirror_mode": {
    "name": "ipython",
    "version": 3
   },
   "file_extension": ".py",
   "mimetype": "text/x-python",
   "name": "python",
   "nbconvert_exporter": "python",
   "pygments_lexer": "ipython3",
   "version": "3.8.2"
  }
 },
 "nbformat": 4,
 "nbformat_minor": 4
}
