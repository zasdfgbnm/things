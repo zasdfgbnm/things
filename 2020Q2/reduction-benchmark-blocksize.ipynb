{
 "cells": [
  {
   "cell_type": "markdown",
   "metadata": {},
   "source": [
    "# 2048"
   ]
  },
  {
   "cell_type": "code",
   "execution_count": 1,
   "metadata": {},
   "outputs": [
    {
     "name": "stdout",
     "output_type": "stream",
     "text": [
      "1.6.0a0+4b7cd69\n",
      "numel: 32768 expect: 0.1 us\n",
      "17.1 µs ± 3.93 µs per loop (mean ± std. dev. of 7 runs, 10000 loops each)\n",
      "numel: 65536 expect: 0.2 us\n",
      "17.9 µs ± 499 ns per loop (mean ± std. dev. of 7 runs, 100000 loops each)\n",
      "numel: 131072 expect: 0.4 us\n",
      "17.5 µs ± 450 ns per loop (mean ± std. dev. of 7 runs, 100000 loops each)\n",
      "numel: 262144 expect: 0.79 us\n",
      "18.1 µs ± 824 ns per loop (mean ± std. dev. of 7 runs, 100000 loops each)\n",
      "numel: 524288 expect: 1.59 us\n",
      "17.4 µs ± 371 ns per loop (mean ± std. dev. of 7 runs, 100000 loops each)\n",
      "numel: 1048576 expect: 3.17 us\n",
      "17.7 µs ± 48.4 ns per loop (mean ± std. dev. of 7 runs, 100000 loops each)\n",
      "numel: 2097152 expect: 6.34 us\n",
      "20.6 µs ± 217 ns per loop (mean ± std. dev. of 7 runs, 10000 loops each)\n",
      "numel: 4194304 expect: 12.68 us\n",
      "34.6 µs ± 44.9 ns per loop (mean ± std. dev. of 7 runs, 10000 loops each)\n",
      "numel: 8388608 expect: 25.37 us\n",
      "50.7 µs ± 41.4 ns per loop (mean ± std. dev. of 7 runs, 10000 loops each)\n",
      "numel: 16777216 expect: 50.73 us\n",
      "92.3 µs ± 2.14 µs per loop (mean ± std. dev. of 7 runs, 10000 loops each)\n",
      "numel: 33554432 expect: 101.46 us\n",
      "151 µs ± 6.87 µs per loop (mean ± std. dev. of 7 runs, 10000 loops each)\n",
      "numel: 67108864 expect: 202.92 us\n",
      "267 µs ± 16.9 µs per loop (mean ± std. dev. of 7 runs, 1000 loops each)\n",
      "numel: 134217728 expect: 405.84 us\n",
      "515 µs ± 22.1 µs per loop (mean ± std. dev. of 7 runs, 1000 loops each)\n",
      "numel: 268435456 expect: 811.69 us\n",
      "980 µs ± 21.5 µs per loop (mean ± std. dev. of 7 runs, 1000 loops each)\n",
      "numel: 536870912 expect: 1.62 ms\n",
      "1.91 ms ± 28.8 µs per loop (mean ± std. dev. of 7 runs, 1000 loops each)\n",
      "numel: 1073741824 expect: 3.25 ms\n",
      "3.93 ms ± 25.2 µs per loop (mean ± std. dev. of 7 runs, 100 loops each)\n",
      "numel: 2147483648 expect: 6.49 ms\n",
      "8.04 ms ± 347 µs per loop (mean ± std. dev. of 7 runs, 100 loops each)\n"
     ]
    }
   ],
   "source": [
    "import torch\n",
    "print(torch.__version__)\n",
    "\n",
    "GB_per_s = 616\n",
    "GB = 1024 * 1024 * 1024\n",
    "\n",
    "for i in range(1000):\n",
    "    torch.arange(10000, device='cuda')\n",
    "\n",
    "def benchmark(i):\n",
    "    numel = 2 ** i\n",
    "    size = numel * 2\n",
    "    unit = 'us'\n",
    "    time = size/ GB / GB_per_s * 1e6\n",
    "    if time > 1000:\n",
    "        time /= 1000\n",
    "        unit = 'ms'\n",
    "    print(\"numel:\", numel, 'expect:', round(time, 2), unit)\n",
    "    a = torch.randn(numel, device='cuda', dtype=torch.half)\n",
    "    torch.cuda.synchronize()\n",
    "    %timeit a.sum(); torch.cuda.synchronize()\n",
    "    \n",
    "for i in range(15, 32):\n",
    "    benchmark(i)"
   ]
  },
  {
   "cell_type": "markdown",
   "metadata": {},
   "source": [
    "# 4096"
   ]
  },
  {
   "cell_type": "code",
   "execution_count": 3,
   "metadata": {},
   "outputs": [
    {
     "name": "stdout",
     "output_type": "stream",
     "text": [
      "1.6.0a0+4b7cd69\n",
      "numel: 32768 expect: 0.1 us\n",
      "14.9 µs ± 762 ns per loop (mean ± std. dev. of 7 runs, 10000 loops each)\n",
      "numel: 65536 expect: 0.2 us\n",
      "16.3 µs ± 139 ns per loop (mean ± std. dev. of 7 runs, 100000 loops each)\n",
      "numel: 131072 expect: 0.4 us\n",
      "16.5 µs ± 97 ns per loop (mean ± std. dev. of 7 runs, 100000 loops each)\n",
      "numel: 262144 expect: 0.79 us\n",
      "16.6 µs ± 43.7 ns per loop (mean ± std. dev. of 7 runs, 100000 loops each)\n",
      "numel: 524288 expect: 1.59 us\n",
      "16.7 µs ± 38.6 ns per loop (mean ± std. dev. of 7 runs, 100000 loops each)\n",
      "numel: 1048576 expect: 3.17 us\n",
      "16.8 µs ± 19.2 ns per loop (mean ± std. dev. of 7 runs, 100000 loops each)\n",
      "numel: 2097152 expect: 6.34 us\n",
      "19.7 µs ± 24.9 ns per loop (mean ± std. dev. of 7 runs, 100000 loops each)\n",
      "numel: 4194304 expect: 12.68 us\n",
      "34.5 µs ± 12.1 ns per loop (mean ± std. dev. of 7 runs, 10000 loops each)\n",
      "numel: 8388608 expect: 25.37 us\n",
      "50.1 µs ± 28.4 ns per loop (mean ± std. dev. of 7 runs, 10000 loops each)\n",
      "numel: 16777216 expect: 50.73 us\n",
      "81.9 µs ± 18.9 ns per loop (mean ± std. dev. of 7 runs, 10000 loops each)\n",
      "numel: 33554432 expect: 101.46 us\n",
      "143 µs ± 83.7 ns per loop (mean ± std. dev. of 7 runs, 10000 loops each)\n",
      "numel: 67108864 expect: 202.92 us\n",
      "255 µs ± 50.1 ns per loop (mean ± std. dev. of 7 runs, 1000 loops each)\n",
      "numel: 134217728 expect: 405.84 us\n",
      "484 µs ± 71.2 ns per loop (mean ± std. dev. of 7 runs, 1000 loops each)\n",
      "numel: 268435456 expect: 811.69 us\n",
      "948 µs ± 3.94 µs per loop (mean ± std. dev. of 7 runs, 1000 loops each)\n",
      "numel: 536870912 expect: 1.62 ms\n",
      "1.88 ms ± 7.91 µs per loop (mean ± std. dev. of 7 runs, 1000 loops each)\n",
      "numel: 1073741824 expect: 3.25 ms\n",
      "3.79 ms ± 27.5 µs per loop (mean ± std. dev. of 7 runs, 100 loops each)\n",
      "numel: 2147483648 expect: 6.49 ms\n",
      "7.53 ms ± 1.63 µs per loop (mean ± std. dev. of 7 runs, 100 loops each)\n"
     ]
    }
   ],
   "source": [
    "import torch\n",
    "print(torch.__version__)\n",
    "\n",
    "GB_per_s = 616\n",
    "GB = 1024 * 1024 * 1024\n",
    "\n",
    "for i in range(1000):\n",
    "    torch.arange(10000, device='cuda')\n",
    "\n",
    "def benchmark(i):\n",
    "    numel = 2 ** i\n",
    "    size = numel * 2\n",
    "    unit = 'us'\n",
    "    time = size/ GB / GB_per_s * 1e6\n",
    "    if time > 1000:\n",
    "        time /= 1000\n",
    "        unit = 'ms'\n",
    "    print(\"numel:\", numel, 'expect:', round(time, 2), unit)\n",
    "    a = torch.randn(numel, device='cuda', dtype=torch.half)\n",
    "    torch.cuda.synchronize()\n",
    "    %timeit a.sum(); torch.cuda.synchronize()\n",
    "    \n",
    "for i in range(15, 32):\n",
    "    benchmark(i)"
   ]
  },
  {
   "cell_type": "markdown",
   "metadata": {},
   "source": [
    "# 8192"
   ]
  },
  {
   "cell_type": "code",
   "execution_count": 1,
   "metadata": {},
   "outputs": [
    {
     "name": "stdout",
     "output_type": "stream",
     "text": [
      "1.6.0a0+4b7cd69\n",
      "numel: 32768 expect: 0.1 us\n",
      "14.9 µs ± 174 ns per loop (mean ± std. dev. of 7 runs, 100000 loops each)\n",
      "numel: 65536 expect: 0.2 us\n",
      "18.1 µs ± 246 ns per loop (mean ± std. dev. of 7 runs, 100000 loops each)\n",
      "numel: 131072 expect: 0.4 us\n",
      "17.5 µs ± 522 ns per loop (mean ± std. dev. of 7 runs, 100000 loops each)\n",
      "numel: 262144 expect: 0.79 us\n",
      "17.9 µs ± 404 ns per loop (mean ± std. dev. of 7 runs, 100000 loops each)\n",
      "numel: 524288 expect: 1.59 us\n",
      "17.5 µs ± 264 ns per loop (mean ± std. dev. of 7 runs, 100000 loops each)\n",
      "numel: 1048576 expect: 3.17 us\n",
      "18.2 µs ± 582 ns per loop (mean ± std. dev. of 7 runs, 100000 loops each)\n",
      "numel: 2097152 expect: 6.34 us\n",
      "20.5 µs ± 206 ns per loop (mean ± std. dev. of 7 runs, 10000 loops each)\n",
      "numel: 4194304 expect: 12.68 us\n",
      "34.8 µs ± 41.7 ns per loop (mean ± std. dev. of 7 runs, 10000 loops each)\n",
      "numel: 8388608 expect: 25.37 us\n",
      "50.8 µs ± 91.8 ns per loop (mean ± std. dev. of 7 runs, 10000 loops each)\n",
      "numel: 16777216 expect: 50.73 us\n",
      "84 µs ± 2.18 µs per loop (mean ± std. dev. of 7 runs, 10000 loops each)\n",
      "numel: 33554432 expect: 101.46 us\n",
      "151 µs ± 4.48 µs per loop (mean ± std. dev. of 7 runs, 10000 loops each)\n",
      "numel: 67108864 expect: 202.92 us\n",
      "279 µs ± 10.3 µs per loop (mean ± std. dev. of 7 runs, 1000 loops each)\n",
      "numel: 134217728 expect: 405.84 us\n",
      "513 µs ± 17.9 µs per loop (mean ± std. dev. of 7 runs, 1000 loops each)\n",
      "numel: 268435456 expect: 811.69 us\n",
      "984 µs ± 22.1 µs per loop (mean ± std. dev. of 7 runs, 1000 loops each)\n",
      "numel: 536870912 expect: 1.62 ms\n",
      "1.91 ms ± 28.1 µs per loop (mean ± std. dev. of 7 runs, 1000 loops each)\n",
      "numel: 1073741824 expect: 3.25 ms\n",
      "3.96 ms ± 215 µs per loop (mean ± std. dev. of 7 runs, 100 loops each)\n",
      "numel: 2147483648 expect: 6.49 ms\n",
      "7.74 ms ± 334 µs per loop (mean ± std. dev. of 7 runs, 100 loops each)\n"
     ]
    }
   ],
   "source": [
    "import torch\n",
    "print(torch.__version__)\n",
    "\n",
    "GB_per_s = 616\n",
    "GB = 1024 * 1024 * 1024\n",
    "\n",
    "for i in range(1000):\n",
    "    torch.arange(10000, device='cuda')\n",
    "\n",
    "def benchmark(i):\n",
    "    numel = 2 ** i\n",
    "    size = numel * 2\n",
    "    unit = 'us'\n",
    "    time = size/ GB / GB_per_s * 1e6\n",
    "    if time > 1000:\n",
    "        time /= 1000\n",
    "        unit = 'ms'\n",
    "    print(\"numel:\", numel, 'expect:', round(time, 2), unit)\n",
    "    a = torch.randn(numel, device='cuda', dtype=torch.half)\n",
    "    torch.cuda.synchronize()\n",
    "    %timeit a.sum(); torch.cuda.synchronize()\n",
    "    \n",
    "for i in range(15, 32):\n",
    "    benchmark(i)"
   ]
  },
  {
   "cell_type": "code",
   "execution_count": null,
   "metadata": {},
   "outputs": [],
   "source": []
  }
 ],
 "metadata": {
  "kernelspec": {
   "display_name": "Python 3",
   "language": "python",
   "name": "python3"
  },
  "language_info": {
   "codemirror_mode": {
    "name": "ipython",
    "version": 3
   },
   "file_extension": ".py",
   "mimetype": "text/x-python",
   "name": "python",
   "nbconvert_exporter": "python",
   "pygments_lexer": "ipython3",
   "version": "3.8.2"
  }
 },
 "nbformat": 4,
 "nbformat_minor": 4
}
