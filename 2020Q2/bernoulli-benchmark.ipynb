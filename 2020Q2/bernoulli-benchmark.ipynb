{
 "cells": [
  {
   "cell_type": "markdown",
   "metadata": {},
   "source": [
    "# Before"
   ]
  },
  {
   "cell_type": "code",
   "execution_count": 1,
   "metadata": {},
   "outputs": [
    {
     "name": "stdout",
     "output_type": "stream",
     "text": [
      "1.6.0a0+e5746ee\n",
      "32.3 µs ± 1.4 µs per loop (mean ± std. dev. of 7 runs, 10000 loops each)\n",
      "48.9 µs ± 1.66 µs per loop (mean ± std. dev. of 7 runs, 10000 loops each)\n",
      "85.6 µs ± 3.21 µs per loop (mean ± std. dev. of 7 runs, 10000 loops each)\n",
      "150 µs ± 6.15 µs per loop (mean ± std. dev. of 7 runs, 10000 loops each)\n",
      "281 µs ± 11.7 µs per loop (mean ± std. dev. of 7 runs, 1000 loops each)\n",
      "602 µs ± 12.3 µs per loop (mean ± std. dev. of 7 runs, 1000 loops each)\n",
      "1.06 ms ± 30.5 µs per loop (mean ± std. dev. of 7 runs, 1000 loops each)\n",
      "2.06 ms ± 22.5 µs per loop (mean ± std. dev. of 7 runs, 100 loops each)\n",
      "4.34 ms ± 424 µs per loop (mean ± std. dev. of 7 runs, 100 loops each)\n",
      "8.16 ms ± 27.2 µs per loop (mean ± std. dev. of 7 runs, 100 loops each)\n",
      "16.9 ms ± 634 µs per loop (mean ± std. dev. of 7 runs, 100 loops each)\n"
     ]
    }
   ],
   "source": [
    "import torch\n",
    "print(torch.__version__)\n",
    "\n",
    "# warm up\n",
    "for i in range(1000):\n",
    "    torch.arange(100000, device='cuda')\n",
    "\n",
    "def benchmark(size):\n",
    "    s1 = 2 ** (size // 2)\n",
    "    s2 = 2 ** (size - size // 2)\n",
    "    p = torch.rand((s1, s2), device='cuda')\n",
    "    d = torch.distributions.bernoulli.Bernoulli(p)\n",
    "    torch.cuda.synchronize()\n",
    "    %timeit d.sample(); torch.cuda.synchronize()\n",
    "\n",
    "for i in range(20, 31):\n",
    "    benchmark(i)"
   ]
  },
  {
   "cell_type": "markdown",
   "metadata": {},
   "source": [
    "# After"
   ]
  },
  {
   "cell_type": "code",
   "execution_count": 1,
   "metadata": {},
   "outputs": [
    {
     "name": "stdout",
     "output_type": "stream",
     "text": [
      "1.6.0a0+bb8c84d\n",
      "30.5 µs ± 1.58 µs per loop (mean ± std. dev. of 7 runs, 10000 loops each)\n",
      "46.3 µs ± 1.04 µs per loop (mean ± std. dev. of 7 runs, 10000 loops each)\n",
      "85.5 µs ± 8.36 µs per loop (mean ± std. dev. of 7 runs, 10000 loops each)\n",
      "148 µs ± 5.44 µs per loop (mean ± std. dev. of 7 runs, 10000 loops each)\n",
      "280 µs ± 2.76 µs per loop (mean ± std. dev. of 7 runs, 1000 loops each)\n",
      "553 µs ± 10.4 µs per loop (mean ± std. dev. of 7 runs, 1000 loops each)\n",
      "1.12 ms ± 18.9 µs per loop (mean ± std. dev. of 7 runs, 1000 loops each)\n",
      "2.57 ms ± 539 µs per loop (mean ± std. dev. of 7 runs, 100 loops each)\n",
      "4.39 ms ± 185 µs per loop (mean ± std. dev. of 7 runs, 100 loops each)\n",
      "9.42 ms ± 664 µs per loop (mean ± std. dev. of 7 runs, 100 loops each)\n",
      "18.6 ms ± 591 µs per loop (mean ± std. dev. of 7 runs, 100 loops each)\n"
     ]
    }
   ],
   "source": [
    "import torch\n",
    "print(torch.__version__)\n",
    "\n",
    "# warm up\n",
    "for i in range(1000):\n",
    "    torch.arange(100000, device='cuda')\n",
    "\n",
    "def benchmark(size):\n",
    "    s1 = 2 ** (size // 2)\n",
    "    s2 = 2 ** (size - size // 2)\n",
    "    p = torch.rand((s1, s2), device='cuda')\n",
    "    d = torch.distributions.bernoulli.Bernoulli(p)\n",
    "    torch.cuda.synchronize()\n",
    "    %timeit d.sample(); torch.cuda.synchronize()\n",
    "\n",
    "for i in range(20, 31):\n",
    "    benchmark(i)"
   ]
  },
  {
   "cell_type": "code",
   "execution_count": null,
   "metadata": {},
   "outputs": [],
   "source": []
  }
 ],
 "metadata": {
  "kernelspec": {
   "display_name": "Python 3",
   "language": "python",
   "name": "python3"
  },
  "language_info": {
   "codemirror_mode": {
    "name": "ipython",
    "version": 3
   },
   "file_extension": ".py",
   "mimetype": "text/x-python",
   "name": "python",
   "nbconvert_exporter": "python",
   "pygments_lexer": "ipython3",
   "version": "3.8.2"
  }
 },
 "nbformat": 4,
 "nbformat_minor": 4
}
