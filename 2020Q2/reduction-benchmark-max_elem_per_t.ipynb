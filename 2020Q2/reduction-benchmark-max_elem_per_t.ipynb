{
 "cells": [
  {
   "cell_type": "markdown",
   "metadata": {},
   "source": [
    "# 1024"
   ]
  },
  {
   "cell_type": "code",
   "execution_count": 1,
   "metadata": {},
   "outputs": [
    {
     "name": "stdout",
     "output_type": "stream",
     "text": [
      "1.6.0a0+4b7cd69\n",
      "numel: 32768 expect: 0.1 us\n",
      "14.6 µs ± 143 ns per loop (mean ± std. dev. of 7 runs, 100000 loops each)\n",
      "numel: 65536 expect: 0.2 us\n",
      "17.7 µs ± 1.34 µs per loop (mean ± std. dev. of 7 runs, 100000 loops each)\n",
      "numel: 131072 expect: 0.4 us\n",
      "17.7 µs ± 406 ns per loop (mean ± std. dev. of 7 runs, 100000 loops each)\n",
      "numel: 262144 expect: 0.79 us\n",
      "18.1 µs ± 699 ns per loop (mean ± std. dev. of 7 runs, 100000 loops each)\n",
      "numel: 524288 expect: 1.59 us\n",
      "17.3 µs ± 345 ns per loop (mean ± std. dev. of 7 runs, 100000 loops each)\n",
      "numel: 1048576 expect: 3.17 us\n",
      "17.6 µs ± 25.4 ns per loop (mean ± std. dev. of 7 runs, 100000 loops each)\n",
      "numel: 2097152 expect: 6.34 us\n",
      "19.1 µs ± 790 ns per loop (mean ± std. dev. of 7 runs, 100000 loops each)\n",
      "numel: 4194304 expect: 12.68 us\n",
      "32.6 µs ± 856 ns per loop (mean ± std. dev. of 7 runs, 10000 loops each)\n",
      "numel: 8388608 expect: 25.37 us\n",
      "48 µs ± 1.99 µs per loop (mean ± std. dev. of 7 runs, 10000 loops each)\n",
      "numel: 16777216 expect: 50.73 us\n",
      "75 µs ± 21.7 ns per loop (mean ± std. dev. of 7 runs, 10000 loops each)\n",
      "numel: 33554432 expect: 101.46 us\n",
      "138 µs ± 7.68 µs per loop (mean ± std. dev. of 7 runs, 10000 loops each)\n",
      "numel: 67108864 expect: 202.92 us\n",
      "250 µs ± 84.2 ns per loop (mean ± std. dev. of 7 runs, 1000 loops each)\n",
      "numel: 134217728 expect: 405.84 us\n",
      "539 µs ± 54.1 µs per loop (mean ± std. dev. of 7 runs, 1000 loops each)\n",
      "numel: 268435456 expect: 811.69 us\n",
      "1.02 ms ± 63.8 µs per loop (mean ± std. dev. of 7 runs, 1000 loops each)\n",
      "numel: 536870912 expect: 1.62 ms\n",
      "2.07 ms ± 113 µs per loop (mean ± std. dev. of 7 runs, 1000 loops each)\n",
      "numel: 1073741824 expect: 3.25 ms\n",
      "4.5 ms ± 106 µs per loop (mean ± std. dev. of 7 runs, 100 loops each)\n",
      "numel: 2147483648 expect: 6.49 ms\n",
      "7.95 ms ± 124 µs per loop (mean ± std. dev. of 7 runs, 100 loops each)\n"
     ]
    }
   ],
   "source": [
    "import torch\n",
    "print(torch.__version__)\n",
    "\n",
    "GB_per_s = 616\n",
    "GB = 1024 * 1024 * 1024\n",
    "\n",
    "for i in range(1000):\n",
    "    torch.arange(10000, device='cuda')\n",
    "\n",
    "def benchmark(i):\n",
    "    numel = 2 ** i\n",
    "    size = numel * 2\n",
    "    unit = 'us'\n",
    "    time = size/ GB / GB_per_s * 1e6\n",
    "    if time > 1000:\n",
    "        time /= 1000\n",
    "        unit = 'ms'\n",
    "    print(\"numel:\", numel, 'expect:', round(time, 2), unit)\n",
    "    a = torch.randn(numel, device='cuda', dtype=torch.half)\n",
    "    torch.cuda.synchronize()\n",
    "    %timeit a.sum(); torch.cuda.synchronize()\n",
    "    \n",
    "for i in range(15, 32):\n",
    "    benchmark(i)"
   ]
  },
  {
   "cell_type": "markdown",
   "metadata": {},
   "source": [
    "# 512"
   ]
  },
  {
   "cell_type": "code",
   "execution_count": 1,
   "metadata": {},
   "outputs": [
    {
     "name": "stdout",
     "output_type": "stream",
     "text": [
      "1.6.0a0+4b7cd69\n",
      "numel: 32768 expect: 0.1 us\n",
      "14.3 µs ± 105 ns per loop (mean ± std. dev. of 7 runs, 100000 loops each)\n",
      "numel: 65536 expect: 0.2 us\n",
      "16.6 µs ± 469 ns per loop (mean ± std. dev. of 7 runs, 100000 loops each)\n",
      "numel: 131072 expect: 0.4 us\n",
      "17.2 µs ± 603 ns per loop (mean ± std. dev. of 7 runs, 100000 loops each)\n",
      "numel: 262144 expect: 0.79 us\n",
      "16.8 µs ± 264 ns per loop (mean ± std. dev. of 7 runs, 100000 loops each)\n",
      "numel: 524288 expect: 1.59 us\n",
      "17.1 µs ± 55.5 ns per loop (mean ± std. dev. of 7 runs, 100000 loops each)\n",
      "numel: 1048576 expect: 3.17 us\n",
      "17.3 µs ± 21.8 ns per loop (mean ± std. dev. of 7 runs, 100000 loops each)\n",
      "numel: 2097152 expect: 6.34 us\n",
      "18.8 µs ± 1.2 µs per loop (mean ± std. dev. of 7 runs, 100000 loops each)\n",
      "numel: 4194304 expect: 12.68 us\n",
      "31 µs ± 10.8 ns per loop (mean ± std. dev. of 7 runs, 10000 loops each)\n",
      "numel: 8388608 expect: 25.37 us\n",
      "50.9 µs ± 1.59 µs per loop (mean ± std. dev. of 7 runs, 10000 loops each)\n",
      "numel: 16777216 expect: 50.73 us\n",
      "78.6 µs ± 2.95 µs per loop (mean ± std. dev. of 7 runs, 10000 loops each)\n",
      "numel: 33554432 expect: 101.46 us\n",
      "141 µs ± 5.46 µs per loop (mean ± std. dev. of 7 runs, 10000 loops each)\n",
      "numel: 67108864 expect: 202.92 us\n",
      "266 µs ± 17.6 µs per loop (mean ± std. dev. of 7 runs, 1000 loops each)\n",
      "numel: 134217728 expect: 405.84 us\n",
      "502 µs ± 18.7 µs per loop (mean ± std. dev. of 7 runs, 1000 loops each)\n",
      "numel: 268435456 expect: 811.69 us\n",
      "1.04 ms ± 120 µs per loop (mean ± std. dev. of 7 runs, 1000 loops each)\n",
      "numel: 536870912 expect: 1.62 ms\n",
      "2.02 ms ± 56.1 µs per loop (mean ± std. dev. of 7 runs, 1000 loops each)\n",
      "numel: 1073741824 expect: 3.25 ms\n",
      "3.9 ms ± 129 µs per loop (mean ± std. dev. of 7 runs, 100 loops each)\n",
      "numel: 2147483648 expect: 6.49 ms\n",
      "7.79 ms ± 370 µs per loop (mean ± std. dev. of 7 runs, 100 loops each)\n"
     ]
    }
   ],
   "source": [
    "import torch\n",
    "print(torch.__version__)\n",
    "\n",
    "GB_per_s = 616\n",
    "GB = 1024 * 1024 * 1024\n",
    "\n",
    "for i in range(1000):\n",
    "    torch.arange(10000, device='cuda')\n",
    "\n",
    "def benchmark(i):\n",
    "    numel = 2 ** i\n",
    "    size = numel * 2\n",
    "    unit = 'us'\n",
    "    time = size/ GB / GB_per_s * 1e6\n",
    "    if time > 1000:\n",
    "        time /= 1000\n",
    "        unit = 'ms'\n",
    "    print(\"numel:\", numel, 'expect:', round(time, 2), unit)\n",
    "    a = torch.randn(numel, device='cuda', dtype=torch.half)\n",
    "    torch.cuda.synchronize()\n",
    "    %timeit a.sum(); torch.cuda.synchronize()\n",
    "    \n",
    "for i in range(15, 32):\n",
    "    benchmark(i)"
   ]
  },
  {
   "cell_type": "markdown",
   "metadata": {},
   "source": [
    "# 256"
   ]
  },
  {
   "cell_type": "code",
   "execution_count": 1,
   "metadata": {},
   "outputs": [
    {
     "name": "stdout",
     "output_type": "stream",
     "text": [
      "1.6.0a0+4b7cd69\n",
      "numel: 32768 expect: 0.1 us\n",
      "14.6 µs ± 655 ns per loop (mean ± std. dev. of 7 runs, 100000 loops each)\n",
      "numel: 65536 expect: 0.2 us\n",
      "17.4 µs ± 1.18 µs per loop (mean ± std. dev. of 7 runs, 100000 loops each)\n",
      "numel: 131072 expect: 0.4 us\n",
      "17.3 µs ± 1.13 µs per loop (mean ± std. dev. of 7 runs, 100000 loops each)\n",
      "numel: 262144 expect: 0.79 us\n",
      "17.5 µs ± 1.04 µs per loop (mean ± std. dev. of 7 runs, 100000 loops each)\n",
      "numel: 524288 expect: 1.59 us\n",
      "17.3 µs ± 493 ns per loop (mean ± std. dev. of 7 runs, 100000 loops each)\n",
      "numel: 1048576 expect: 3.17 us\n",
      "17.4 µs ± 739 ns per loop (mean ± std. dev. of 7 runs, 100000 loops each)\n",
      "numel: 2097152 expect: 6.34 us\n",
      "18.5 µs ± 832 ns per loop (mean ± std. dev. of 7 runs, 100000 loops each)\n",
      "numel: 4194304 expect: 12.68 us\n",
      "32.2 µs ± 1.91 µs per loop (mean ± std. dev. of 7 runs, 10000 loops each)\n",
      "numel: 8388608 expect: 25.37 us\n",
      "48.4 µs ± 1.39 µs per loop (mean ± std. dev. of 7 runs, 10000 loops each)\n",
      "numel: 16777216 expect: 50.73 us\n",
      "79.5 µs ± 4.96 µs per loop (mean ± std. dev. of 7 runs, 10000 loops each)\n",
      "numel: 33554432 expect: 101.46 us\n",
      "139 µs ± 13 µs per loop (mean ± std. dev. of 7 runs, 10000 loops each)\n",
      "numel: 67108864 expect: 202.92 us\n",
      "251 µs ± 2.82 µs per loop (mean ± std. dev. of 7 runs, 1000 loops each)\n",
      "numel: 134217728 expect: 405.84 us\n",
      "482 µs ± 203 ns per loop (mean ± std. dev. of 7 runs, 1000 loops each)\n",
      "numel: 268435456 expect: 811.69 us\n",
      "967 µs ± 40.3 µs per loop (mean ± std. dev. of 7 runs, 1000 loops each)\n",
      "numel: 536870912 expect: 1.62 ms\n",
      "1.94 ms ± 77.5 µs per loop (mean ± std. dev. of 7 runs, 100 loops each)\n",
      "numel: 1073741824 expect: 3.25 ms\n",
      "4.17 ms ± 19.2 µs per loop (mean ± std. dev. of 7 runs, 100 loops each)\n",
      "numel: 2147483648 expect: 6.49 ms\n",
      "7.52 ms ± 102 µs per loop (mean ± std. dev. of 7 runs, 100 loops each)\n"
     ]
    }
   ],
   "source": [
    "import torch\n",
    "print(torch.__version__)\n",
    "\n",
    "GB_per_s = 616\n",
    "GB = 1024 * 1024 * 1024\n",
    "\n",
    "for i in range(1000):\n",
    "    torch.arange(10000, device='cuda')\n",
    "\n",
    "def benchmark(i):\n",
    "    numel = 2 ** i\n",
    "    size = numel * 2\n",
    "    unit = 'us'\n",
    "    time = size/ GB / GB_per_s * 1e6\n",
    "    if time > 1000:\n",
    "        time /= 1000\n",
    "        unit = 'ms'\n",
    "    print(\"numel:\", numel, 'expect:', round(time, 2), unit)\n",
    "    a = torch.randn(numel, device='cuda', dtype=torch.half)\n",
    "    torch.cuda.synchronize()\n",
    "    %timeit a.sum(); torch.cuda.synchronize()\n",
    "\n",
    "for i in range(15, 32):\n",
    "    benchmark(i)"
   ]
  },
  {
   "cell_type": "markdown",
   "metadata": {},
   "source": [
    "# 128"
   ]
  },
  {
   "cell_type": "code",
   "execution_count": 1,
   "metadata": {},
   "outputs": [
    {
     "name": "stdout",
     "output_type": "stream",
     "text": [
      "1.6.0a0+4b7cd69\n",
      "numel: 32768 expect: 0.1 us\n",
      "15.7 µs ± 678 ns per loop (mean ± std. dev. of 7 runs, 100000 loops each)\n",
      "numel: 65536 expect: 0.2 us\n",
      "17.5 µs ± 69.9 ns per loop (mean ± std. dev. of 7 runs, 100000 loops each)\n",
      "numel: 131072 expect: 0.4 us\n",
      "17.5 µs ± 72.3 ns per loop (mean ± std. dev. of 7 runs, 100000 loops each)\n",
      "numel: 262144 expect: 0.79 us\n",
      "17.3 µs ± 329 ns per loop (mean ± std. dev. of 7 runs, 100000 loops each)\n",
      "numel: 524288 expect: 1.59 us\n",
      "17.2 µs ± 42.1 ns per loop (mean ± std. dev. of 7 runs, 100000 loops each)\n",
      "numel: 1048576 expect: 3.17 us\n",
      "17.6 µs ± 231 ns per loop (mean ± std. dev. of 7 runs, 100000 loops each)\n",
      "numel: 2097152 expect: 6.34 us\n",
      "18.4 µs ± 46.8 ns per loop (mean ± std. dev. of 7 runs, 100000 loops each)\n",
      "numel: 4194304 expect: 12.68 us\n",
      "31.3 µs ± 149 ns per loop (mean ± std. dev. of 7 runs, 10000 loops each)\n",
      "numel: 8388608 expect: 25.37 us\n",
      "45.9 µs ± 153 ns per loop (mean ± std. dev. of 7 runs, 10000 loops each)\n",
      "numel: 16777216 expect: 50.73 us\n",
      "76.8 µs ± 121 ns per loop (mean ± std. dev. of 7 runs, 10000 loops each)\n",
      "numel: 33554432 expect: 101.46 us\n",
      "136 µs ± 511 ns per loop (mean ± std. dev. of 7 runs, 10000 loops each)\n",
      "numel: 67108864 expect: 202.92 us\n",
      "254 µs ± 1.37 µs per loop (mean ± std. dev. of 7 runs, 1000 loops each)\n",
      "numel: 134217728 expect: 405.84 us\n",
      "489 µs ± 1.15 µs per loop (mean ± std. dev. of 7 runs, 1000 loops each)\n",
      "numel: 268435456 expect: 811.69 us\n",
      "956 µs ± 1.59 µs per loop (mean ± std. dev. of 7 runs, 1000 loops each)\n",
      "numel: 536870912 expect: 1.62 ms\n",
      "1.89 ms ± 1.67 µs per loop (mean ± std. dev. of 7 runs, 1000 loops each)\n",
      "numel: 1073741824 expect: 3.25 ms\n",
      "4.06 ms ± 219 µs per loop (mean ± std. dev. of 7 runs, 100 loops each)\n",
      "numel: 2147483648 expect: 6.49 ms\n",
      "8.4 ms ± 996 µs per loop (mean ± std. dev. of 7 runs, 100 loops each)\n"
     ]
    }
   ],
   "source": [
    "import torch\n",
    "print(torch.__version__)\n",
    "\n",
    "GB_per_s = 616\n",
    "GB = 1024 * 1024 * 1024\n",
    "\n",
    "for i in range(1000):\n",
    "    torch.arange(10000, device='cuda')\n",
    "\n",
    "def benchmark(i):\n",
    "    numel = 2 ** i\n",
    "    size = numel * 2\n",
    "    unit = 'us'\n",
    "    time = size/ GB / GB_per_s * 1e6\n",
    "    if time > 1000:\n",
    "        time /= 1000\n",
    "        unit = 'ms'\n",
    "    print(\"numel:\", numel, 'expect:', round(time, 2), unit)\n",
    "    a = torch.randn(numel, device='cuda', dtype=torch.half)\n",
    "    torch.cuda.synchronize()\n",
    "    %timeit a.sum(); torch.cuda.synchronize()\n",
    "\n",
    "for i in range(15, 32):\n",
    "    benchmark(i)"
   ]
  },
  {
   "cell_type": "code",
   "execution_count": null,
   "metadata": {},
   "outputs": [],
   "source": []
  }
 ],
 "metadata": {
  "kernelspec": {
   "display_name": "Python 3",
   "language": "python",
   "name": "python3"
  },
  "language_info": {
   "codemirror_mode": {
    "name": "ipython",
    "version": 3
   },
   "file_extension": ".py",
   "mimetype": "text/x-python",
   "name": "python",
   "nbconvert_exporter": "python",
   "pygments_lexer": "ipython3",
   "version": "3.8.2"
  }
 },
 "nbformat": 4,
 "nbformat_minor": 4
}
