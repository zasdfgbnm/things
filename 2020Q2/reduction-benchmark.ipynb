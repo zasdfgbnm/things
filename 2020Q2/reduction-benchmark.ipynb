{
 "cells": [
  {
   "cell_type": "code",
   "execution_count": 1,
   "metadata": {},
   "outputs": [
    {
     "name": "stdout",
     "output_type": "stream",
     "text": [
      "1.6.0a0+e5746ee\n",
      "numel: 32768 expect: 0.1 us\n",
      "15.4 µs ± 819 ns per loop (mean ± std. dev. of 7 runs, 100000 loops each)\n",
      "numel: 65536 expect: 0.2 us\n",
      "18.3 µs ± 759 ns per loop (mean ± std. dev. of 7 runs, 10000 loops each)\n",
      "numel: 131072 expect: 0.4 us\n",
      "16.8 µs ± 456 ns per loop (mean ± std. dev. of 7 runs, 100000 loops each)\n",
      "numel: 262144 expect: 0.79 us\n",
      "16.7 µs ± 315 ns per loop (mean ± std. dev. of 7 runs, 100000 loops each)\n",
      "numel: 524288 expect: 1.59 us\n",
      "16.9 µs ± 388 ns per loop (mean ± std. dev. of 7 runs, 100000 loops each)\n",
      "numel: 1048576 expect: 3.17 us\n",
      "17.3 µs ± 321 ns per loop (mean ± std. dev. of 7 runs, 100000 loops each)\n",
      "numel: 2097152 expect: 6.34 us\n",
      "20.1 µs ± 213 ns per loop (mean ± std. dev. of 7 runs, 10000 loops each)\n",
      "numel: 4194304 expect: 12.68 us\n",
      "34.3 µs ± 83.9 ns per loop (mean ± std. dev. of 7 runs, 10000 loops each)\n",
      "numel: 8388608 expect: 25.37 us\n",
      "49.8 µs ± 41.1 ns per loop (mean ± std. dev. of 7 runs, 10000 loops each)\n",
      "numel: 16777216 expect: 50.73 us\n",
      "83 µs ± 56.8 ns per loop (mean ± std. dev. of 7 runs, 10000 loops each)\n",
      "numel: 33554432 expect: 101.46 us\n",
      "146 µs ± 35.8 ns per loop (mean ± std. dev. of 7 runs, 10000 loops each)\n",
      "numel: 67108864 expect: 202.92 us\n",
      "274 µs ± 144 ns per loop (mean ± std. dev. of 7 runs, 1000 loops each)\n",
      "numel: 134217728 expect: 405.84 us\n",
      "534 µs ± 207 ns per loop (mean ± std. dev. of 7 runs, 1000 loops each)\n",
      "numel: 268435456 expect: 811.69 us\n",
      "1.06 ms ± 225 ns per loop (mean ± std. dev. of 7 runs, 1000 loops each)\n",
      "numel: 536870912 expect: 1.62 ms\n",
      "2.09 ms ± 21.5 µs per loop (mean ± std. dev. of 7 runs, 100 loops each)\n"
     ]
    }
   ],
   "source": [
    "import torch\n",
    "print(torch.__version__)\n",
    "\n",
    "GB_per_s = 616\n",
    "GB = 1024 * 1024 * 1024\n",
    "\n",
    "for i in range(1000):\n",
    "    torch.arange(10000, device='cuda')\n",
    "\n",
    "def benchmark(i):\n",
    "    numel = 2 ** i\n",
    "    size = numel * 2\n",
    "    unit = 'us'\n",
    "    time = size/ GB / 616 * 1e6\n",
    "    if time > 1000:\n",
    "        time /= 1000\n",
    "        unit = 'ms'\n",
    "    print(\"numel:\", numel, 'expect:', round(time, 2), unit)\n",
    "    a = torch.randn(numel, device='cuda', dtype=torch.half)\n",
    "    torch.cuda.synchronize()\n",
    "    %timeit a.sum(); torch.cuda.synchronize()\n",
    "    \n",
    "for i in range(15, 30):\n",
    "    benchmark(i)"
   ]
  },
  {
   "cell_type": "code",
   "execution_count": 1,
   "metadata": {
    "scrolled": false
   },
   "outputs": [
    {
     "name": "stdout",
     "output_type": "stream",
     "text": [
      "1.6.0a0+2fa3c15\n",
      "numel: 32768 expect: 0.1 us\n",
      "15 µs ± 668 ns per loop (mean ± std. dev. of 7 runs, 100000 loops each)\n",
      "numel: 65536 expect: 0.2 us\n",
      "18.4 µs ± 348 ns per loop (mean ± std. dev. of 7 runs, 100000 loops each)\n",
      "numel: 131072 expect: 0.4 us\n",
      "17 µs ± 485 ns per loop (mean ± std. dev. of 7 runs, 100000 loops each)\n",
      "numel: 262144 expect: 0.79 us\n",
      "19.5 µs ± 966 ns per loop (mean ± std. dev. of 7 runs, 100000 loops each)\n",
      "numel: 524288 expect: 1.59 us\n",
      "20.2 µs ± 125 ns per loop (mean ± std. dev. of 7 runs, 10000 loops each)\n",
      "numel: 1048576 expect: 3.17 us\n",
      "21 µs ± 507 ns per loop (mean ± std. dev. of 7 runs, 10000 loops each)\n",
      "numel: 2097152 expect: 6.34 us\n",
      "23.8 µs ± 3.05 µs per loop (mean ± std. dev. of 7 runs, 10000 loops each)\n",
      "numel: 4194304 expect: 12.68 us\n",
      "35.3 µs ± 1.16 µs per loop (mean ± std. dev. of 7 runs, 10000 loops each)\n",
      "numel: 8388608 expect: 25.37 us\n",
      "54 µs ± 2.89 µs per loop (mean ± std. dev. of 7 runs, 10000 loops each)\n",
      "numel: 16777216 expect: 50.73 us\n",
      "85.2 µs ± 2.23 µs per loop (mean ± std. dev. of 7 runs, 10000 loops each)\n",
      "numel: 33554432 expect: 101.46 us\n",
      "143 µs ± 3.29 µs per loop (mean ± std. dev. of 7 runs, 10000 loops each)\n",
      "numel: 67108864 expect: 202.92 us\n",
      "254 µs ± 211 ns per loop (mean ± std. dev. of 7 runs, 1000 loops each)\n",
      "numel: 134217728 expect: 405.84 us\n",
      "503 µs ± 17.9 µs per loop (mean ± std. dev. of 7 runs, 1000 loops each)\n",
      "numel: 268435456 expect: 811.69 us\n",
      "978 µs ± 34.2 µs per loop (mean ± std. dev. of 7 runs, 1000 loops each)\n",
      "numel: 536870912 expect: 1.62 ms\n",
      "2.11 ms ± 89.1 µs per loop (mean ± std. dev. of 7 runs, 100 loops each)\n"
     ]
    }
   ],
   "source": [
    "import torch\n",
    "print(torch.__version__)\n",
    "\n",
    "GB_per_s = 616\n",
    "GB = 1024 * 1024 * 1024\n",
    "\n",
    "for i in range(1000):\n",
    "    torch.arange(10000, device='cuda')\n",
    "\n",
    "def benchmark(i):\n",
    "    numel = 2 ** i\n",
    "    size = numel * 2\n",
    "    unit = 'us'\n",
    "    time = size/ GB / 616 * 1e6\n",
    "    if time > 1000:\n",
    "        time /= 1000\n",
    "        unit = 'ms'\n",
    "    print(\"numel:\", numel, 'expect:', round(time, 2), unit)\n",
    "    a = torch.randn(numel, device='cuda', dtype=torch.half)\n",
    "    torch.cuda.synchronize()\n",
    "    %timeit a.sum(); torch.cuda.synchronize()\n",
    "    \n",
    "for i in range(15, 30):\n",
    "    benchmark(i)"
   ]
  },
  {
   "cell_type": "code",
   "execution_count": null,
   "metadata": {},
   "outputs": [],
   "source": []
  }
 ],
 "metadata": {
  "kernelspec": {
   "display_name": "Python 3",
   "language": "python",
   "name": "python3"
  },
  "language_info": {
   "codemirror_mode": {
    "name": "ipython",
    "version": 3
   },
   "file_extension": ".py",
   "mimetype": "text/x-python",
   "name": "python",
   "nbconvert_exporter": "python",
   "pygments_lexer": "ipython3",
   "version": "3.8.2"
  }
 },
 "nbformat": 4,
 "nbformat_minor": 4
}
