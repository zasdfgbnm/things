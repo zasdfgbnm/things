{
 "cells": [
  {
   "cell_type": "markdown",
   "metadata": {},
   "source": [
    "# Before"
   ]
  },
  {
   "cell_type": "code",
   "execution_count": 1,
   "metadata": {},
   "outputs": [
    {
     "name": "stdout",
     "output_type": "stream",
     "text": [
      "1.6.0a0+7b04772\n",
      "numel: 32768 expect: 0.07 us\n",
      "23.8 µs ± 64.7 ns per loop (mean ± std. dev. of 7 runs, 10000 loops each)\n",
      "numel: 65536 expect: 0.14 us\n",
      "27 µs ± 39.9 ns per loop (mean ± std. dev. of 7 runs, 10000 loops each)\n",
      "numel: 131072 expect: 0.27 us\n",
      "24.8 µs ± 55.8 ns per loop (mean ± std. dev. of 7 runs, 10000 loops each)\n",
      "numel: 262144 expect: 0.54 us\n",
      "24.9 µs ± 55.8 ns per loop (mean ± std. dev. of 7 runs, 10000 loops each)\n",
      "numel: 524288 expect: 1.09 us\n",
      "24.8 µs ± 65.7 ns per loop (mean ± std. dev. of 7 runs, 10000 loops each)\n",
      "numel: 1048576 expect: 2.17 us\n",
      "25.4 µs ± 63.7 ns per loop (mean ± std. dev. of 7 runs, 10000 loops each)\n",
      "numel: 2097152 expect: 4.34 us\n",
      "27.4 µs ± 86.7 ns per loop (mean ± std. dev. of 7 runs, 10000 loops each)\n",
      "numel: 4194304 expect: 8.68 us\n",
      "37.5 µs ± 104 ns per loop (mean ± std. dev. of 7 runs, 10000 loops each)\n",
      "numel: 8388608 expect: 17.36 us\n",
      "49.7 µs ± 55.4 ns per loop (mean ± std. dev. of 7 runs, 10000 loops each)\n",
      "numel: 16777216 expect: 34.72 us\n",
      "70.3 µs ± 48.9 ns per loop (mean ± std. dev. of 7 runs, 10000 loops each)\n",
      "numel: 33554432 expect: 69.44 us\n",
      "112 µs ± 68.4 ns per loop (mean ± std. dev. of 7 runs, 10000 loops each)\n",
      "numel: 67108864 expect: 138.89 us\n",
      "196 µs ± 103 ns per loop (mean ± std. dev. of 7 runs, 10000 loops each)\n",
      "numel: 134217728 expect: 277.78 us\n",
      "365 µs ± 107 ns per loop (mean ± std. dev. of 7 runs, 1000 loops each)\n",
      "numel: 268435456 expect: 555.56 us\n",
      "703 µs ± 65 ns per loop (mean ± std. dev. of 7 runs, 1000 loops each)\n",
      "numel: 536870912 expect: 1.11 ms\n",
      "1.37 ms ± 188 ns per loop (mean ± std. dev. of 7 runs, 1000 loops each)\n"
     ]
    }
   ],
   "source": [
    "import torch\n",
    "print(torch.__version__)\n",
    "\n",
    "GB_per_s = 900\n",
    "GB = 1024 * 1024 * 1024\n",
    "\n",
    "for i in range(1000):\n",
    "    torch.arange(10000, device='cuda')\n",
    "\n",
    "def benchmark(i):\n",
    "    numel = 2 ** i\n",
    "    size = numel * 2\n",
    "    unit = 'us'\n",
    "    time = size/ GB / GB_per_s * 1e6\n",
    "    if time > 1000:\n",
    "        time /= 1000\n",
    "        unit = 'ms'\n",
    "    print(\"numel:\", numel, 'expect:', round(time, 2), unit)\n",
    "    a = torch.randn(numel, device='cuda', dtype=torch.half)\n",
    "    torch.cuda.synchronize()\n",
    "    %timeit a.sum(); torch.cuda.synchronize()\n",
    "    \n",
    "for i in range(15, 30):\n",
    "    benchmark(i)"
   ]
  },
  {
   "cell_type": "markdown",
   "metadata": {},
   "source": [
    "# After"
   ]
  },
  {
   "cell_type": "code",
   "execution_count": 1,
   "metadata": {
    "scrolled": false
   },
   "outputs": [
    {
     "name": "stdout",
     "output_type": "stream",
     "text": [
      "1.6.0a0+7b04772\n",
      "numel: 32768 expect: 0.07 us\n",
      "23.1 µs ± 44.4 ns per loop (mean ± std. dev. of 7 runs, 10000 loops each)\n",
      "numel: 65536 expect: 0.14 us\n",
      "26.4 µs ± 38.1 ns per loop (mean ± std. dev. of 7 runs, 10000 loops each)\n",
      "numel: 131072 expect: 0.27 us\n",
      "23.8 µs ± 55.7 ns per loop (mean ± std. dev. of 7 runs, 10000 loops each)\n",
      "numel: 262144 expect: 0.54 us\n",
      "23.8 µs ± 56.3 ns per loop (mean ± std. dev. of 7 runs, 10000 loops each)\n",
      "numel: 524288 expect: 1.09 us\n",
      "24.1 µs ± 42.6 ns per loop (mean ± std. dev. of 7 runs, 10000 loops each)\n",
      "numel: 1048576 expect: 2.17 us\n",
      "25.5 µs ± 57.4 ns per loop (mean ± std. dev. of 7 runs, 10000 loops each)\n",
      "numel: 2097152 expect: 4.34 us\n",
      "27 µs ± 34.8 ns per loop (mean ± std. dev. of 7 runs, 10000 loops each)\n",
      "numel: 4194304 expect: 8.68 us\n",
      "36.9 µs ± 42.5 ns per loop (mean ± std. dev. of 7 runs, 10000 loops each)\n",
      "numel: 8388608 expect: 17.36 us\n",
      "49.1 µs ± 41.4 ns per loop (mean ± std. dev. of 7 runs, 10000 loops each)\n",
      "numel: 16777216 expect: 34.72 us\n",
      "70 µs ± 45.7 ns per loop (mean ± std. dev. of 7 runs, 10000 loops each)\n",
      "numel: 33554432 expect: 69.44 us\n",
      "112 µs ± 33.3 ns per loop (mean ± std. dev. of 7 runs, 10000 loops each)\n",
      "numel: 67108864 expect: 138.89 us\n",
      "184 µs ± 51.1 ns per loop (mean ± std. dev. of 7 runs, 10000 loops each)\n",
      "numel: 134217728 expect: 277.78 us\n",
      "335 µs ± 705 ns per loop (mean ± std. dev. of 7 runs, 1000 loops each)\n",
      "numel: 268435456 expect: 555.56 us\n",
      "639 µs ± 133 ns per loop (mean ± std. dev. of 7 runs, 1000 loops each)\n",
      "numel: 536870912 expect: 1.11 ms\n",
      "1.25 ms ± 41.8 ns per loop (mean ± std. dev. of 7 runs, 1000 loops each)\n"
     ]
    }
   ],
   "source": [
    "import torch\n",
    "print(torch.__version__)\n",
    "\n",
    "GB_per_s = 900\n",
    "GB = 1024 * 1024 * 1024\n",
    "\n",
    "for i in range(1000):\n",
    "    torch.arange(10000, device='cuda')\n",
    "\n",
    "def benchmark(i):\n",
    "    numel = 2 ** i\n",
    "    size = numel * 2\n",
    "    unit = 'us'\n",
    "    time = size/ GB / GB_per_s * 1e6\n",
    "    if time > 1000:\n",
    "        time /= 1000\n",
    "        unit = 'ms'\n",
    "    print(\"numel:\", numel, 'expect:', round(time, 2), unit)\n",
    "    a = torch.randn(numel, device='cuda', dtype=torch.half)\n",
    "    torch.cuda.synchronize()\n",
    "    %timeit a.sum(); torch.cuda.synchronize()\n",
    "    \n",
    "for i in range(15, 30):\n",
    "    benchmark(i)"
   ]
  },
  {
   "cell_type": "code",
   "execution_count": null,
   "metadata": {},
   "outputs": [],
   "source": []
  }
 ],
 "metadata": {
  "kernelspec": {
   "display_name": "Python 3",
   "language": "python",
   "name": "python3"
  },
  "language_info": {
   "codemirror_mode": {
    "name": "ipython",
    "version": 3
   },
   "file_extension": ".py",
   "mimetype": "text/x-python",
   "name": "python",
   "nbconvert_exporter": "python",
   "pygments_lexer": "ipython3",
   "version": "3.7.3"
  }
 },
 "nbformat": 4,
 "nbformat_minor": 4
}
